{
 "cells": [
  {
   "cell_type": "code",
   "execution_count": 1,
   "id": "f0cc6821",
   "metadata": {},
   "outputs": [],
   "source": [
    "import matplotlib\n",
    "import warnings\n",
    "import re\n",
    "import pandas as pd \n",
    "import numpy as np\n",
    "import seaborn as sns\n",
    "import matplotlib.pyplot as plt\n",
    "\n",
    "from sklearn.cluster import KMeans\n",
    "from sklearn.metrics import silhouette_score\n",
    "from sklearn.preprocessing import StandardScaler,MinMaxScaler\n",
    "\n",
    "%matplotlib inline\n",
    "plt.rcParams['font.sans-serif']='SimHei'\n",
    "plt.rcParams['axes.unicode_minus']=False\n",
    "matplotlib.rcParams.update({'font.size':16})\n",
    "plt.style.use('ggplot')\n",
    "warnings.filterwarnings('ignore')"
   ]
  },
  {
   "cell_type": "markdown",
   "id": "94147131",
   "metadata": {},
   "source": [
    "### 任务1. 项目背景\n",
    "\n",
    "#### 1.1 项目背景与挖掘目标"
   ]
  },
  {
   "cell_type": "code",
   "execution_count": 2,
   "id": "bbefdbe4",
   "metadata": {},
   "outputs": [
    {
     "data": {
      "text/html": [
       "<div>\n",
       "<style scoped>\n",
       "    .dataframe tbody tr th:only-of-type {\n",
       "        vertical-align: middle;\n",
       "    }\n",
       "\n",
       "    .dataframe tbody tr th {\n",
       "        vertical-align: top;\n",
       "    }\n",
       "\n",
       "    .dataframe thead th {\n",
       "        text-align: right;\n",
       "    }\n",
       "</style>\n",
       "<table border=\"1\" class=\"dataframe\">\n",
       "  <thead>\n",
       "    <tr style=\"text-align: right;\">\n",
       "      <th></th>\n",
       "      <th>会员卡号</th>\n",
       "      <th>出生日期</th>\n",
       "      <th>性别</th>\n",
       "      <th>登记时间</th>\n",
       "    </tr>\n",
       "  </thead>\n",
       "  <tbody>\n",
       "    <tr>\n",
       "      <th>0</th>\n",
       "      <td>c68b20b4</td>\n",
       "      <td>2002-11-02 00:00:00</td>\n",
       "      <td>0.0</td>\n",
       "      <td>2013-05-11 00:00:00.000</td>\n",
       "    </tr>\n",
       "    <tr>\n",
       "      <th>1</th>\n",
       "      <td>1ca15332</td>\n",
       "      <td>NaN</td>\n",
       "      <td>0.0</td>\n",
       "      <td>2004-11-04 16:31:52.436</td>\n",
       "    </tr>\n",
       "    <tr>\n",
       "      <th>2</th>\n",
       "      <td>a37cc182</td>\n",
       "      <td>1967-02-17 00:00:00</td>\n",
       "      <td>0.0</td>\n",
       "      <td>2004-12-31 21:24:34.216</td>\n",
       "    </tr>\n",
       "    <tr>\n",
       "      <th>3</th>\n",
       "      <td>2ab88539</td>\n",
       "      <td>1982-06-01 00:00:00</td>\n",
       "      <td>0.0</td>\n",
       "      <td>2010-11-19 00:00:00.000</td>\n",
       "    </tr>\n",
       "    <tr>\n",
       "      <th>4</th>\n",
       "      <td>b4c77269</td>\n",
       "      <td>1964-02-05 00:00:00</td>\n",
       "      <td>0.0</td>\n",
       "      <td>2007-12-14 00:00:00.000</td>\n",
       "    </tr>\n",
       "  </tbody>\n",
       "</table>\n",
       "</div>"
      ],
      "text/plain": [
       "       会员卡号                 出生日期   性别                    登记时间\n",
       "0  c68b20b4  2002-11-02 00:00:00  0.0 2013-05-11 00:00:00.000\n",
       "1  1ca15332                  NaN  0.0 2004-11-04 16:31:52.436\n",
       "2  a37cc182  1967-02-17 00:00:00  0.0 2004-12-31 21:24:34.216\n",
       "3  2ab88539  1982-06-01 00:00:00  0.0 2010-11-19 00:00:00.000\n",
       "4  b4c77269  1964-02-05 00:00:00  0.0 2007-12-14 00:00:00.000"
      ]
     },
     "execution_count": 2,
     "metadata": {},
     "output_type": "execute_result"
    }
   ],
   "source": [
    "#查看会员信息表\n",
    "df_cum=pd.read_excel('./data/cumcm2018c1.xlsx')\n",
    "df_cum.head()"
   ]
  },
  {
   "cell_type": "code",
   "execution_count": 3,
   "id": "c6387bad",
   "metadata": {},
   "outputs": [
    {
     "data": {
      "text/html": [
       "<div>\n",
       "<style scoped>\n",
       "    .dataframe tbody tr th:only-of-type {\n",
       "        vertical-align: middle;\n",
       "    }\n",
       "\n",
       "    .dataframe tbody tr th {\n",
       "        vertical-align: top;\n",
       "    }\n",
       "\n",
       "    .dataframe thead th {\n",
       "        text-align: right;\n",
       "    }\n",
       "</style>\n",
       "<table border=\"1\" class=\"dataframe\">\n",
       "  <thead>\n",
       "    <tr style=\"text-align: right;\">\n",
       "      <th></th>\n",
       "      <th>会员卡号</th>\n",
       "      <th>消费产生的时间</th>\n",
       "      <th>商品编码</th>\n",
       "      <th>销售数量</th>\n",
       "      <th>商品售价</th>\n",
       "      <th>消费金额</th>\n",
       "      <th>商品名称</th>\n",
       "      <th>此次消费的会员积分</th>\n",
       "      <th>收银机号</th>\n",
       "      <th>单据号</th>\n",
       "      <th>柜组编码</th>\n",
       "      <th>柜组名称</th>\n",
       "    </tr>\n",
       "  </thead>\n",
       "  <tbody>\n",
       "    <tr>\n",
       "      <th>0</th>\n",
       "      <td>1be1e3fe</td>\n",
       "      <td>2015-01-01 00:05:41.593</td>\n",
       "      <td>f09c9303</td>\n",
       "      <td>1</td>\n",
       "      <td>290.0</td>\n",
       "      <td>270.20</td>\n",
       "      <td>兰芝化妆品正价瓶</td>\n",
       "      <td>270.20</td>\n",
       "      <td>6</td>\n",
       "      <td>25bb</td>\n",
       "      <td>8077.0</td>\n",
       "      <td>兰芝柜</td>\n",
       "    </tr>\n",
       "    <tr>\n",
       "      <th>1</th>\n",
       "      <td>1be1e3fe</td>\n",
       "      <td>2015-01-01 00:05:41.593</td>\n",
       "      <td>f09c9303</td>\n",
       "      <td>1</td>\n",
       "      <td>325.0</td>\n",
       "      <td>302.80</td>\n",
       "      <td>兰芝化妆品正价瓶</td>\n",
       "      <td>302.80</td>\n",
       "      <td>6</td>\n",
       "      <td>25bb</td>\n",
       "      <td>8077.0</td>\n",
       "      <td>兰芝柜</td>\n",
       "    </tr>\n",
       "    <tr>\n",
       "      <th>2</th>\n",
       "      <td>1be1e3fe</td>\n",
       "      <td>2015-01-01 00:05:41.593</td>\n",
       "      <td>f09c9303</td>\n",
       "      <td>1</td>\n",
       "      <td>195.0</td>\n",
       "      <td>181.80</td>\n",
       "      <td>兰芝化妆品正价瓶</td>\n",
       "      <td>181.80</td>\n",
       "      <td>6</td>\n",
       "      <td>25bb</td>\n",
       "      <td>8077.0</td>\n",
       "      <td>兰芝柜</td>\n",
       "    </tr>\n",
       "    <tr>\n",
       "      <th>3</th>\n",
       "      <td>1be1e3fe</td>\n",
       "      <td>2015-01-01 00:05:41.593</td>\n",
       "      <td>f09c9303</td>\n",
       "      <td>1</td>\n",
       "      <td>270.0</td>\n",
       "      <td>251.55</td>\n",
       "      <td>兰芝化妆品正价瓶</td>\n",
       "      <td>251.55</td>\n",
       "      <td>6</td>\n",
       "      <td>25bb</td>\n",
       "      <td>8077.0</td>\n",
       "      <td>兰芝柜</td>\n",
       "    </tr>\n",
       "    <tr>\n",
       "      <th>4</th>\n",
       "      <td>1be1e3fe</td>\n",
       "      <td>2015-01-01 00:05:41.593</td>\n",
       "      <td>f09c9303</td>\n",
       "      <td>2</td>\n",
       "      <td>245.0</td>\n",
       "      <td>456.55</td>\n",
       "      <td>兰芝化妆品正价瓶</td>\n",
       "      <td>456.55</td>\n",
       "      <td>6</td>\n",
       "      <td>25bb</td>\n",
       "      <td>8077.0</td>\n",
       "      <td>兰芝柜</td>\n",
       "    </tr>\n",
       "  </tbody>\n",
       "</table>\n",
       "</div>"
      ],
      "text/plain": [
       "       会员卡号                  消费产生的时间      商品编码  销售数量   商品售价    消费金额      商品名称  \\\n",
       "0  1be1e3fe  2015-01-01 00:05:41.593  f09c9303     1  290.0  270.20  兰芝化妆品正价瓶   \n",
       "1  1be1e3fe  2015-01-01 00:05:41.593  f09c9303     1  325.0  302.80  兰芝化妆品正价瓶   \n",
       "2  1be1e3fe  2015-01-01 00:05:41.593  f09c9303     1  195.0  181.80  兰芝化妆品正价瓶   \n",
       "3  1be1e3fe  2015-01-01 00:05:41.593  f09c9303     1  270.0  251.55  兰芝化妆品正价瓶   \n",
       "4  1be1e3fe  2015-01-01 00:05:41.593  f09c9303     2  245.0  456.55  兰芝化妆品正价瓶   \n",
       "\n",
       "   此次消费的会员积分  收银机号   单据号    柜组编码 柜组名称  \n",
       "0     270.20     6  25bb  8077.0  兰芝柜  \n",
       "1     302.80     6  25bb  8077.0  兰芝柜  \n",
       "2     181.80     6  25bb  8077.0  兰芝柜  \n",
       "3     251.55     6  25bb  8077.0  兰芝柜  \n",
       "4     456.55     6  25bb  8077.0  兰芝柜  "
      ]
     },
     "execution_count": 3,
     "metadata": {},
     "output_type": "execute_result"
    }
   ],
   "source": [
    "#查看销售流水表\n",
    "df_sale=pd.read_csv('./data/cumcm2018c2.csv',encoding='utf8')\n",
    "df_sale.head()"
   ]
  },
  {
   "cell_type": "markdown",
   "id": "e039e767",
   "metadata": {},
   "source": [
    "### 2. 数据探索与预处理\n",
    "\n",
    "#### 2.1 结合业务对数据进行探索和预处理\n",
    "\n",
    "- 会员信息表数据探索与预处理"
   ]
  },
  {
   "cell_type": "code",
   "execution_count": 6,
   "id": "506a4fb8",
   "metadata": {},
   "outputs": [
    {
     "data": {
      "text/plain": [
       "(194760, 4)"
      ]
     },
     "execution_count": 6,
     "metadata": {},
     "output_type": "execute_result"
    }
   ],
   "source": [
    "#先对会员信息表进行分析\n",
    "df_cum.shape\n",
    "\n",
    "\n"
   ]
  },
  {
   "cell_type": "code",
   "execution_count": 7,
   "id": "7109ae2b",
   "metadata": {},
   "outputs": [
    {
     "data": {
      "text/plain": [
       "会员卡号        0\n",
       "出生日期    34188\n",
       "性别       9435\n",
       "登记时间    12684\n",
       "dtype: int64"
      ]
     },
     "execution_count": 7,
     "metadata": {},
     "output_type": "execute_result"
    }
   ],
   "source": [
    "df_cum.isnull().sum()"
   ]
  },
  {
   "cell_type": "code",
   "execution_count": 10,
   "id": "4dd4c761",
   "metadata": {},
   "outputs": [
    {
     "data": {
      "text/plain": [
       "194754"
      ]
     },
     "execution_count": 10,
     "metadata": {},
     "output_type": "execute_result"
    }
   ],
   "source": [
    "df_cum['会员卡号'].nunique()"
   ]
  },
  {
   "cell_type": "markdown",
   "id": "26227df7",
   "metadata": {},
   "source": [
    "从上面可以看出来，数据中会员卡号存在6个重复值，且会员登记时间缺失值占有1/20，需要去重去缺失值，可以采用众数来填充性别的缺失值"
   ]
  },
  {
   "cell_type": "markdown",
   "id": "edd86493",
   "metadata": {},
   "source": [
    "- 会员信息表去重"
   ]
  },
  {
   "cell_type": "code",
   "execution_count": 11,
   "id": "f737c7a5",
   "metadata": {},
   "outputs": [
    {
     "name": "stdout",
     "output_type": "stream",
     "text": [
      "会员卡号去重后有194754条记录\n"
     ]
    }
   ],
   "source": [
    "df_cum.drop_duplicates('会员卡号',inplace=True)\n",
    "print('会员卡号去重后有{}条记录'.format(len(df_cum.会员卡号.unique())))"
   ]
  },
  {
   "cell_type": "markdown",
   "id": "0b3eb95d",
   "metadata": {},
   "source": [
    "- 去除等级时间的缺失值"
   ]
  },
  {
   "cell_type": "code",
   "execution_count": 15,
   "id": "29887dc7",
   "metadata": {},
   "outputs": [
    {
     "data": {
      "text/plain": [
       "(182070, 4)"
      ]
     },
     "execution_count": 15,
     "metadata": {},
     "output_type": "execute_result"
    }
   ],
   "source": [
    "df_cum.dropna(subset=['登记时间'],inplace=True)\n",
    "df_cum.shape"
   ]
  },
  {
   "cell_type": "markdown",
   "id": "ebe1226b",
   "metadata": {},
   "source": [
    "- 性别采用众数填充"
   ]
  },
  {
   "cell_type": "code",
   "execution_count": 17,
   "id": "043f74af",
   "metadata": {},
   "outputs": [
    {
     "name": "stdout",
     "output_type": "stream",
     "text": [
      "<class 'pandas.core.frame.DataFrame'>\n",
      "Int64Index: 182070 entries, 0 to 194759\n",
      "Data columns (total 4 columns):\n",
      " #   Column  Non-Null Count   Dtype         \n",
      "---  ------  --------------   -----         \n",
      " 0   会员卡号    182070 non-null  object        \n",
      " 1   出生日期    154474 non-null  object        \n",
      " 2   性别      182070 non-null  float64       \n",
      " 3   登记时间    182070 non-null  datetime64[ns]\n",
      "dtypes: datetime64[ns](1), float64(1), object(2)\n",
      "memory usage: 6.9+ MB\n"
     ]
    }
   ],
   "source": [
    "df_cum['性别'].fillna(df_cum['性别'].mode().values[0],inplace=True)\n",
    "df_cum.info()"
   ]
  },
  {
   "cell_type": "markdown",
   "id": "a95da1c8",
   "metadata": {},
   "source": [
    "- 检测是否在登记时间这一字段存在异常值"
   ]
  },
  {
   "cell_type": "code",
   "execution_count": 19,
   "id": "da26fcbe",
   "metadata": {},
   "outputs": [
    {
     "data": {
      "text/plain": [
       "0        2013-05-12 00:00:00.000\n",
       "1        2004-11-05 16:31:52.436\n",
       "2        2005-01-01 21:24:34.216\n",
       "3        2010-11-20 00:00:00.000\n",
       "4        2007-12-15 00:00:00.000\n",
       "                   ...          \n",
       "194754   2013-10-30 00:00:00.000\n",
       "194756   2013-08-31 00:00:00.000\n",
       "194757   2014-03-19 00:00:00.000\n",
       "194758   2015-03-11 00:00:00.000\n",
       "194759   2010-08-10 00:00:00.000\n",
       "Name: 登记时间, Length: 182070, dtype: datetime64[ns]"
      ]
     },
     "execution_count": 19,
     "metadata": {},
     "output_type": "execute_result"
    }
   ],
   "source": [
    "df=df_cum['登记时间'] + pd.Timedelta(days=1)\n",
    "df"
   ]
  },
  {
   "cell_type": "code",
   "execution_count": 20,
   "id": "f8751cf0",
   "metadata": {},
   "outputs": [
    {
     "data": {
      "text/plain": [
       "会员卡号        0\n",
       "出生日期    27596\n",
       "性别          0\n",
       "登记时间        0\n",
       "dtype: int64"
      ]
     },
     "execution_count": 20,
     "metadata": {},
     "output_type": "execute_result"
    }
   ],
   "source": [
    "df_cum.isnull().sum()"
   ]
  },
  {
   "cell_type": "code",
   "execution_count": 23,
   "id": "c4b69376",
   "metadata": {},
   "outputs": [
    {
     "data": {
      "text/plain": [
       "1980    47142\n",
       "1970    43407\n",
       "1960    26678\n",
       "1750    16748\n",
       "1990    11811\n",
       "1950     7078\n",
       "1940      893\n",
       "2010      370\n",
       "2000      139\n",
       "1930      110\n",
       "1920       32\n",
       "1900       21\n",
       "1910        8\n",
       "1880        4\n",
       "1890        3\n",
       "1860        3\n",
       "5220        2\n",
       "1870        2\n",
       "1760        2\n",
       "1850        2\n",
       "9790        1\n",
       "1790        1\n",
       "2640        1\n",
       "1780        1\n",
       "8500        1\n",
       "8900        1\n",
       "7710        1\n",
       "5190        1\n",
       "9740        1\n",
       "1770        1\n",
       "5010        1\n",
       "2190        1\n",
       "9820        1\n",
       "9880        1\n",
       "1820        1\n",
       "8400        1\n",
       "8700        1\n",
       "9690        1\n",
       "6200        1\n",
       "Name: 年龄, dtype: int64"
      ]
     },
     "execution_count": 23,
     "metadata": {},
     "output_type": "execute_result"
    }
   ],
   "source": [
    "#由于出生日期缺失值比较多，故新创建一个数据集L保存出生日期和性别信息\n",
    "L=pd.DataFrame(df_cum.loc[df_cum['出生日期'].notnull(),['出生日期','性别']])\n",
    "L['年龄']=L['出生日期'].astype(str).apply(lambda x:x[:3]+'0')\n",
    "L.drop('出生日期',axis=1,inplace=True)\n",
    "L['年龄'].value_counts()"
   ]
  },
  {
   "cell_type": "markdown",
   "id": "d4ba4395",
   "metadata": {},
   "source": [
    "- 可以发现年龄这一列差异值较多，将超出范围的年龄行删除"
   ]
  },
  {
   "cell_type": "code",
   "execution_count": 24,
   "id": "3de6083f",
   "metadata": {},
   "outputs": [
    {
     "data": {
      "text/plain": [
       "1980    47142\n",
       "1970    43407\n",
       "1960    26678\n",
       "1990    11811\n",
       "1950     7078\n",
       "1940      893\n",
       "2010      370\n",
       "2000      139\n",
       "1930      110\n",
       "1920       32\n",
       "Name: 年龄, dtype: int64"
      ]
     },
     "execution_count": 24,
     "metadata": {},
     "output_type": "execute_result"
    }
   ],
   "source": [
    "L['年龄']=L['年龄'].astype(int)\n",
    "condition ='年龄 >=1920 and 年龄 <= 2020'\n",
    "L=L.query(condition)\n",
    "L.index=range(L.shape[0])\n",
    "L['年龄'].value_counts()"
   ]
  },
  {
   "cell_type": "markdown",
   "id": "09368ae6",
   "metadata": {},
   "source": [
    "- 因为出生日期不仅缺失值多，而且容易出错，且意义不大 将这列删除"
   ]
  },
  {
   "cell_type": "code",
   "execution_count": 25,
   "id": "bc349bdf",
   "metadata": {},
   "outputs": [
    {
     "name": "stdout",
     "output_type": "stream",
     "text": [
      "<class 'pandas.core.frame.DataFrame'>\n",
      "RangeIndex: 182070 entries, 0 to 182069\n",
      "Data columns (total 3 columns):\n",
      " #   Column  Non-Null Count   Dtype         \n",
      "---  ------  --------------   -----         \n",
      " 0   会员卡号    182070 non-null  object        \n",
      " 1   性别      182070 non-null  float64       \n",
      " 2   登记时间    182070 non-null  datetime64[ns]\n",
      "dtypes: datetime64[ns](1), float64(1), object(1)\n",
      "memory usage: 4.2+ MB\n"
     ]
    }
   ],
   "source": [
    "df_cum.drop('出生日期',axis=1,inplace=True)\n",
    "df_cum.index=range(df_cum.shape[0])\n",
    "df_cum.info()"
   ]
  },
  {
   "cell_type": "code",
   "execution_count": 26,
   "id": "20bcf3c4",
   "metadata": {},
   "outputs": [
    {
     "data": {
      "text/html": [
       "<div>\n",
       "<style scoped>\n",
       "    .dataframe tbody tr th:only-of-type {\n",
       "        vertical-align: middle;\n",
       "    }\n",
       "\n",
       "    .dataframe tbody tr th {\n",
       "        vertical-align: top;\n",
       "    }\n",
       "\n",
       "    .dataframe thead th {\n",
       "        text-align: right;\n",
       "    }\n",
       "</style>\n",
       "<table border=\"1\" class=\"dataframe\">\n",
       "  <thead>\n",
       "    <tr style=\"text-align: right;\">\n",
       "      <th></th>\n",
       "      <th>会员卡号</th>\n",
       "      <th>性别</th>\n",
       "      <th>登记时间</th>\n",
       "    </tr>\n",
       "  </thead>\n",
       "  <tbody>\n",
       "    <tr>\n",
       "      <th>0</th>\n",
       "      <td>c68b20b4</td>\n",
       "      <td>0.0</td>\n",
       "      <td>2013-05-11 00:00:00.000</td>\n",
       "    </tr>\n",
       "    <tr>\n",
       "      <th>1</th>\n",
       "      <td>1ca15332</td>\n",
       "      <td>0.0</td>\n",
       "      <td>2004-11-04 16:31:52.436</td>\n",
       "    </tr>\n",
       "    <tr>\n",
       "      <th>2</th>\n",
       "      <td>a37cc182</td>\n",
       "      <td>0.0</td>\n",
       "      <td>2004-12-31 21:24:34.216</td>\n",
       "    </tr>\n",
       "    <tr>\n",
       "      <th>3</th>\n",
       "      <td>2ab88539</td>\n",
       "      <td>0.0</td>\n",
       "      <td>2010-11-19 00:00:00.000</td>\n",
       "    </tr>\n",
       "    <tr>\n",
       "      <th>4</th>\n",
       "      <td>b4c77269</td>\n",
       "      <td>0.0</td>\n",
       "      <td>2007-12-14 00:00:00.000</td>\n",
       "    </tr>\n",
       "  </tbody>\n",
       "</table>\n",
       "</div>"
      ],
      "text/plain": [
       "       会员卡号   性别                    登记时间\n",
       "0  c68b20b4  0.0 2013-05-11 00:00:00.000\n",
       "1  1ca15332  0.0 2004-11-04 16:31:52.436\n",
       "2  a37cc182  0.0 2004-12-31 21:24:34.216\n",
       "3  2ab88539  0.0 2010-11-19 00:00:00.000\n",
       "4  b4c77269  0.0 2007-12-14 00:00:00.000"
      ]
     },
     "execution_count": 26,
     "metadata": {},
     "output_type": "execute_result"
    }
   ],
   "source": [
    "df_cum.head()"
   ]
  },
  {
   "cell_type": "markdown",
   "id": "af79f980",
   "metadata": {},
   "source": [
    "#### 销售流水表数据探索和预处理"
   ]
  },
  {
   "cell_type": "code",
   "execution_count": 29,
   "id": "3381eb5e",
   "metadata": {},
   "outputs": [
    {
     "data": {
      "text/plain": [
       "Index(['会员卡号', '消费产生的时间', '商品编码', '销售数量', '商品售价', '消费金额', '商品名称', '此次消费的会员积分',\n",
       "       '收银机号', '单据号', '柜组编码', '柜组名称'],\n",
       "      dtype='object')"
      ]
     },
     "execution_count": 29,
     "metadata": {},
     "output_type": "execute_result"
    }
   ],
   "source": [
    "df_sale.columns"
   ]
  },
  {
   "cell_type": "code",
   "execution_count": 30,
   "id": "39373125",
   "metadata": {},
   "outputs": [
    {
     "name": "stdout",
     "output_type": "stream",
     "text": [
      "<class 'pandas.core.frame.DataFrame'>\n",
      "RangeIndex: 1893532 entries, 0 to 1893531\n",
      "Data columns (total 12 columns):\n",
      " #   Column     Dtype  \n",
      "---  ------     -----  \n",
      " 0   会员卡号       object \n",
      " 1   消费产生的时间    object \n",
      " 2   商品编码       object \n",
      " 3   销售数量       int64  \n",
      " 4   商品售价       float64\n",
      " 5   消费金额       float64\n",
      " 6   商品名称       object \n",
      " 7   此次消费的会员积分  float64\n",
      " 8   收银机号       int64  \n",
      " 9   单据号        object \n",
      " 10  柜组编码       float64\n",
      " 11  柜组名称       object \n",
      "dtypes: float64(4), int64(2), object(6)\n",
      "memory usage: 173.4+ MB\n"
     ]
    }
   ],
   "source": [
    "df_sale.info()"
   ]
  },
  {
   "cell_type": "markdown",
   "id": "fba7d754",
   "metadata": {},
   "source": [
    "- 确保销售流水数据表是唯一值，即销售数量以及销售金额不能为0"
   ]
  },
  {
   "cell_type": "code",
   "execution_count": 31,
   "id": "043325ac",
   "metadata": {},
   "outputs": [],
   "source": [
    "assert len(df_sale['销售数量']>0)==df_sale.shape[0]\n",
    "assert len(df_sale['消费金额']>0)==df_sale.shape[0]"
   ]
  },
  {
   "cell_type": "code",
   "execution_count": 32,
   "id": "4e81a41f",
   "metadata": {},
   "outputs": [
    {
     "data": {
      "text/plain": [
       "会员卡号         1017486\n",
       "消费产生的时间            0\n",
       "商品编码               0\n",
       "销售数量               0\n",
       "商品售价               0\n",
       "消费金额               0\n",
       "商品名称               0\n",
       "此次消费的会员积分    1017486\n",
       "收银机号               0\n",
       "单据号                0\n",
       "柜组编码         1017486\n",
       "柜组名称         1036956\n",
       "dtype: int64"
      ]
     },
     "execution_count": 32,
     "metadata": {},
     "output_type": "execute_result"
    }
   ],
   "source": [
    "df_sale.isnull().sum()"
   ]
  },
  {
   "cell_type": "code",
   "execution_count": 34,
   "id": "14c511b5",
   "metadata": {},
   "outputs": [
    {
     "data": {
      "text/plain": [
       "会员卡号         0.537348\n",
       "消费产生的时间      0.000000\n",
       "商品编码         0.000000\n",
       "销售数量         0.000000\n",
       "商品售价         0.000000\n",
       "消费金额         0.000000\n",
       "商品名称         0.000000\n",
       "此次消费的会员积分    0.537348\n",
       "收银机号         0.000000\n",
       "单据号          0.000000\n",
       "柜组编码         0.537348\n",
       "柜组名称         0.547631\n",
       "dtype: float64"
      ]
     },
     "execution_count": 34,
     "metadata": {},
     "output_type": "execute_result"
    }
   ],
   "source": [
    "df_sale.isnull().mean()"
   ]
  },
  {
   "cell_type": "markdown",
   "id": "0476e834",
   "metadata": {},
   "source": [
    "- 由于会员信息表和销售流水表唯一关联字段为会员卡号，所以缺失值直接删除"
   ]
  },
  {
   "cell_type": "code",
   "execution_count": 36,
   "id": "96975ff0",
   "metadata": {},
   "outputs": [
    {
     "data": {
      "text/plain": [
       "会员卡号             0\n",
       "消费产生的时间          0\n",
       "商品编码             0\n",
       "销售数量             0\n",
       "商品售价             0\n",
       "消费金额             0\n",
       "商品名称             0\n",
       "此次消费的会员积分        0\n",
       "收银机号             0\n",
       "单据号              0\n",
       "柜组编码             0\n",
       "柜组名称         19470\n",
       "dtype: int64"
      ]
     },
     "execution_count": 36,
     "metadata": {},
     "output_type": "execute_result"
    }
   ],
   "source": [
    "df_sale_clearn=df_sale.dropna(subset=['会员卡号'])\n",
    "df_sale_clearn.isnull().sum()"
   ]
  },
  {
   "cell_type": "markdown",
   "id": "65464830",
   "metadata": {},
   "source": [
    "- 可以看出只剩少量数据缺失，可以直接删掉对本项目无意义的字段"
   ]
  },
  {
   "cell_type": "code",
   "execution_count": 38,
   "id": "4c278f0c",
   "metadata": {},
   "outputs": [],
   "source": [
    "df_sale_clearn.drop(['收银机号','柜组编码','柜组名称'],axis=1,inplace=True)\n",
    "#重置索引\n",
    "df_sale_clearn.index=range(df_sale_clearn.shape[0])"
   ]
  },
  {
   "cell_type": "code",
   "execution_count": 39,
   "id": "91216897",
   "metadata": {},
   "outputs": [
    {
     "data": {
      "text/plain": [
       "True"
      ]
     },
     "execution_count": 39,
     "metadata": {},
     "output_type": "execute_result"
    }
   ],
   "source": [
    "type(df_sale_clearn)==type(df_cum)"
   ]
  },
  {
   "cell_type": "code",
   "execution_count": 40,
   "id": "7cb267f2",
   "metadata": {},
   "outputs": [
    {
     "data": {
      "text/html": [
       "<div>\n",
       "<style scoped>\n",
       "    .dataframe tbody tr th:only-of-type {\n",
       "        vertical-align: middle;\n",
       "    }\n",
       "\n",
       "    .dataframe tbody tr th {\n",
       "        vertical-align: top;\n",
       "    }\n",
       "\n",
       "    .dataframe thead th {\n",
       "        text-align: right;\n",
       "    }\n",
       "</style>\n",
       "<table border=\"1\" class=\"dataframe\">\n",
       "  <thead>\n",
       "    <tr style=\"text-align: right;\">\n",
       "      <th></th>\n",
       "      <th>会员卡号</th>\n",
       "      <th>消费产生的时间</th>\n",
       "      <th>商品编码</th>\n",
       "      <th>销售数量</th>\n",
       "      <th>商品售价</th>\n",
       "      <th>消费金额</th>\n",
       "      <th>商品名称</th>\n",
       "      <th>此次消费的会员积分</th>\n",
       "      <th>单据号</th>\n",
       "    </tr>\n",
       "  </thead>\n",
       "  <tbody>\n",
       "    <tr>\n",
       "      <th>0</th>\n",
       "      <td>1be1e3fe</td>\n",
       "      <td>2015-01-01 00:05:41.593</td>\n",
       "      <td>f09c9303</td>\n",
       "      <td>1</td>\n",
       "      <td>290.0</td>\n",
       "      <td>270.20</td>\n",
       "      <td>兰芝化妆品正价瓶</td>\n",
       "      <td>270.20</td>\n",
       "      <td>25bb</td>\n",
       "    </tr>\n",
       "    <tr>\n",
       "      <th>1</th>\n",
       "      <td>1be1e3fe</td>\n",
       "      <td>2015-01-01 00:05:41.593</td>\n",
       "      <td>f09c9303</td>\n",
       "      <td>1</td>\n",
       "      <td>325.0</td>\n",
       "      <td>302.80</td>\n",
       "      <td>兰芝化妆品正价瓶</td>\n",
       "      <td>302.80</td>\n",
       "      <td>25bb</td>\n",
       "    </tr>\n",
       "    <tr>\n",
       "      <th>2</th>\n",
       "      <td>1be1e3fe</td>\n",
       "      <td>2015-01-01 00:05:41.593</td>\n",
       "      <td>f09c9303</td>\n",
       "      <td>1</td>\n",
       "      <td>195.0</td>\n",
       "      <td>181.80</td>\n",
       "      <td>兰芝化妆品正价瓶</td>\n",
       "      <td>181.80</td>\n",
       "      <td>25bb</td>\n",
       "    </tr>\n",
       "    <tr>\n",
       "      <th>3</th>\n",
       "      <td>1be1e3fe</td>\n",
       "      <td>2015-01-01 00:05:41.593</td>\n",
       "      <td>f09c9303</td>\n",
       "      <td>1</td>\n",
       "      <td>270.0</td>\n",
       "      <td>251.55</td>\n",
       "      <td>兰芝化妆品正价瓶</td>\n",
       "      <td>251.55</td>\n",
       "      <td>25bb</td>\n",
       "    </tr>\n",
       "    <tr>\n",
       "      <th>4</th>\n",
       "      <td>1be1e3fe</td>\n",
       "      <td>2015-01-01 00:05:41.593</td>\n",
       "      <td>f09c9303</td>\n",
       "      <td>2</td>\n",
       "      <td>245.0</td>\n",
       "      <td>456.55</td>\n",
       "      <td>兰芝化妆品正价瓶</td>\n",
       "      <td>456.55</td>\n",
       "      <td>25bb</td>\n",
       "    </tr>\n",
       "  </tbody>\n",
       "</table>\n",
       "</div>"
      ],
      "text/plain": [
       "       会员卡号                  消费产生的时间      商品编码  销售数量   商品售价    消费金额      商品名称  \\\n",
       "0  1be1e3fe  2015-01-01 00:05:41.593  f09c9303     1  290.0  270.20  兰芝化妆品正价瓶   \n",
       "1  1be1e3fe  2015-01-01 00:05:41.593  f09c9303     1  325.0  302.80  兰芝化妆品正价瓶   \n",
       "2  1be1e3fe  2015-01-01 00:05:41.593  f09c9303     1  195.0  181.80  兰芝化妆品正价瓶   \n",
       "3  1be1e3fe  2015-01-01 00:05:41.593  f09c9303     1  270.0  251.55  兰芝化妆品正价瓶   \n",
       "4  1be1e3fe  2015-01-01 00:05:41.593  f09c9303     2  245.0  456.55  兰芝化妆品正价瓶   \n",
       "\n",
       "   此次消费的会员积分   单据号  \n",
       "0     270.20  25bb  \n",
       "1     302.80  25bb  \n",
       "2     181.80  25bb  \n",
       "3     251.55  25bb  \n",
       "4     456.55  25bb  "
      ]
     },
     "execution_count": 40,
     "metadata": {},
     "output_type": "execute_result"
    }
   ],
   "source": [
    "df_sale_clearn.head()"
   ]
  },
  {
   "cell_type": "markdown",
   "id": "af4f533b",
   "metadata": {},
   "source": [
    "#### 2.2 将会员信息表与销售流水表关联并合并"
   ]
  },
  {
   "cell_type": "code",
   "execution_count": 41,
   "id": "1fc7411e",
   "metadata": {},
   "outputs": [
    {
     "data": {
      "text/html": [
       "<div>\n",
       "<style scoped>\n",
       "    .dataframe tbody tr th:only-of-type {\n",
       "        vertical-align: middle;\n",
       "    }\n",
       "\n",
       "    .dataframe tbody tr th {\n",
       "        vertical-align: top;\n",
       "    }\n",
       "\n",
       "    .dataframe thead th {\n",
       "        text-align: right;\n",
       "    }\n",
       "</style>\n",
       "<table border=\"1\" class=\"dataframe\">\n",
       "  <thead>\n",
       "    <tr style=\"text-align: right;\">\n",
       "      <th></th>\n",
       "      <th>会员卡号</th>\n",
       "      <th>消费产生的时间</th>\n",
       "      <th>商品编码</th>\n",
       "      <th>销售数量</th>\n",
       "      <th>商品售价</th>\n",
       "      <th>消费金额</th>\n",
       "      <th>商品名称</th>\n",
       "      <th>此次消费的会员积分</th>\n",
       "      <th>单据号</th>\n",
       "      <th>性别</th>\n",
       "      <th>登记时间</th>\n",
       "    </tr>\n",
       "  </thead>\n",
       "  <tbody>\n",
       "    <tr>\n",
       "      <th>0</th>\n",
       "      <td>1be1e3fe</td>\n",
       "      <td>2015-01-01 00:05:41.593</td>\n",
       "      <td>f09c9303</td>\n",
       "      <td>1</td>\n",
       "      <td>290.0</td>\n",
       "      <td>270.20</td>\n",
       "      <td>兰芝化妆品正价瓶</td>\n",
       "      <td>270.20</td>\n",
       "      <td>25bb</td>\n",
       "      <td>NaN</td>\n",
       "      <td>NaT</td>\n",
       "    </tr>\n",
       "    <tr>\n",
       "      <th>1</th>\n",
       "      <td>1be1e3fe</td>\n",
       "      <td>2015-01-01 00:05:41.593</td>\n",
       "      <td>f09c9303</td>\n",
       "      <td>1</td>\n",
       "      <td>325.0</td>\n",
       "      <td>302.80</td>\n",
       "      <td>兰芝化妆品正价瓶</td>\n",
       "      <td>302.80</td>\n",
       "      <td>25bb</td>\n",
       "      <td>NaN</td>\n",
       "      <td>NaT</td>\n",
       "    </tr>\n",
       "    <tr>\n",
       "      <th>2</th>\n",
       "      <td>1be1e3fe</td>\n",
       "      <td>2015-01-01 00:05:41.593</td>\n",
       "      <td>f09c9303</td>\n",
       "      <td>1</td>\n",
       "      <td>195.0</td>\n",
       "      <td>181.80</td>\n",
       "      <td>兰芝化妆品正价瓶</td>\n",
       "      <td>181.80</td>\n",
       "      <td>25bb</td>\n",
       "      <td>NaN</td>\n",
       "      <td>NaT</td>\n",
       "    </tr>\n",
       "    <tr>\n",
       "      <th>3</th>\n",
       "      <td>1be1e3fe</td>\n",
       "      <td>2015-01-01 00:05:41.593</td>\n",
       "      <td>f09c9303</td>\n",
       "      <td>1</td>\n",
       "      <td>270.0</td>\n",
       "      <td>251.55</td>\n",
       "      <td>兰芝化妆品正价瓶</td>\n",
       "      <td>251.55</td>\n",
       "      <td>25bb</td>\n",
       "      <td>NaN</td>\n",
       "      <td>NaT</td>\n",
       "    </tr>\n",
       "    <tr>\n",
       "      <th>4</th>\n",
       "      <td>1be1e3fe</td>\n",
       "      <td>2015-01-01 00:05:41.593</td>\n",
       "      <td>f09c9303</td>\n",
       "      <td>2</td>\n",
       "      <td>245.0</td>\n",
       "      <td>456.55</td>\n",
       "      <td>兰芝化妆品正价瓶</td>\n",
       "      <td>456.55</td>\n",
       "      <td>25bb</td>\n",
       "      <td>NaN</td>\n",
       "      <td>NaT</td>\n",
       "    </tr>\n",
       "  </tbody>\n",
       "</table>\n",
       "</div>"
      ],
      "text/plain": [
       "       会员卡号                  消费产生的时间      商品编码  销售数量   商品售价    消费金额      商品名称  \\\n",
       "0  1be1e3fe  2015-01-01 00:05:41.593  f09c9303     1  290.0  270.20  兰芝化妆品正价瓶   \n",
       "1  1be1e3fe  2015-01-01 00:05:41.593  f09c9303     1  325.0  302.80  兰芝化妆品正价瓶   \n",
       "2  1be1e3fe  2015-01-01 00:05:41.593  f09c9303     1  195.0  181.80  兰芝化妆品正价瓶   \n",
       "3  1be1e3fe  2015-01-01 00:05:41.593  f09c9303     1  270.0  251.55  兰芝化妆品正价瓶   \n",
       "4  1be1e3fe  2015-01-01 00:05:41.593  f09c9303     2  245.0  456.55  兰芝化妆品正价瓶   \n",
       "\n",
       "   此次消费的会员积分   单据号  性别 登记时间  \n",
       "0     270.20  25bb NaN  NaT  \n",
       "1     302.80  25bb NaN  NaT  \n",
       "2     181.80  25bb NaN  NaT  \n",
       "3     251.55  25bb NaN  NaT  \n",
       "4     456.55  25bb NaN  NaT  "
      ]
     },
     "execution_count": 41,
     "metadata": {},
     "output_type": "execute_result"
    }
   ],
   "source": [
    "#按照卡号将两张表的信息进行合并，使用左连接合并\n",
    "df=pd.merge(df_sale_clearn,df_cum,on='会员卡号',how='left')\n",
    "df.head()"
   ]
  },
  {
   "cell_type": "code",
   "execution_count": 43,
   "id": "4c79a712",
   "metadata": {},
   "outputs": [
    {
     "data": {
      "text/plain": [
       "(876046, 11)"
      ]
     },
     "execution_count": 43,
     "metadata": {},
     "output_type": "execute_result"
    }
   ],
   "source": [
    "df.shape"
   ]
  },
  {
   "cell_type": "code",
   "execution_count": 44,
   "id": "73fa43ef",
   "metadata": {},
   "outputs": [
    {
     "name": "stdout",
     "output_type": "stream",
     "text": [
      "<class 'pandas.core.frame.DataFrame'>\n",
      "Int64Index: 876046 entries, 0 to 876045\n",
      "Data columns (total 11 columns):\n",
      " #   Column     Non-Null Count   Dtype         \n",
      "---  ------     --------------   -----         \n",
      " 0   会员卡号       876046 non-null  object        \n",
      " 1   消费产生的时间    876046 non-null  object        \n",
      " 2   商品编码       876046 non-null  object        \n",
      " 3   销售数量       876046 non-null  int64         \n",
      " 4   商品售价       876046 non-null  float64       \n",
      " 5   消费金额       876046 non-null  float64       \n",
      " 6   商品名称       876046 non-null  object        \n",
      " 7   此次消费的会员积分  876046 non-null  float64       \n",
      " 8   单据号        876046 non-null  object        \n",
      " 9   性别         474446 non-null  float64       \n",
      " 10  登记时间       474446 non-null  datetime64[ns]\n",
      "dtypes: datetime64[ns](1), float64(4), int64(1), object(5)\n",
      "memory usage: 80.2+ MB\n"
     ]
    }
   ],
   "source": [
    "df.info()"
   ]
  },
  {
   "cell_type": "code",
   "execution_count": 48,
   "id": "173f9df4",
   "metadata": {},
   "outputs": [
    {
     "data": {
      "text/plain": [
       "(738462, 11)"
      ]
     },
     "execution_count": 48,
     "metadata": {},
     "output_type": "execute_result"
    }
   ],
   "source": [
    "#这里再次查看消费金额>0，积分>0，消费数量>0\n",
    "index1=df['消费金额']>0\n",
    "index2=df['此次消费的会员积分']>0\n",
    "index3=df['销售数量']>0\n",
    "df1=df.loc[index1 & index3 &index2,:]\n",
    "df1.index=range(df1.shape[0])\n",
    "df1.shape"
   ]
  },
  {
   "cell_type": "markdown",
   "id": "e1fb2881",
   "metadata": {},
   "source": [
    "- 这里可以看到,merge之后数据异常值突然变多了，这里需要对此进行数据预处理，筛选出异常值，方便进行后续的分析"
   ]
  },
  {
   "cell_type": "code",
   "execution_count": 49,
   "id": "6c9a832c",
   "metadata": {},
   "outputs": [
    {
     "data": {
      "text/plain": [
       "会员卡号              0\n",
       "消费产生的时间           0\n",
       "商品编码              0\n",
       "销售数量              0\n",
       "商品售价              0\n",
       "消费金额              0\n",
       "商品名称              0\n",
       "此次消费的会员积分         0\n",
       "单据号               0\n",
       "性别           344980\n",
       "登记时间         344980\n",
       "dtype: int64"
      ]
     },
     "execution_count": 49,
     "metadata": {},
     "output_type": "execute_result"
    }
   ],
   "source": [
    "df1.isnull().sum()"
   ]
  },
  {
   "cell_type": "code",
   "execution_count": 51,
   "id": "b4c51b3f",
   "metadata": {},
   "outputs": [
    {
     "data": {
      "text/html": [
       "<div>\n",
       "<style scoped>\n",
       "    .dataframe tbody tr th:only-of-type {\n",
       "        vertical-align: middle;\n",
       "    }\n",
       "\n",
       "    .dataframe tbody tr th {\n",
       "        vertical-align: top;\n",
       "    }\n",
       "\n",
       "    .dataframe thead th {\n",
       "        text-align: right;\n",
       "    }\n",
       "</style>\n",
       "<table border=\"1\" class=\"dataframe\">\n",
       "  <thead>\n",
       "    <tr style=\"text-align: right;\">\n",
       "      <th></th>\n",
       "      <th>会员卡号</th>\n",
       "      <th>消费产生的时间</th>\n",
       "      <th>商品编码</th>\n",
       "      <th>销售数量</th>\n",
       "      <th>商品售价</th>\n",
       "      <th>消费金额</th>\n",
       "      <th>商品名称</th>\n",
       "      <th>此次消费的会员积分</th>\n",
       "      <th>单据号</th>\n",
       "      <th>性别</th>\n",
       "      <th>登记时间</th>\n",
       "      <th>会员</th>\n",
       "    </tr>\n",
       "  </thead>\n",
       "  <tbody>\n",
       "    <tr>\n",
       "      <th>0</th>\n",
       "      <td>1be1e3fe</td>\n",
       "      <td>2015-01-01 00:05:41.593</td>\n",
       "      <td>f09c9303</td>\n",
       "      <td>1</td>\n",
       "      <td>290.0</td>\n",
       "      <td>270.20</td>\n",
       "      <td>兰芝化妆品正价瓶</td>\n",
       "      <td>270.20</td>\n",
       "      <td>25bb</td>\n",
       "      <td>NaN</td>\n",
       "      <td>NaT</td>\n",
       "      <td>0</td>\n",
       "    </tr>\n",
       "    <tr>\n",
       "      <th>1</th>\n",
       "      <td>1be1e3fe</td>\n",
       "      <td>2015-01-01 00:05:41.593</td>\n",
       "      <td>f09c9303</td>\n",
       "      <td>1</td>\n",
       "      <td>325.0</td>\n",
       "      <td>302.80</td>\n",
       "      <td>兰芝化妆品正价瓶</td>\n",
       "      <td>302.80</td>\n",
       "      <td>25bb</td>\n",
       "      <td>NaN</td>\n",
       "      <td>NaT</td>\n",
       "      <td>0</td>\n",
       "    </tr>\n",
       "    <tr>\n",
       "      <th>2</th>\n",
       "      <td>1be1e3fe</td>\n",
       "      <td>2015-01-01 00:05:41.593</td>\n",
       "      <td>f09c9303</td>\n",
       "      <td>1</td>\n",
       "      <td>195.0</td>\n",
       "      <td>181.80</td>\n",
       "      <td>兰芝化妆品正价瓶</td>\n",
       "      <td>181.80</td>\n",
       "      <td>25bb</td>\n",
       "      <td>NaN</td>\n",
       "      <td>NaT</td>\n",
       "      <td>0</td>\n",
       "    </tr>\n",
       "    <tr>\n",
       "      <th>3</th>\n",
       "      <td>1be1e3fe</td>\n",
       "      <td>2015-01-01 00:05:41.593</td>\n",
       "      <td>f09c9303</td>\n",
       "      <td>1</td>\n",
       "      <td>270.0</td>\n",
       "      <td>251.55</td>\n",
       "      <td>兰芝化妆品正价瓶</td>\n",
       "      <td>251.55</td>\n",
       "      <td>25bb</td>\n",
       "      <td>NaN</td>\n",
       "      <td>NaT</td>\n",
       "      <td>0</td>\n",
       "    </tr>\n",
       "    <tr>\n",
       "      <th>4</th>\n",
       "      <td>1be1e3fe</td>\n",
       "      <td>2015-01-01 00:05:41.593</td>\n",
       "      <td>f09c9303</td>\n",
       "      <td>2</td>\n",
       "      <td>245.0</td>\n",
       "      <td>456.55</td>\n",
       "      <td>兰芝化妆品正价瓶</td>\n",
       "      <td>456.55</td>\n",
       "      <td>25bb</td>\n",
       "      <td>NaN</td>\n",
       "      <td>NaT</td>\n",
       "      <td>0</td>\n",
       "    </tr>\n",
       "  </tbody>\n",
       "</table>\n",
       "</div>"
      ],
      "text/plain": [
       "       会员卡号                  消费产生的时间      商品编码  销售数量   商品售价    消费金额      商品名称  \\\n",
       "0  1be1e3fe  2015-01-01 00:05:41.593  f09c9303     1  290.0  270.20  兰芝化妆品正价瓶   \n",
       "1  1be1e3fe  2015-01-01 00:05:41.593  f09c9303     1  325.0  302.80  兰芝化妆品正价瓶   \n",
       "2  1be1e3fe  2015-01-01 00:05:41.593  f09c9303     1  195.0  181.80  兰芝化妆品正价瓶   \n",
       "3  1be1e3fe  2015-01-01 00:05:41.593  f09c9303     1  270.0  251.55  兰芝化妆品正价瓶   \n",
       "4  1be1e3fe  2015-01-01 00:05:41.593  f09c9303     2  245.0  456.55  兰芝化妆品正价瓶   \n",
       "\n",
       "   此次消费的会员积分   单据号  性别 登记时间  会员  \n",
       "0     270.20  25bb NaN  NaT   0  \n",
       "1     302.80  25bb NaN  NaT   0  \n",
       "2     181.80  25bb NaN  NaT   0  \n",
       "3     251.55  25bb NaN  NaT   0  \n",
       "4     456.55  25bb NaN  NaT   0  "
      ]
     },
     "execution_count": 51,
     "metadata": {},
     "output_type": "execute_result"
    }
   ],
   "source": [
    "#创建一个特征字段，判断是否为会员，1表示是会员，0表示不为会员\n",
    "df1['会员']=1\n",
    "df1.loc[df1['性别'].isnull(),'会员']=0\n",
    "df1.head()"
   ]
  },
  {
   "cell_type": "markdown",
   "id": "777e487f",
   "metadata": {},
   "source": [
    "### 任务3 统计分析\n",
    "\n",
    "#### 3.1 分析会员的年龄构成，男女比例等基本信息"
   ]
  },
  {
   "cell_type": "code",
   "execution_count": 52,
   "id": "4ee414d5",
   "metadata": {},
   "outputs": [],
   "source": [
    "#处理男女比例这一列，女表示0，男表示1\n",
    "L['性别']=L['性别'].apply(lambda x:'男' if x==1 else '女')"
   ]
  },
  {
   "cell_type": "code",
   "execution_count": 53,
   "id": "07c0417e",
   "metadata": {},
   "outputs": [
    {
     "data": {
      "text/html": [
       "<div>\n",
       "<style scoped>\n",
       "    .dataframe tbody tr th:only-of-type {\n",
       "        vertical-align: middle;\n",
       "    }\n",
       "\n",
       "    .dataframe tbody tr th {\n",
       "        vertical-align: top;\n",
       "    }\n",
       "\n",
       "    .dataframe thead th {\n",
       "        text-align: right;\n",
       "    }\n",
       "</style>\n",
       "<table border=\"1\" class=\"dataframe\">\n",
       "  <thead>\n",
       "    <tr style=\"text-align: right;\">\n",
       "      <th></th>\n",
       "      <th>性别</th>\n",
       "      <th>年龄</th>\n",
       "    </tr>\n",
       "  </thead>\n",
       "  <tbody>\n",
       "    <tr>\n",
       "      <th>0</th>\n",
       "      <td>女</td>\n",
       "      <td>2000</td>\n",
       "    </tr>\n",
       "    <tr>\n",
       "      <th>1</th>\n",
       "      <td>女</td>\n",
       "      <td>1960</td>\n",
       "    </tr>\n",
       "    <tr>\n",
       "      <th>2</th>\n",
       "      <td>女</td>\n",
       "      <td>1980</td>\n",
       "    </tr>\n",
       "    <tr>\n",
       "      <th>3</th>\n",
       "      <td>女</td>\n",
       "      <td>1960</td>\n",
       "    </tr>\n",
       "    <tr>\n",
       "      <th>4</th>\n",
       "      <td>男</td>\n",
       "      <td>1960</td>\n",
       "    </tr>\n",
       "  </tbody>\n",
       "</table>\n",
       "</div>"
      ],
      "text/plain": [
       "  性别    年龄\n",
       "0  女  2000\n",
       "1  女  1960\n",
       "2  女  1980\n",
       "3  女  1960\n",
       "4  男  1960"
      ]
     },
     "execution_count": 53,
     "metadata": {},
     "output_type": "execute_result"
    }
   ],
   "source": [
    "L.head()"
   ]
  },
  {
   "cell_type": "code",
   "execution_count": 54,
   "id": "0e4c0d9e",
   "metadata": {},
   "outputs": [
    {
     "data": {
      "text/plain": [
       "女    108283\n",
       "男     29377\n",
       "Name: 性别, dtype: int64"
      ]
     },
     "execution_count": 54,
     "metadata": {},
     "output_type": "execute_result"
    }
   ],
   "source": [
    "sex_sort=L['性别'].value_counts()\n",
    "sex_sort"
   ]
  },
  {
   "cell_type": "code",
   "execution_count": 55,
   "id": "868c7b06",
   "metadata": {},
   "outputs": [],
   "source": [
    "#可以将年龄划分为老年(1920-1950) 中年(1960-1990) 青年 (1990-2010)\n",
    "L['年龄段']='中年'\n",
    "L.loc[L['年龄']<=1950,'年龄段']='老年'\n",
    "L.loc[L['年龄']>=1990,'年龄段']='青年'\n",
    "res=L['年龄段'].value_counts()"
   ]
  },
  {
   "cell_type": "code",
   "execution_count": 56,
   "id": "ed1a59e7",
   "metadata": {},
   "outputs": [
    {
     "data": {
      "text/plain": [
       "中年    117227\n",
       "青年     12320\n",
       "老年      8113\n",
       "Name: 年龄段, dtype: int64"
      ]
     },
     "execution_count": 56,
     "metadata": {},
     "output_type": "execute_result"
    }
   ],
   "source": [
    "res"
   ]
  },
  {
   "cell_type": "code",
   "execution_count": 58,
   "id": "719a684d",
   "metadata": {},
   "outputs": [
    {
     "data": {
      "image/png": "[encoded data removed]",
      "text/plain": [
       "<Figure size 1600x700 with 2 Axes>"
      ]
     },
     "metadata": {},
     "output_type": "display_data"
    }
   ],
   "source": [
    "#使用上述处理后的数据集L，包含两个字段，分别是年龄和性别，先画出年龄的条形图\n",
    "fig,axs=plt.subplots(1,2,figsize=(16,7),dpi=100)\n",
    "#绘制条形图\n",
    "ax=sns.countplot(x='年龄',data=L,ax=axs[0])\n",
    "#设置数字标签\n",
    "for p in ax.patches:\n",
    "    height=p.get_height()\n",
    "    ax.text(x=p.get_x()+(p.get_width()/2),y=height+500,s='{:.0f}'.format(height),ha='center')\n",
    "axs[0].set_title('会员的出生年代')\n",
    "#绘制饼图\n",
    "axs[1].pie(sex_sort,labels=sex_sort.index,wedgeprops={'width':0.4},counterclock=False,autopct='%.2f%%',pctdistance=0.8)\n",
    "axs[1].set_title('会员的男女比例')\n",
    "plt.savefig('./百货商场会员出生年代及男女比例情况.png')"
   ]
  },
  {
   "cell_type": "code",
   "execution_count": 60,
   "id": "f07a7fb2",
   "metadata": {},
   "outputs": [
    {
     "data": {
      "image/png": "[encoded data removed]",
      "text/plain": [
       "<Figure size 800x600 with 1 Axes>"
      ]
     },
     "metadata": {},
     "output_type": "display_data"
    }
   ],
   "source": [
    "#绘制各个年龄段的饼图\n",
    "plt.figure(figsize=(8,6),dpi=100)\n",
    "plt.pie(res.values,labels=res.index,autopct='%.2f%%',pctdistance=0.8,\n",
    "       counterclock=False,wedgeprops={'width':0.4})\n",
    "plt.title('会员的年龄分布')\n",
    "plt.savefig('./百货商场会员的年龄分布.png')"
   ]
  },
  {
   "cell_type": "markdown",
   "id": "b715f87b",
   "metadata": {},
   "source": [
    "#### 任务3.2 分析会员的总订单占比，总消费金额占比等消费情况\n"
   ]
  },
  {
   "cell_type": "code",
   "execution_count": 64,
   "id": "7b8ddb79",
   "metadata": {},
   "outputs": [
    {
     "data": {
      "text/plain": [
       "400477"
      ]
     },
     "execution_count": 64,
     "metadata": {},
     "output_type": "execute_result"
    }
   ],
   "source": [
    "df1.消费产生的时间.nunique()"
   ]
  },
  {
   "cell_type": "code",
   "execution_count": 65,
   "id": "2f32a7ac",
   "metadata": {},
   "outputs": [
    {
     "data": {
      "text/plain": [
       "480"
      ]
     },
     "execution_count": 65,
     "metadata": {},
     "output_type": "execute_result"
    }
   ],
   "source": [
    "df1.单据号.nunique()"
   ]
  },
  {
   "cell_type": "code",
   "execution_count": 66,
   "id": "d89bac3d",
   "metadata": {},
   "outputs": [
    {
     "data": {
      "image/png": "[encoded data removed]",
      "text/plain": [
       "<Figure size 1200x700 with 2 Axes>"
      ]
     },
     "metadata": {},
     "output_type": "display_data"
    }
   ],
   "source": [
    "#由于相同的单据号可能不是同一笔消费,以消费产生的时间为分组依据\n",
    "fig,axs=plt.subplots(1,2,figsize=(12,7),dpi=100)\n",
    "axs[0].pie([len(df1.loc[df1['会员']==1,'消费产生的时间'].unique()),len(df1.loc[df1['会员']==0,'消费产生的时间'].unique())],\n",
    "          labels=['会员','非会员'],wedgeprops={'width':0.4},counterclock=False,autopct='%.2f%%',pctdistance=0.8)\n",
    "axs[0].set_title('总订单占比')\n",
    "axs[1].pie([df1.loc[df1['会员']==1,'消费金额'].sum(),df1.loc[df1['会员']==0,'消费金额'].sum()],\n",
    "          labels=['会员','非会员'],wedgeprops={'width':0.4},counterclock=False,autopct='%.2f%%',pctdistance=0.8)\n",
    "axs[1].set_title('总消费金额占比')\n",
    "plt.savefig('./百货商场总订单和总消费占比情况.png')"
   ]
  },
  {
   "cell_type": "markdown",
   "id": "70810529",
   "metadata": {},
   "source": [
    "#### 任务3.3 分别以季度和天为单位，分析不同时间段会员的消费时间偏好"
   ]
  },
  {
   "cell_type": "markdown",
   "id": "7ceb2411",
   "metadata": {},
   "source": [
    "- 消费频次越高的用户粘性相对比较大"
   ]
  },
  {
   "cell_type": "code",
   "execution_count": 67,
   "id": "3a7452f2",
   "metadata": {},
   "outputs": [
    {
     "name": "stdout",
     "output_type": "stream",
     "text": [
      "<class 'pandas.core.frame.DataFrame'>\n",
      "RangeIndex: 393482 entries, 0 to 393481\n",
      "Data columns (total 11 columns):\n",
      " #   Column     Non-Null Count   Dtype         \n",
      "---  ------     --------------   -----         \n",
      " 0   会员卡号       393482 non-null  object        \n",
      " 1   消费产生的时间    393482 non-null  object        \n",
      " 2   商品编码       393482 non-null  object        \n",
      " 3   销售数量       393482 non-null  int64         \n",
      " 4   商品售价       393482 non-null  float64       \n",
      " 5   消费金额       393482 non-null  float64       \n",
      " 6   商品名称       393482 non-null  object        \n",
      " 7   此次消费的会员积分  393482 non-null  float64       \n",
      " 8   单据号        393482 non-null  object        \n",
      " 9   性别         393482 non-null  float64       \n",
      " 10  登记时间       393482 non-null  datetime64[ns]\n",
      "dtypes: datetime64[ns](1), float64(4), int64(1), object(5)\n",
      "memory usage: 33.0+ MB\n"
     ]
    }
   ],
   "source": [
    "#将会员的消费数据另存为一个数据集\n",
    "df_vip=df1.dropna()\n",
    "df_vip.drop(['会员'],axis=1,inplace=True)\n",
    "df_vip.index=range(df_vip.shape[0])\n",
    "df_vip.info()"
   ]
  },
  {
   "cell_type": "code",
   "execution_count": 68,
   "id": "0838593e",
   "metadata": {},
   "outputs": [
    {
     "data": {
      "text/html": [
       "<div>\n",
       "<style scoped>\n",
       "    .dataframe tbody tr th:only-of-type {\n",
       "        vertical-align: middle;\n",
       "    }\n",
       "\n",
       "    .dataframe tbody tr th {\n",
       "        vertical-align: top;\n",
       "    }\n",
       "\n",
       "    .dataframe thead th {\n",
       "        text-align: right;\n",
       "    }\n",
       "</style>\n",
       "<table border=\"1\" class=\"dataframe\">\n",
       "  <thead>\n",
       "    <tr style=\"text-align: right;\">\n",
       "      <th></th>\n",
       "      <th>会员卡号</th>\n",
       "      <th>消费产生的时间</th>\n",
       "      <th>商品编码</th>\n",
       "      <th>销售数量</th>\n",
       "      <th>商品售价</th>\n",
       "      <th>消费金额</th>\n",
       "      <th>商品名称</th>\n",
       "      <th>此次消费的会员积分</th>\n",
       "      <th>单据号</th>\n",
       "      <th>性别</th>\n",
       "      <th>登记时间</th>\n",
       "      <th>年份</th>\n",
       "      <th>季度</th>\n",
       "      <th>月份</th>\n",
       "      <th>天</th>\n",
       "    </tr>\n",
       "  </thead>\n",
       "  <tbody>\n",
       "    <tr>\n",
       "      <th>0</th>\n",
       "      <td>d8d36575</td>\n",
       "      <td>2015-01-01 00:06:38.313</td>\n",
       "      <td>d313ab1e</td>\n",
       "      <td>1</td>\n",
       "      <td>1760.0</td>\n",
       "      <td>1760.0</td>\n",
       "      <td>MARYLINGC件</td>\n",
       "      <td>1678.82</td>\n",
       "      <td>5858</td>\n",
       "      <td>0.0</td>\n",
       "      <td>2007-08-12</td>\n",
       "      <td>2015</td>\n",
       "      <td>1</td>\n",
       "      <td>1</td>\n",
       "      <td>1</td>\n",
       "    </tr>\n",
       "    <tr>\n",
       "      <th>1</th>\n",
       "      <td>d8d36575</td>\n",
       "      <td>2015-01-01 00:06:38.313</td>\n",
       "      <td>d313ab1e</td>\n",
       "      <td>1</td>\n",
       "      <td>9072.0</td>\n",
       "      <td>9072.0</td>\n",
       "      <td>MARYLINGC件</td>\n",
       "      <td>8653.56</td>\n",
       "      <td>5858</td>\n",
       "      <td>0.0</td>\n",
       "      <td>2007-08-12</td>\n",
       "      <td>2015</td>\n",
       "      <td>1</td>\n",
       "      <td>1</td>\n",
       "      <td>1</td>\n",
       "    </tr>\n",
       "    <tr>\n",
       "      <th>2</th>\n",
       "      <td>d8d36575</td>\n",
       "      <td>2015-01-01 00:06:38.313</td>\n",
       "      <td>50a2c4f5</td>\n",
       "      <td>1</td>\n",
       "      <td>1507.0</td>\n",
       "      <td>1507.0</td>\n",
       "      <td>汤普葛罗女鞋活动促销双</td>\n",
       "      <td>1437.49</td>\n",
       "      <td>5858</td>\n",
       "      <td>0.0</td>\n",
       "      <td>2007-08-12</td>\n",
       "      <td>2015</td>\n",
       "      <td>1</td>\n",
       "      <td>1</td>\n",
       "      <td>1</td>\n",
       "    </tr>\n",
       "    <tr>\n",
       "      <th>3</th>\n",
       "      <td>d8d36575</td>\n",
       "      <td>2015-01-01 00:06:38.313</td>\n",
       "      <td>50a2c4f5</td>\n",
       "      <td>1</td>\n",
       "      <td>899.0</td>\n",
       "      <td>899.0</td>\n",
       "      <td>汤普葛罗女鞋活动促销双</td>\n",
       "      <td>857.54</td>\n",
       "      <td>5858</td>\n",
       "      <td>0.0</td>\n",
       "      <td>2007-08-12</td>\n",
       "      <td>2015</td>\n",
       "      <td>1</td>\n",
       "      <td>1</td>\n",
       "      <td>1</td>\n",
       "    </tr>\n",
       "    <tr>\n",
       "      <th>4</th>\n",
       "      <td>d8d36575</td>\n",
       "      <td>2015-01-01 00:06:38.313</td>\n",
       "      <td>d313ab1e</td>\n",
       "      <td>1</td>\n",
       "      <td>1960.0</td>\n",
       "      <td>1960.0</td>\n",
       "      <td>MARYLINGC件</td>\n",
       "      <td>1869.59</td>\n",
       "      <td>5858</td>\n",
       "      <td>0.0</td>\n",
       "      <td>2007-08-12</td>\n",
       "      <td>2015</td>\n",
       "      <td>1</td>\n",
       "      <td>1</td>\n",
       "      <td>1</td>\n",
       "    </tr>\n",
       "  </tbody>\n",
       "</table>\n",
       "</div>"
      ],
      "text/plain": [
       "       会员卡号                 消费产生的时间      商品编码  销售数量    商品售价    消费金额  \\\n",
       "0  d8d36575 2015-01-01 00:06:38.313  d313ab1e     1  1760.0  1760.0   \n",
       "1  d8d36575 2015-01-01 00:06:38.313  d313ab1e     1  9072.0  9072.0   \n",
       "2  d8d36575 2015-01-01 00:06:38.313  50a2c4f5     1  1507.0  1507.0   \n",
       "3  d8d36575 2015-01-01 00:06:38.313  50a2c4f5     1   899.0   899.0   \n",
       "4  d8d36575 2015-01-01 00:06:38.313  d313ab1e     1  1960.0  1960.0   \n",
       "\n",
       "          商品名称  此次消费的会员积分   单据号   性别       登记时间    年份  季度  月份  天  \n",
       "0   MARYLINGC件    1678.82  5858  0.0 2007-08-12  2015   1   1  1  \n",
       "1   MARYLINGC件    8653.56  5858  0.0 2007-08-12  2015   1   1  1  \n",
       "2  汤普葛罗女鞋活动促销双    1437.49  5858  0.0 2007-08-12  2015   1   1  1  \n",
       "3  汤普葛罗女鞋活动促销双     857.54  5858  0.0 2007-08-12  2015   1   1  1  \n",
       "4   MARYLINGC件    1869.59  5858  0.0 2007-08-12  2015   1   1  1  "
      ]
     },
     "execution_count": 68,
     "metadata": {},
     "output_type": "execute_result"
    }
   ],
   "source": [
    "#将消费产生的时间转变为日期格式\n",
    "df_vip['消费产生的时间']=pd.to_datetime(df_vip['消费产生的时间'])\n",
    "#新增四列数据\n",
    "df_vip['年份']=df_vip['消费产生的时间'].dt.year\n",
    "df_vip['季度']=df_vip['消费产生的时间'].dt.quarter\n",
    "df_vip['月份']=df_vip['消费产生的时间'].dt.month\n",
    "df_vip['天']=df_vip['消费产生的时间'].dt.day\n",
    "df_vip.head()"
   ]
  },
  {
   "cell_type": "code",
   "execution_count": 69,
   "id": "bf187d45",
   "metadata": {},
   "outputs": [],
   "source": [
    "#定义一个函数来计算2015-2018在指定实践段的消费订单均数\n",
    "def orders(df,label,div):\n",
    "    x_list=np.sort(df[label].unique().tolist())\n",
    "    order_nums=[]\n",
    "    for i in range(len(x_list)):\n",
    "        order_nums.append(int(len(df.loc[df[label]==x_list[i],'消费产生的时间'].unique())/div))\n",
    "    return x_list,order_nums\n"
   ]
  },
  {
   "cell_type": "code",
   "execution_count": 72,
   "id": "234cb4cb",
   "metadata": {},
   "outputs": [
    {
     "name": "stdout",
     "output_type": "stream",
     "text": [
      "{title[i]最优的时间为:{time_list[i][maxindex_list[i]]}\t 对应的均值消费订单数为:{order_list[i]}}\n",
      "{title[i]最优的时间为:{time_list[i][maxindex_list[i]]}\t 对应的均值消费订单数为:{order_list[i]}}\n"
     ]
    },
    {
     "data": {
      "image/png": "[encoded data removed]",
      "text/plain": [
       "<Figure size 1800x700 with 2 Axes>"
      ]
     },
     "metadata": {},
     "output_type": "display_data"
    }
   ],
   "source": [
    "#前提假设：2015-2018年之间，消费者偏好在时间上不会发生太大的变化\n",
    "quarters_list,quarters_order=orders(df_vip,'季度',3)\n",
    "days_list,days_order=orders(df_vip,'天',36)\n",
    "time_list=[quarters_list,days_list]\n",
    "order_list=[quarters_order,days_order]\n",
    "maxindex_list=[quarters_order.index(max(quarters_order)),days_order.index(max(days_order))]\n",
    "fig,axs=plt.subplots(1,2,figsize=(18,7),dpi=100)\n",
    "colors=np.random.choice(['r','g','b','orange','y'],replace=False,size=len(axs))\n",
    "titles=['季度的均值消费偏好','天数的均值消费偏好']\n",
    "labels=['季度','天数']\n",
    "for i in range(len(axs)):\n",
    "    ax=axs[i]\n",
    "    ax.plot(time_list[i],order_list[i],linestyle='-.',c=colors[i],marker='o',alpha=0.85)\n",
    "    ax.axvline(x=time_list[i][maxindex_list[i]],linestyle='--',c='k',alpha=0.8)\n",
    "    ax.set_title(titles[i])\n",
    "    ax.set_xlabel(labels[i])\n",
    "    ax.set_ylabel('均值消费订单数')\n",
    "    print(f\"{title[i]最优的时间为:{time_list[i][maxindex_list[i]]}\\t 对应的均值消费订单数为:{order_list[i]}}\")\n",
    "plt.savefig('./百货商城季度和天数的均值消费偏好情况.png')"
   ]
  },
  {
   "cell_type": "code",
   "execution_count": 77,
   "id": "574a7d69",
   "metadata": {},
   "outputs": [],
   "source": [
    "#自定义函数来绘制不同年份之间的季度或天数的消费订单差异\n",
    "def plot_qd(df,label_y,label_m,nrow,ncol):\n",
    "    #必须去掉最后一年的数据,只能对2015-2017之间的数据进行分析\n",
    "    y_list=np.sort(df[label_y].unique().tolist())[:-1]\n",
    "    colors=np.random.choice(['r','g','b','orange','y','k','c','m'],replace=False,size=len(y_list))\n",
    "    markers=['o','^', 'v']\n",
    "    plt.figure(figsize=(8,6),dpi=100)\n",
    "    fig,axs=plt.subplots(nrow,ncol,figsize=(16,7),dpi=100)\n",
    "    for k in range(len(label_m)):\n",
    "        m_list=np.sort(df[label_m[k]].unique().tolist())\n",
    "        for i in range(len(y_list)):\n",
    "            order_m=[]\n",
    "            index1=df[label_y]==y_list[i]\n",
    "            for j in range(len(m_list)):\n",
    "                index2 = df[label_m[k]] == m_list[j]\n",
    "                order_m.append(len(df.loc[index1 & index2, '消费产生的时间'].unique()))\n",
    "            axs[k].plot(m_list, order_m, linestyle ='-.', c = colors[i], alpha = 0.8, marker = markers[i], label = y_list[i], markersize = 4)\n",
    "        axs[k].set_xlabel(f'{label_m[k]}')\n",
    "        axs[k].set_ylabel('消费订单数')\n",
    "        axs[k].set_title(f'2015-2018年会员的{label_m[k]}消费订单差异')\n",
    "        axs[k].legend()\n",
    "    plt.savefig(f'./百货商城2015-2018年会员的{\"和\".join(label_m)}消费订单差异.png')"
   ]
  },
  {
   "cell_type": "code",
   "execution_count": 78,
   "id": "2a646ea9",
   "metadata": {},
   "outputs": [
    {
     "data": {
      "text/plain": [
       "<Figure size 800x600 with 0 Axes>"
      ]
     },
     "metadata": {},
     "output_type": "display_data"
    },
    {
     "data": {
      "image/png": "[encoded data removed]",
      "text/plain": [
       "<Figure size 1600x700 with 2 Axes>"
      ]
     },
     "metadata": {},
     "output_type": "display_data"
    }
   ],
   "source": [
    "plot_qd(df_vip,'年份',['季度','天'],1,2)"
   ]
  },
  {
   "cell_type": "code",
   "execution_count": 82,
   "id": "6712b470",
   "metadata": {},
   "outputs": [],
   "source": [
    "#自定义函数来绘制不同年份之间的月份消费订单差异\n",
    "def plot_ym(df,label_y,label_m):\n",
    "    y_list=np.sort(df[label_y].unique().tolist())[:-1]\n",
    "    m_list=np.sort(df[label_m].unique().tolist())\n",
    "    colors = np.random.choice(['r', 'g', 'b', 'orange', 'y'], replace = False, size = len(y_list))\n",
    "    markers = ['o', '^', 'v']\n",
    "    fig,axs=plt.subplots(1,2,figsize=(18,8),dpi=100)\n",
    "    for i in range(len(y_list)):\n",
    "        order_m=[]\n",
    "        money_m=[]\n",
    "        index1=df[label_y]==y_list[i]\n",
    "        for j in range(len(m_list)):\n",
    "            index2=df[label_m]==m_list[j]\n",
    "            order_m.append(len(df.loc[index1 & index2,'消费产生的时间'].unique()))\n",
    "            money_m.append(df.loc[index1 & index2,'消费金额'].sum())\n",
    "        axs[0].plot(m_list,order_m,linestyle='-.',c=colors[i],alpha=0.8,marker=markers[i],label=y_list[i])\n",
    "        axs[1].plot(m_list,money_m,linestyle='-.',c=colors[i],alpha=0.8,marker=markers[i],label=y_list[i])\n",
    "        axs[0].set_xlabel('月份')\n",
    "        axs[0].set_ylabel('消费订单数')\n",
    "        axs[0].set_title('2015-2018年会员的消费订单差异')\n",
    "        axs[1].set_xlabel('月份')\n",
    "        axs[1].set_ylabel('消费金额总数')\n",
    "        axs[1].set_title('2015-2018年会员的消费金额差异')\n",
    "        axs[0].legend()\n",
    "        axs[1].legend()\n",
    "    plt.savefig('./百货商场2015-2018年会员的消费订单和金额差异.png')"
   ]
  },
  {
   "cell_type": "code",
   "execution_count": 83,
   "id": "b38d986b",
   "metadata": {},
   "outputs": [
    {
     "data": {
      "image/png": "[encoded data removed]",
      "text/plain": [
       "<Figure size 1800x800 with 2 Axes>"
      ]
     },
     "metadata": {},
     "output_type": "display_data"
    }
   ],
   "source": [
    "plot_ym(df_vip,'年份','月份')"
   ]
  },
  {
   "cell_type": "markdown",
   "id": "b0948c78",
   "metadata": {},
   "source": [
    "- 再来分析下时间上的差异值"
   ]
  },
  {
   "cell_type": "code",
   "execution_count": 85,
   "id": "e3e90b37",
   "metadata": {},
   "outputs": [
    {
     "data": {
      "text/html": [
       "<div>\n",
       "<style scoped>\n",
       "    .dataframe tbody tr th:only-of-type {\n",
       "        vertical-align: middle;\n",
       "    }\n",
       "\n",
       "    .dataframe tbody tr th {\n",
       "        vertical-align: top;\n",
       "    }\n",
       "\n",
       "    .dataframe thead th {\n",
       "        text-align: right;\n",
       "    }\n",
       "</style>\n",
       "<table border=\"1\" class=\"dataframe\">\n",
       "  <thead>\n",
       "    <tr style=\"text-align: right;\">\n",
       "      <th></th>\n",
       "      <th>会员卡号</th>\n",
       "      <th>消费产生的时间</th>\n",
       "      <th>商品编码</th>\n",
       "      <th>销售数量</th>\n",
       "      <th>商品售价</th>\n",
       "      <th>消费金额</th>\n",
       "      <th>商品名称</th>\n",
       "      <th>此次消费的会员积分</th>\n",
       "      <th>单据号</th>\n",
       "      <th>性别</th>\n",
       "      <th>登记时间</th>\n",
       "      <th>年份</th>\n",
       "      <th>季度</th>\n",
       "      <th>月份</th>\n",
       "      <th>天</th>\n",
       "      <th>时间</th>\n",
       "    </tr>\n",
       "  </thead>\n",
       "  <tbody>\n",
       "    <tr>\n",
       "      <th>393477</th>\n",
       "      <td>826ea280</td>\n",
       "      <td>2018-01-03 21:25:16.236</td>\n",
       "      <td>2c276195</td>\n",
       "      <td>1</td>\n",
       "      <td>299.0</td>\n",
       "      <td>299.0</td>\n",
       "      <td>芭芭麻麻正价件</td>\n",
       "      <td>299.0</td>\n",
       "      <td>fcd0</td>\n",
       "      <td>0.0</td>\n",
       "      <td>2017-12-25 19:30:50.746</td>\n",
       "      <td>2018</td>\n",
       "      <td>1</td>\n",
       "      <td>1</td>\n",
       "      <td>3</td>\n",
       "      <td>21</td>\n",
       "    </tr>\n",
       "    <tr>\n",
       "      <th>393478</th>\n",
       "      <td>826ea280</td>\n",
       "      <td>2018-01-03 21:25:16.236</td>\n",
       "      <td>2c276195</td>\n",
       "      <td>1</td>\n",
       "      <td>399.0</td>\n",
       "      <td>399.0</td>\n",
       "      <td>芭芭麻麻正价件</td>\n",
       "      <td>399.0</td>\n",
       "      <td>fcd0</td>\n",
       "      <td>0.0</td>\n",
       "      <td>2017-12-25 19:30:50.746</td>\n",
       "      <td>2018</td>\n",
       "      <td>1</td>\n",
       "      <td>1</td>\n",
       "      <td>3</td>\n",
       "      <td>21</td>\n",
       "    </tr>\n",
       "    <tr>\n",
       "      <th>393479</th>\n",
       "      <td>5d761c48</td>\n",
       "      <td>2018-01-03 21:27:28.686</td>\n",
       "      <td>a1e1cc27</td>\n",
       "      <td>1</td>\n",
       "      <td>990.0</td>\n",
       "      <td>990.0</td>\n",
       "      <td>Gucci品牌 正价无</td>\n",
       "      <td>990.0</td>\n",
       "      <td>1f26</td>\n",
       "      <td>0.0</td>\n",
       "      <td>2016-11-25 15:09:06.323</td>\n",
       "      <td>2018</td>\n",
       "      <td>1</td>\n",
       "      <td>1</td>\n",
       "      <td>3</td>\n",
       "      <td>21</td>\n",
       "    </tr>\n",
       "    <tr>\n",
       "      <th>393480</th>\n",
       "      <td>607c7cde</td>\n",
       "      <td>2018-01-03 21:38:15.343</td>\n",
       "      <td>3bc576f1</td>\n",
       "      <td>2</td>\n",
       "      <td>480.0</td>\n",
       "      <td>960.0</td>\n",
       "      <td>植村秀腮红刷20</td>\n",
       "      <td>960.0</td>\n",
       "      <td>3d84</td>\n",
       "      <td>0.0</td>\n",
       "      <td>2017-09-02 19:44:50.123</td>\n",
       "      <td>2018</td>\n",
       "      <td>1</td>\n",
       "      <td>1</td>\n",
       "      <td>3</td>\n",
       "      <td>21</td>\n",
       "    </tr>\n",
       "    <tr>\n",
       "      <th>393481</th>\n",
       "      <td>607c7cde</td>\n",
       "      <td>2018-01-03 21:38:15.343</td>\n",
       "      <td>c483e08b</td>\n",
       "      <td>1</td>\n",
       "      <td>200.0</td>\n",
       "      <td>200.0</td>\n",
       "      <td>植村秀眉笔4g</td>\n",
       "      <td>200.0</td>\n",
       "      <td>3d84</td>\n",
       "      <td>0.0</td>\n",
       "      <td>2017-09-02 19:44:50.123</td>\n",
       "      <td>2018</td>\n",
       "      <td>1</td>\n",
       "      <td>1</td>\n",
       "      <td>3</td>\n",
       "      <td>21</td>\n",
       "    </tr>\n",
       "  </tbody>\n",
       "</table>\n",
       "</div>"
      ],
      "text/plain": [
       "            会员卡号                 消费产生的时间      商品编码  销售数量   商品售价   消费金额  \\\n",
       "393477  826ea280 2018-01-03 21:25:16.236  2c276195     1  299.0  299.0   \n",
       "393478  826ea280 2018-01-03 21:25:16.236  2c276195     1  399.0  399.0   \n",
       "393479  5d761c48 2018-01-03 21:27:28.686  a1e1cc27     1  990.0  990.0   \n",
       "393480  607c7cde 2018-01-03 21:38:15.343  3bc576f1     2  480.0  960.0   \n",
       "393481  607c7cde 2018-01-03 21:38:15.343  c483e08b     1  200.0  200.0   \n",
       "\n",
       "               商品名称  此次消费的会员积分   单据号   性别                    登记时间    年份  季度  \\\n",
       "393477      芭芭麻麻正价件      299.0  fcd0  0.0 2017-12-25 19:30:50.746  2018   1   \n",
       "393478      芭芭麻麻正价件      399.0  fcd0  0.0 2017-12-25 19:30:50.746  2018   1   \n",
       "393479  Gucci品牌 正价无      990.0  1f26  0.0 2016-11-25 15:09:06.323  2018   1   \n",
       "393480     植村秀腮红刷20      960.0  3d84  0.0 2017-09-02 19:44:50.123  2018   1   \n",
       "393481      植村秀眉笔4g      200.0  3d84  0.0 2017-09-02 19:44:50.123  2018   1   \n",
       "\n",
       "        月份  天  时间  \n",
       "393477   1  3  21  \n",
       "393478   1  3  21  \n",
       "393479   1  3  21  \n",
       "393480   1  3  21  \n",
       "393481   1  3  21  "
      ]
     },
     "execution_count": 85,
     "metadata": {},
     "output_type": "execute_result"
    }
   ],
   "source": [
    "df_vip['时间']=df_vip['消费产生的时间'].dt.hour\n",
    "df_vip.tail()"
   ]
  },
  {
   "cell_type": "code",
   "execution_count": 87,
   "id": "cdfa8d72",
   "metadata": {},
   "outputs": [],
   "source": [
    "x_list,order_nums=orders(df_vip,'时间',1)"
   ]
  },
  {
   "cell_type": "code",
   "execution_count": 88,
   "id": "b3e1ac20",
   "metadata": {},
   "outputs": [
    {
     "data": {
      "image/png": "[encoded data removed]",
      "text/plain": [
       "<Figure size 800x600 with 1 Axes>"
      ]
     },
     "metadata": {},
     "output_type": "display_data"
    }
   ],
   "source": [
    "maxindex=order_nums.index(max(order_nums))\n",
    "plt.figure(figsize=(8,6),dpi=100)\n",
    "plt.plot(x_list,order_nums,linestyle='-.',marker='o',c='m',alpha=0.8)\n",
    "plt.xlabel('小时')\n",
    "plt.ylabel('消费订单')\n",
    "plt.axvline(x=x_list[maxindex],linestyle='--',c='r',alpha=0.6)\n",
    "plt.title('2015-2018年每个小时的订单销售总数量')\n",
    "plt.savefig('./商场分析2015-2018年各段小时的销售订单数.png')"
   ]
  },
  {
   "cell_type": "markdown",
   "id": "f6ff4956",
   "metadata": {},
   "source": [
    "- 保存数据"
   ]
  },
  {
   "cell_type": "code",
   "execution_count": 91,
   "id": "3fa11c7b",
   "metadata": {},
   "outputs": [],
   "source": [
    "df_vip.to_csv('./data/vip_info0221-1.csv',index=None)"
   ]
  },
  {
   "cell_type": "markdown",
   "id": "a8674d0f",
   "metadata": {},
   "source": [
    "### 任务4 会员用户画像和特征字段创造"
   ]
  },
  {
   "cell_type": "markdown",
   "id": "2cc2f84b",
   "metadata": {},
   "source": [
    "#### 4.1构建会员用户基本特征标签"
   ]
  },
  {
   "cell_type": "code",
   "execution_count": 2,
   "id": "9ea71249",
   "metadata": {},
   "outputs": [],
   "source": [
    "df_vip=pd.read_csv('./data/vip_info0221-1.csv')"
   ]
  },
  {
   "cell_type": "code",
   "execution_count": 3,
   "id": "d161f2df",
   "metadata": {},
   "outputs": [
    {
     "data": {
      "text/html": [
       "<div>\n",
       "<style scoped>\n",
       "    .dataframe tbody tr th:only-of-type {\n",
       "        vertical-align: middle;\n",
       "    }\n",
       "\n",
       "    .dataframe tbody tr th {\n",
       "        vertical-align: top;\n",
       "    }\n",
       "\n",
       "    .dataframe thead th {\n",
       "        text-align: right;\n",
       "    }\n",
       "</style>\n",
       "<table border=\"1\" class=\"dataframe\">\n",
       "  <thead>\n",
       "    <tr style=\"text-align: right;\">\n",
       "      <th></th>\n",
       "      <th>会员卡号</th>\n",
       "      <th>消费产生的时间</th>\n",
       "      <th>商品编码</th>\n",
       "      <th>销售数量</th>\n",
       "      <th>商品售价</th>\n",
       "      <th>消费金额</th>\n",
       "      <th>商品名称</th>\n",
       "      <th>此次消费的会员积分</th>\n",
       "      <th>单据号</th>\n",
       "      <th>性别</th>\n",
       "      <th>登记时间</th>\n",
       "      <th>年份</th>\n",
       "      <th>季度</th>\n",
       "      <th>月份</th>\n",
       "      <th>天</th>\n",
       "      <th>时间</th>\n",
       "    </tr>\n",
       "  </thead>\n",
       "  <tbody>\n",
       "    <tr>\n",
       "      <th>0</th>\n",
       "      <td>d8d36575</td>\n",
       "      <td>2015-01-01 00:06:38.313</td>\n",
       "      <td>d313ab1e</td>\n",
       "      <td>1</td>\n",
       "      <td>1760.0</td>\n",
       "      <td>1760.0</td>\n",
       "      <td>MARYLINGC件</td>\n",
       "      <td>1678.82</td>\n",
       "      <td>5858</td>\n",
       "      <td>0.0</td>\n",
       "      <td>2007-08-12 00:00:00.000</td>\n",
       "      <td>2015</td>\n",
       "      <td>1</td>\n",
       "      <td>1</td>\n",
       "      <td>1</td>\n",
       "      <td>0</td>\n",
       "    </tr>\n",
       "    <tr>\n",
       "      <th>1</th>\n",
       "      <td>d8d36575</td>\n",
       "      <td>2015-01-01 00:06:38.313</td>\n",
       "      <td>d313ab1e</td>\n",
       "      <td>1</td>\n",
       "      <td>9072.0</td>\n",
       "      <td>9072.0</td>\n",
       "      <td>MARYLINGC件</td>\n",
       "      <td>8653.56</td>\n",
       "      <td>5858</td>\n",
       "      <td>0.0</td>\n",
       "      <td>2007-08-12 00:00:00.000</td>\n",
       "      <td>2015</td>\n",
       "      <td>1</td>\n",
       "      <td>1</td>\n",
       "      <td>1</td>\n",
       "      <td>0</td>\n",
       "    </tr>\n",
       "    <tr>\n",
       "      <th>2</th>\n",
       "      <td>d8d36575</td>\n",
       "      <td>2015-01-01 00:06:38.313</td>\n",
       "      <td>50a2c4f5</td>\n",
       "      <td>1</td>\n",
       "      <td>1507.0</td>\n",
       "      <td>1507.0</td>\n",
       "      <td>汤普葛罗女鞋活动促销双</td>\n",
       "      <td>1437.49</td>\n",
       "      <td>5858</td>\n",
       "      <td>0.0</td>\n",
       "      <td>2007-08-12 00:00:00.000</td>\n",
       "      <td>2015</td>\n",
       "      <td>1</td>\n",
       "      <td>1</td>\n",
       "      <td>1</td>\n",
       "      <td>0</td>\n",
       "    </tr>\n",
       "    <tr>\n",
       "      <th>3</th>\n",
       "      <td>d8d36575</td>\n",
       "      <td>2015-01-01 00:06:38.313</td>\n",
       "      <td>50a2c4f5</td>\n",
       "      <td>1</td>\n",
       "      <td>899.0</td>\n",
       "      <td>899.0</td>\n",
       "      <td>汤普葛罗女鞋活动促销双</td>\n",
       "      <td>857.54</td>\n",
       "      <td>5858</td>\n",
       "      <td>0.0</td>\n",
       "      <td>2007-08-12 00:00:00.000</td>\n",
       "      <td>2015</td>\n",
       "      <td>1</td>\n",
       "      <td>1</td>\n",
       "      <td>1</td>\n",
       "      <td>0</td>\n",
       "    </tr>\n",
       "    <tr>\n",
       "      <th>4</th>\n",
       "      <td>d8d36575</td>\n",
       "      <td>2015-01-01 00:06:38.313</td>\n",
       "      <td>d313ab1e</td>\n",
       "      <td>1</td>\n",
       "      <td>1960.0</td>\n",
       "      <td>1960.0</td>\n",
       "      <td>MARYLINGC件</td>\n",
       "      <td>1869.59</td>\n",
       "      <td>5858</td>\n",
       "      <td>0.0</td>\n",
       "      <td>2007-08-12 00:00:00.000</td>\n",
       "      <td>2015</td>\n",
       "      <td>1</td>\n",
       "      <td>1</td>\n",
       "      <td>1</td>\n",
       "      <td>0</td>\n",
       "    </tr>\n",
       "  </tbody>\n",
       "</table>\n",
       "</div>"
      ],
      "text/plain": [
       "       会员卡号                  消费产生的时间      商品编码  销售数量    商品售价    消费金额  \\\n",
       "0  d8d36575  2015-01-01 00:06:38.313  d313ab1e     1  1760.0  1760.0   \n",
       "1  d8d36575  2015-01-01 00:06:38.313  d313ab1e     1  9072.0  9072.0   \n",
       "2  d8d36575  2015-01-01 00:06:38.313  50a2c4f5     1  1507.0  1507.0   \n",
       "3  d8d36575  2015-01-01 00:06:38.313  50a2c4f5     1   899.0   899.0   \n",
       "4  d8d36575  2015-01-01 00:06:38.313  d313ab1e     1  1960.0  1960.0   \n",
       "\n",
       "          商品名称  此次消费的会员积分   单据号   性别                     登记时间    年份  季度  月份  \\\n",
       "0   MARYLINGC件    1678.82  5858  0.0  2007-08-12 00:00:00.000  2015   1   1   \n",
       "1   MARYLINGC件    8653.56  5858  0.0  2007-08-12 00:00:00.000  2015   1   1   \n",
       "2  汤普葛罗女鞋活动促销双    1437.49  5858  0.0  2007-08-12 00:00:00.000  2015   1   1   \n",
       "3  汤普葛罗女鞋活动促销双     857.54  5858  0.0  2007-08-12 00:00:00.000  2015   1   1   \n",
       "4   MARYLINGC件    1869.59  5858  0.0  2007-08-12 00:00:00.000  2015   1   1   \n",
       "\n",
       "   天  时间  \n",
       "0  1   0  \n",
       "1  1   0  \n",
       "2  1   0  \n",
       "3  1   0  \n",
       "4  1   0  "
      ]
     },
     "execution_count": 3,
     "metadata": {},
     "output_type": "execute_result"
    }
   ],
   "source": [
    "df_vip.head()"
   ]
  },
  {
   "cell_type": "code",
   "execution_count": 4,
   "id": "e1efc070",
   "metadata": {},
   "outputs": [
    {
     "name": "stdout",
     "output_type": "stream",
     "text": [
      "True\n"
     ]
    },
    {
     "data": {
      "text/plain": [
       "393482"
      ]
     },
     "execution_count": 4,
     "metadata": {},
     "output_type": "execute_result"
    }
   ],
   "source": [
    "#测试积分这一列有没有异常值\n",
    "print(len(df_vip['此次消费的会员积分']>0)==df_vip.shape[0])\n",
    "len(df_vip[df_vip['消费金额']>0])\n"
   ]
  },
  {
   "cell_type": "code",
   "execution_count": 5,
   "id": "786aba16",
   "metadata": {},
   "outputs": [
    {
     "name": "stdout",
     "output_type": "stream",
     "text": [
      "<class 'pandas.core.frame.DataFrame'>\n",
      "RangeIndex: 393482 entries, 0 to 393481\n",
      "Data columns (total 16 columns):\n",
      " #   Column     Non-Null Count   Dtype  \n",
      "---  ------     --------------   -----  \n",
      " 0   会员卡号       393482 non-null  object \n",
      " 1   消费产生的时间    393482 non-null  object \n",
      " 2   商品编码       393482 non-null  object \n",
      " 3   销售数量       393482 non-null  int64  \n",
      " 4   商品售价       393482 non-null  float64\n",
      " 5   消费金额       393482 non-null  float64\n",
      " 6   商品名称       393482 non-null  object \n",
      " 7   此次消费的会员积分  393482 non-null  float64\n",
      " 8   单据号        393482 non-null  object \n",
      " 9   性别         393482 non-null  float64\n",
      " 10  登记时间       393482 non-null  object \n",
      " 11  年份         393482 non-null  int64  \n",
      " 12  季度         393482 non-null  int64  \n",
      " 13  月份         393482 non-null  int64  \n",
      " 14  天          393482 non-null  int64  \n",
      " 15  时间         393482 non-null  int64  \n",
      "dtypes: float64(4), int64(6), object(6)\n",
      "memory usage: 48.0+ MB\n"
     ]
    }
   ],
   "source": [
    "df_vip.info()"
   ]
  },
  {
   "cell_type": "markdown",
   "id": "59d4c5c6",
   "metadata": {},
   "source": [
    "- 筛选掉两列异常时间的数据"
   ]
  },
  {
   "cell_type": "code",
   "execution_count": 7,
   "id": "fb377451",
   "metadata": {},
   "outputs": [
    {
     "data": {
      "text/plain": [
       "393006"
      ]
     },
     "execution_count": 7,
     "metadata": {},
     "output_type": "execute_result"
    }
   ],
   "source": [
    "index1=df_vip['消费产生的时间']<'2018-01-03'\n",
    "index2=df_vip['登记时间']<'2018-01-03'\n",
    "df_vip=df_vip[index1 & index2]\n",
    "df_vip.index=range(df_vip.shape[0])\n",
    "df_vip.shape[0]"
   ]
  },
  {
   "cell_type": "code",
   "execution_count": 8,
   "id": "d8101eae",
   "metadata": {},
   "outputs": [
    {
     "data": {
      "text/plain": [
       "42548"
      ]
     },
     "execution_count": 8,
     "metadata": {},
     "output_type": "execute_result"
    }
   ],
   "source": [
    "df_vip['会员卡号'].nunique()"
   ]
  },
  {
   "cell_type": "markdown",
   "id": "415ed626",
   "metadata": {},
   "source": [
    "- 说明每一个会员有多条消息记录\n"
   ]
  },
  {
   "cell_type": "code",
   "execution_count": 9,
   "id": "c4e5a03b",
   "metadata": {},
   "outputs": [
    {
     "data": {
      "text/plain": [
       "Index(['会员卡号', '消费产生的时间', '商品编码', '销售数量', '商品售价', '消费金额', '商品名称', '此次消费的会员积分',\n",
       "       '单据号', '性别', '登记时间', '年份', '季度', '月份', '天', '时间'],\n",
       "      dtype='object')"
      ]
     },
     "execution_count": 9,
     "metadata": {},
     "output_type": "execute_result"
    }
   ],
   "source": [
    "df_vip.columns"
   ]
  },
  {
   "cell_type": "markdown",
   "id": "70f9cc41",
   "metadata": {},
   "source": [
    "- 可以筛选出每一位会员，然后依据各个字段对其进行运算，求出对应的LRFMP"
   ]
  },
  {
   "cell_type": "code",
   "execution_count": 10,
   "id": "b9b87791",
   "metadata": {},
   "outputs": [],
   "source": [
    "#自定义一个函数来实现两列数据时间相减\n",
    "def time_minus(df,end_time):\n",
    "    \"\"\"\n",
    "    df:为dateFrame形式，第一列为会员卡号，第二列为被减的时间\n",
    "    end_time:结束时间\n",
    "    \"\"\"\n",
    "    df.columns=['A','B']\n",
    "    df['C']=end_time\n",
    "    l=pd.to_datetime(df['C'])-pd.to_datetime(df['B'])\n",
    "    l=l.apply(lambda x:str(x).split(' ')[0])\n",
    "    l=l.astype(int)/30\n",
    "    return l "
   ]
  },
  {
   "cell_type": "code",
   "execution_count": 19,
   "id": "201c684f",
   "metadata": {},
   "outputs": [],
   "source": [
    "#开始登记的时间\n",
    "df_L=df_vip.groupby('会员卡号')['登记时间'].agg(lambda x: x.values[-1]).reset_index()\n",
    "#最后一次消费的时间\n",
    "df_R=df_vip.groupby('会员卡号')['消费产生的时间'].agg(lambda x :x.values[-1]).reset_index()"
   ]
  },
  {
   "cell_type": "code",
   "execution_count": 24,
   "id": "554fcd7d",
   "metadata": {},
   "outputs": [
    {
     "ename": "ValueError",
     "evalue": "Length mismatch: Expected axis has 3 elements, new values have 2 elements",
     "output_type": "error",
     "traceback": [
      "\u001b[1;31m---------------------------------------------------------------------------\u001b[0m",
      "\u001b[1;31mValueError\u001b[0m                                Traceback (most recent call last)",
      "\u001b[1;32m~\\AppData\\Local\\Temp/ipykernel_54716/1938686759.py\u001b[0m in \u001b[0;36m<module>\u001b[1;34m\u001b[0m\n\u001b[0;32m      1\u001b[0m \u001b[1;31m#调用函数，end_time='2018-1-3'\u001b[0m\u001b[1;33m\u001b[0m\u001b[1;33m\u001b[0m\u001b[0m\n\u001b[0;32m      2\u001b[0m \u001b[0mend_time\u001b[0m\u001b[1;33m=\u001b[0m\u001b[1;34m'2018-1-3'\u001b[0m\u001b[1;33m\u001b[0m\u001b[1;33m\u001b[0m\u001b[0m\n\u001b[1;32m----> 3\u001b[1;33m \u001b[0mL\u001b[0m\u001b[1;33m=\u001b[0m\u001b[0mtime_minus\u001b[0m\u001b[1;33m(\u001b[0m\u001b[0mdf_L\u001b[0m\u001b[1;33m,\u001b[0m\u001b[0mend_time\u001b[0m\u001b[1;33m)\u001b[0m\u001b[1;33m\u001b[0m\u001b[1;33m\u001b[0m\u001b[0m\n\u001b[0m\u001b[0;32m      4\u001b[0m \u001b[0mR\u001b[0m\u001b[1;33m=\u001b[0m\u001b[0mtime_minus\u001b[0m\u001b[1;33m(\u001b[0m\u001b[0mdf_R\u001b[0m\u001b[1;33m,\u001b[0m\u001b[0mend_time\u001b[0m\u001b[1;33m)\u001b[0m\u001b[1;33m\u001b[0m\u001b[1;33m\u001b[0m\u001b[0m\n",
      "\u001b[1;32m~\\AppData\\Local\\Temp/ipykernel_54716/3506688056.py\u001b[0m in \u001b[0;36mtime_minus\u001b[1;34m(df, end_time)\u001b[0m\n\u001b[0;32m      5\u001b[0m     \u001b[0mend_time\u001b[0m\u001b[1;33m:\u001b[0m\u001b[0m结束时间\u001b[0m\u001b[1;33m\u001b[0m\u001b[1;33m\u001b[0m\u001b[0m\n\u001b[0;32m      6\u001b[0m     \"\"\"\n\u001b[1;32m----> 7\u001b[1;33m     \u001b[0mdf\u001b[0m\u001b[1;33m.\u001b[0m\u001b[0mcolumns\u001b[0m\u001b[1;33m=\u001b[0m\u001b[1;33m[\u001b[0m\u001b[1;34m'A'\u001b[0m\u001b[1;33m,\u001b[0m\u001b[1;34m'B'\u001b[0m\u001b[1;33m]\u001b[0m\u001b[1;33m\u001b[0m\u001b[1;33m\u001b[0m\u001b[0m\n\u001b[0m\u001b[0;32m      8\u001b[0m     \u001b[0mdf\u001b[0m\u001b[1;33m[\u001b[0m\u001b[1;34m'C'\u001b[0m\u001b[1;33m]\u001b[0m\u001b[1;33m=\u001b[0m\u001b[0mend_time\u001b[0m\u001b[1;33m\u001b[0m\u001b[1;33m\u001b[0m\u001b[0m\n\u001b[0;32m      9\u001b[0m     \u001b[0ml\u001b[0m\u001b[1;33m=\u001b[0m\u001b[0mpd\u001b[0m\u001b[1;33m.\u001b[0m\u001b[0mto_datetime\u001b[0m\u001b[1;33m(\u001b[0m\u001b[0mdf\u001b[0m\u001b[1;33m[\u001b[0m\u001b[1;34m'C'\u001b[0m\u001b[1;33m]\u001b[0m\u001b[1;33m)\u001b[0m\u001b[1;33m-\u001b[0m\u001b[0mpd\u001b[0m\u001b[1;33m.\u001b[0m\u001b[0mto_datetime\u001b[0m\u001b[1;33m(\u001b[0m\u001b[0mdf\u001b[0m\u001b[1;33m[\u001b[0m\u001b[1;34m'B'\u001b[0m\u001b[1;33m]\u001b[0m\u001b[1;33m)\u001b[0m\u001b[1;33m\u001b[0m\u001b[1;33m\u001b[0m\u001b[0m\n",
      "\u001b[1;32mD:\\anacondaStup\\lib\\site-packages\\pandas\\core\\generic.py\u001b[0m in \u001b[0;36m__setattr__\u001b[1;34m(self, name, value)\u001b[0m\n\u001b[0;32m   5498\u001b[0m         \u001b[1;32mtry\u001b[0m\u001b[1;33m:\u001b[0m\u001b[1;33m\u001b[0m\u001b[1;33m\u001b[0m\u001b[0m\n\u001b[0;32m   5499\u001b[0m             \u001b[0mobject\u001b[0m\u001b[1;33m.\u001b[0m\u001b[0m__getattribute__\u001b[0m\u001b[1;33m(\u001b[0m\u001b[0mself\u001b[0m\u001b[1;33m,\u001b[0m \u001b[0mname\u001b[0m\u001b[1;33m)\u001b[0m\u001b[1;33m\u001b[0m\u001b[1;33m\u001b[0m\u001b[0m\n\u001b[1;32m-> 5500\u001b[1;33m             \u001b[1;32mreturn\u001b[0m \u001b[0mobject\u001b[0m\u001b[1;33m.\u001b[0m\u001b[0m__setattr__\u001b[0m\u001b[1;33m(\u001b[0m\u001b[0mself\u001b[0m\u001b[1;33m,\u001b[0m \u001b[0mname\u001b[0m\u001b[1;33m,\u001b[0m \u001b[0mvalue\u001b[0m\u001b[1;33m)\u001b[0m\u001b[1;33m\u001b[0m\u001b[1;33m\u001b[0m\u001b[0m\n\u001b[0m\u001b[0;32m   5501\u001b[0m         \u001b[1;32mexcept\u001b[0m \u001b[0mAttributeError\u001b[0m\u001b[1;33m:\u001b[0m\u001b[1;33m\u001b[0m\u001b[1;33m\u001b[0m\u001b[0m\n\u001b[0;32m   5502\u001b[0m             \u001b[1;32mpass\u001b[0m\u001b[1;33m\u001b[0m\u001b[1;33m\u001b[0m\u001b[0m\n",
      "\u001b[1;32mD:\\anacondaStup\\lib\\site-packages\\pandas\\_libs\\properties.pyx\u001b[0m in \u001b[0;36mpandas._libs.properties.AxisProperty.__set__\u001b[1;34m()\u001b[0m\n",
      "\u001b[1;32mD:\\anacondaStup\\lib\\site-packages\\pandas\\core\\generic.py\u001b[0m in \u001b[0;36m_set_axis\u001b[1;34m(self, axis, labels)\u001b[0m\n\u001b[0;32m    764\u001b[0m     \u001b[1;32mdef\u001b[0m \u001b[0m_set_axis\u001b[0m\u001b[1;33m(\u001b[0m\u001b[0mself\u001b[0m\u001b[1;33m,\u001b[0m \u001b[0maxis\u001b[0m\u001b[1;33m:\u001b[0m \u001b[0mint\u001b[0m\u001b[1;33m,\u001b[0m \u001b[0mlabels\u001b[0m\u001b[1;33m:\u001b[0m \u001b[0mIndex\u001b[0m\u001b[1;33m)\u001b[0m \u001b[1;33m->\u001b[0m \u001b[1;32mNone\u001b[0m\u001b[1;33m:\u001b[0m\u001b[1;33m\u001b[0m\u001b[1;33m\u001b[0m\u001b[0m\n\u001b[0;32m    765\u001b[0m         \u001b[0mlabels\u001b[0m \u001b[1;33m=\u001b[0m \u001b[0mensure_index\u001b[0m\u001b[1;33m(\u001b[0m\u001b[0mlabels\u001b[0m\u001b[1;33m)\u001b[0m\u001b[1;33m\u001b[0m\u001b[1;33m\u001b[0m\u001b[0m\n\u001b[1;32m--> 766\u001b[1;33m         \u001b[0mself\u001b[0m\u001b[1;33m.\u001b[0m\u001b[0m_mgr\u001b[0m\u001b[1;33m.\u001b[0m\u001b[0mset_axis\u001b[0m\u001b[1;33m(\u001b[0m\u001b[0maxis\u001b[0m\u001b[1;33m,\u001b[0m \u001b[0mlabels\u001b[0m\u001b[1;33m)\u001b[0m\u001b[1;33m\u001b[0m\u001b[1;33m\u001b[0m\u001b[0m\n\u001b[0m\u001b[0;32m    767\u001b[0m         \u001b[0mself\u001b[0m\u001b[1;33m.\u001b[0m\u001b[0m_clear_item_cache\u001b[0m\u001b[1;33m(\u001b[0m\u001b[1;33m)\u001b[0m\u001b[1;33m\u001b[0m\u001b[1;33m\u001b[0m\u001b[0m\n\u001b[0;32m    768\u001b[0m \u001b[1;33m\u001b[0m\u001b[0m\n",
      "\u001b[1;32mD:\\anacondaStup\\lib\\site-packages\\pandas\\core\\internals\\managers.py\u001b[0m in \u001b[0;36mset_axis\u001b[1;34m(self, axis, new_labels)\u001b[0m\n\u001b[0;32m    214\u001b[0m     \u001b[1;32mdef\u001b[0m \u001b[0mset_axis\u001b[0m\u001b[1;33m(\u001b[0m\u001b[0mself\u001b[0m\u001b[1;33m,\u001b[0m \u001b[0maxis\u001b[0m\u001b[1;33m:\u001b[0m \u001b[0mint\u001b[0m\u001b[1;33m,\u001b[0m \u001b[0mnew_labels\u001b[0m\u001b[1;33m:\u001b[0m \u001b[0mIndex\u001b[0m\u001b[1;33m)\u001b[0m \u001b[1;33m->\u001b[0m \u001b[1;32mNone\u001b[0m\u001b[1;33m:\u001b[0m\u001b[1;33m\u001b[0m\u001b[1;33m\u001b[0m\u001b[0m\n\u001b[0;32m    215\u001b[0m         \u001b[1;31m# Caller is responsible for ensuring we have an Index object.\u001b[0m\u001b[1;33m\u001b[0m\u001b[1;33m\u001b[0m\u001b[0m\n\u001b[1;32m--> 216\u001b[1;33m         \u001b[0mself\u001b[0m\u001b[1;33m.\u001b[0m\u001b[0m_validate_set_axis\u001b[0m\u001b[1;33m(\u001b[0m\u001b[0maxis\u001b[0m\u001b[1;33m,\u001b[0m \u001b[0mnew_labels\u001b[0m\u001b[1;33m)\u001b[0m\u001b[1;33m\u001b[0m\u001b[1;33m\u001b[0m\u001b[0m\n\u001b[0m\u001b[0;32m    217\u001b[0m         \u001b[0mself\u001b[0m\u001b[1;33m.\u001b[0m\u001b[0maxes\u001b[0m\u001b[1;33m[\u001b[0m\u001b[0maxis\u001b[0m\u001b[1;33m]\u001b[0m \u001b[1;33m=\u001b[0m \u001b[0mnew_labels\u001b[0m\u001b[1;33m\u001b[0m\u001b[1;33m\u001b[0m\u001b[0m\n\u001b[0;32m    218\u001b[0m \u001b[1;33m\u001b[0m\u001b[0m\n",
      "\u001b[1;32mD:\\anacondaStup\\lib\\site-packages\\pandas\\core\\internals\\base.py\u001b[0m in \u001b[0;36m_validate_set_axis\u001b[1;34m(self, axis, new_labels)\u001b[0m\n\u001b[0;32m     55\u001b[0m \u001b[1;33m\u001b[0m\u001b[0m\n\u001b[0;32m     56\u001b[0m         \u001b[1;32melif\u001b[0m \u001b[0mnew_len\u001b[0m \u001b[1;33m!=\u001b[0m \u001b[0mold_len\u001b[0m\u001b[1;33m:\u001b[0m\u001b[1;33m\u001b[0m\u001b[1;33m\u001b[0m\u001b[0m\n\u001b[1;32m---> 57\u001b[1;33m             raise ValueError(\n\u001b[0m\u001b[0;32m     58\u001b[0m                 \u001b[1;34mf\"Length mismatch: Expected axis has {old_len} elements, new \"\u001b[0m\u001b[1;33m\u001b[0m\u001b[1;33m\u001b[0m\u001b[0m\n\u001b[0;32m     59\u001b[0m                 \u001b[1;34mf\"values have {new_len} elements\"\u001b[0m\u001b[1;33m\u001b[0m\u001b[1;33m\u001b[0m\u001b[0m\n",
      "\u001b[1;31mValueError\u001b[0m: Length mismatch: Expected axis has 3 elements, new values have 2 elements"
     ]
    }
   ],
   "source": [
    "#调用函数，end_time='2018-1-3'\n",
    "end_time='2018-1-3'\n",
    "L=time_minus(df_L,end_time)\n",
    "R=time_minus(df_R,end_time)"
   ]
  },
  {
   "cell_type": "code",
   "execution_count": 28,
   "id": "a8631d00",
   "metadata": {},
   "outputs": [],
   "source": [
    "#会员消费的总次数\n",
    "F=df_vip.groupby('会员卡号')['消费产生的时间'].agg(lambda x :len(np.unique(x.values))).reset_index(drop=True)\n"
   ]
  },
  {
   "cell_type": "code",
   "execution_count": 35,
   "id": "7a403174",
   "metadata": {},
   "outputs": [],
   "source": [
    "#会员消费的总金额\n",
    "M=df_vip.groupby('会员卡号')['消费金额'].agg('sum').reset_index(drop=True)"
   ]
  },
  {
   "cell_type": "code",
   "execution_count": 36,
   "id": "87b2fd88",
   "metadata": {},
   "outputs": [],
   "source": [
    "#会员的积分总数\n",
    "P=df_vip.groupby('会员卡号')['此次消费的会员积分'].agg('sum').reset_index(drop=True)"
   ]
  },
  {
   "cell_type": "markdown",
   "id": "1bebb73f",
   "metadata": {},
   "source": [
    "- 创建一列特征字段'消费时间偏好’\n",
    "  - 凌晨 0-5\n",
    "  - 上午 6-10\n",
    "  - 中午 11-13\n",
    "  - 下午 14-17\n",
    "  - 晚上 18-23"
   ]
  },
  {
   "cell_type": "code",
   "execution_count": 39,
   "id": "90028b21",
   "metadata": {},
   "outputs": [
    {
     "data": {
      "text/html": [
       "<div>\n",
       "<style scoped>\n",
       "    .dataframe tbody tr th:only-of-type {\n",
       "        vertical-align: middle;\n",
       "    }\n",
       "\n",
       "    .dataframe tbody tr th {\n",
       "        vertical-align: top;\n",
       "    }\n",
       "\n",
       "    .dataframe thead th {\n",
       "        text-align: right;\n",
       "    }\n",
       "</style>\n",
       "<table border=\"1\" class=\"dataframe\">\n",
       "  <thead>\n",
       "    <tr style=\"text-align: right;\">\n",
       "      <th></th>\n",
       "      <th>会员卡号</th>\n",
       "      <th>消费产生的时间</th>\n",
       "      <th>商品编码</th>\n",
       "      <th>销售数量</th>\n",
       "      <th>商品售价</th>\n",
       "      <th>消费金额</th>\n",
       "      <th>商品名称</th>\n",
       "      <th>此次消费的会员积分</th>\n",
       "      <th>单据号</th>\n",
       "      <th>性别</th>\n",
       "      <th>登记时间</th>\n",
       "      <th>年份</th>\n",
       "      <th>季度</th>\n",
       "      <th>月份</th>\n",
       "      <th>天</th>\n",
       "      <th>时间</th>\n",
       "      <th>消费时间偏好</th>\n",
       "    </tr>\n",
       "  </thead>\n",
       "  <tbody>\n",
       "    <tr>\n",
       "      <th>0</th>\n",
       "      <td>d8d36575</td>\n",
       "      <td>2015-01-01 00:06:38.313</td>\n",
       "      <td>d313ab1e</td>\n",
       "      <td>1</td>\n",
       "      <td>1760.0</td>\n",
       "      <td>1760.0</td>\n",
       "      <td>MARYLINGC件</td>\n",
       "      <td>1678.82</td>\n",
       "      <td>5858</td>\n",
       "      <td>0.0</td>\n",
       "      <td>2007-08-12 00:00:00.000</td>\n",
       "      <td>2015</td>\n",
       "      <td>1</td>\n",
       "      <td>1</td>\n",
       "      <td>1</td>\n",
       "      <td>0</td>\n",
       "      <td>凌晨</td>\n",
       "    </tr>\n",
       "    <tr>\n",
       "      <th>1</th>\n",
       "      <td>d8d36575</td>\n",
       "      <td>2015-01-01 00:06:38.313</td>\n",
       "      <td>d313ab1e</td>\n",
       "      <td>1</td>\n",
       "      <td>9072.0</td>\n",
       "      <td>9072.0</td>\n",
       "      <td>MARYLINGC件</td>\n",
       "      <td>8653.56</td>\n",
       "      <td>5858</td>\n",
       "      <td>0.0</td>\n",
       "      <td>2007-08-12 00:00:00.000</td>\n",
       "      <td>2015</td>\n",
       "      <td>1</td>\n",
       "      <td>1</td>\n",
       "      <td>1</td>\n",
       "      <td>0</td>\n",
       "      <td>凌晨</td>\n",
       "    </tr>\n",
       "    <tr>\n",
       "      <th>2</th>\n",
       "      <td>d8d36575</td>\n",
       "      <td>2015-01-01 00:06:38.313</td>\n",
       "      <td>50a2c4f5</td>\n",
       "      <td>1</td>\n",
       "      <td>1507.0</td>\n",
       "      <td>1507.0</td>\n",
       "      <td>汤普葛罗女鞋活动促销双</td>\n",
       "      <td>1437.49</td>\n",
       "      <td>5858</td>\n",
       "      <td>0.0</td>\n",
       "      <td>2007-08-12 00:00:00.000</td>\n",
       "      <td>2015</td>\n",
       "      <td>1</td>\n",
       "      <td>1</td>\n",
       "      <td>1</td>\n",
       "      <td>0</td>\n",
       "      <td>凌晨</td>\n",
       "    </tr>\n",
       "    <tr>\n",
       "      <th>3</th>\n",
       "      <td>d8d36575</td>\n",
       "      <td>2015-01-01 00:06:38.313</td>\n",
       "      <td>50a2c4f5</td>\n",
       "      <td>1</td>\n",
       "      <td>899.0</td>\n",
       "      <td>899.0</td>\n",
       "      <td>汤普葛罗女鞋活动促销双</td>\n",
       "      <td>857.54</td>\n",
       "      <td>5858</td>\n",
       "      <td>0.0</td>\n",
       "      <td>2007-08-12 00:00:00.000</td>\n",
       "      <td>2015</td>\n",
       "      <td>1</td>\n",
       "      <td>1</td>\n",
       "      <td>1</td>\n",
       "      <td>0</td>\n",
       "      <td>凌晨</td>\n",
       "    </tr>\n",
       "    <tr>\n",
       "      <th>4</th>\n",
       "      <td>d8d36575</td>\n",
       "      <td>2015-01-01 00:06:38.313</td>\n",
       "      <td>d313ab1e</td>\n",
       "      <td>1</td>\n",
       "      <td>1960.0</td>\n",
       "      <td>1960.0</td>\n",
       "      <td>MARYLINGC件</td>\n",
       "      <td>1869.59</td>\n",
       "      <td>5858</td>\n",
       "      <td>0.0</td>\n",
       "      <td>2007-08-12 00:00:00.000</td>\n",
       "      <td>2015</td>\n",
       "      <td>1</td>\n",
       "      <td>1</td>\n",
       "      <td>1</td>\n",
       "      <td>0</td>\n",
       "      <td>凌晨</td>\n",
       "    </tr>\n",
       "    <tr>\n",
       "      <th>...</th>\n",
       "      <td>...</td>\n",
       "      <td>...</td>\n",
       "      <td>...</td>\n",
       "      <td>...</td>\n",
       "      <td>...</td>\n",
       "      <td>...</td>\n",
       "      <td>...</td>\n",
       "      <td>...</td>\n",
       "      <td>...</td>\n",
       "      <td>...</td>\n",
       "      <td>...</td>\n",
       "      <td>...</td>\n",
       "      <td>...</td>\n",
       "      <td>...</td>\n",
       "      <td>...</td>\n",
       "      <td>...</td>\n",
       "      <td>...</td>\n",
       "    </tr>\n",
       "    <tr>\n",
       "      <th>393001</th>\n",
       "      <td>5f0f5718</td>\n",
       "      <td>2018-01-02 21:09:31.703</td>\n",
       "      <td>12b9a5b7</td>\n",
       "      <td>1</td>\n",
       "      <td>330.0</td>\n",
       "      <td>330.0</td>\n",
       "      <td>圣罗兰气垫粉底芯.</td>\n",
       "      <td>330.00</td>\n",
       "      <td>8c57</td>\n",
       "      <td>1.0</td>\n",
       "      <td>2016-07-17 00:00:00.000</td>\n",
       "      <td>2018</td>\n",
       "      <td>1</td>\n",
       "      <td>1</td>\n",
       "      <td>2</td>\n",
       "      <td>21</td>\n",
       "      <td>晚上</td>\n",
       "    </tr>\n",
       "    <tr>\n",
       "      <th>393002</th>\n",
       "      <td>88b2d3dd</td>\n",
       "      <td>2018-01-02 21:10:36.703</td>\n",
       "      <td>3993f69b</td>\n",
       "      <td>1</td>\n",
       "      <td>1080.0</td>\n",
       "      <td>80.0</td>\n",
       "      <td>兰蔻菁眼/大黑/美丽人生15ml</td>\n",
       "      <td>80.00</td>\n",
       "      <td>4bc8</td>\n",
       "      <td>0.0</td>\n",
       "      <td>2017-03-31 00:00:00.000</td>\n",
       "      <td>2018</td>\n",
       "      <td>1</td>\n",
       "      <td>1</td>\n",
       "      <td>2</td>\n",
       "      <td>21</td>\n",
       "      <td>晚上</td>\n",
       "    </tr>\n",
       "    <tr>\n",
       "      <th>393003</th>\n",
       "      <td>14bc144b</td>\n",
       "      <td>2018-01-02 21:19:51.703</td>\n",
       "      <td>6c453411</td>\n",
       "      <td>1</td>\n",
       "      <td>161.0</td>\n",
       "      <td>161.0</td>\n",
       "      <td>伊维斯正价件</td>\n",
       "      <td>161.00</td>\n",
       "      <td>fcd0</td>\n",
       "      <td>0.0</td>\n",
       "      <td>2015-03-04 00:00:00.000</td>\n",
       "      <td>2018</td>\n",
       "      <td>1</td>\n",
       "      <td>1</td>\n",
       "      <td>2</td>\n",
       "      <td>21</td>\n",
       "      <td>晚上</td>\n",
       "    </tr>\n",
       "    <tr>\n",
       "      <th>393004</th>\n",
       "      <td>cb750c7d</td>\n",
       "      <td>2018-01-02 21:24:44.783</td>\n",
       "      <td>38b3338a</td>\n",
       "      <td>1</td>\n",
       "      <td>310.0</td>\n",
       "      <td>310.0</td>\n",
       "      <td>阿玛尼丝绒/漆光唇釉.</td>\n",
       "      <td>310.00</td>\n",
       "      <td>4bc8</td>\n",
       "      <td>0.0</td>\n",
       "      <td>2017-12-14 00:00:00.000</td>\n",
       "      <td>2018</td>\n",
       "      <td>1</td>\n",
       "      <td>1</td>\n",
       "      <td>2</td>\n",
       "      <td>21</td>\n",
       "      <td>晚上</td>\n",
       "    </tr>\n",
       "    <tr>\n",
       "      <th>393005</th>\n",
       "      <td>9fd324d2</td>\n",
       "      <td>2018-01-02 21:49:53.983</td>\n",
       "      <td>84c0c98a</td>\n",
       "      <td>1</td>\n",
       "      <td>1679.0</td>\n",
       "      <td>1679.0</td>\n",
       "      <td>MO&amp;CO.EDIFIONC件</td>\n",
       "      <td>1679.00</td>\n",
       "      <td>fcd0</td>\n",
       "      <td>0.0</td>\n",
       "      <td>2017-11-26 00:00:00.000</td>\n",
       "      <td>2018</td>\n",
       "      <td>1</td>\n",
       "      <td>1</td>\n",
       "      <td>2</td>\n",
       "      <td>21</td>\n",
       "      <td>晚上</td>\n",
       "    </tr>\n",
       "  </tbody>\n",
       "</table>\n",
       "<p>393006 rows × 17 columns</p>\n",
       "</div>"
      ],
      "text/plain": [
       "            会员卡号                  消费产生的时间      商品编码  销售数量    商品售价    消费金额  \\\n",
       "0       d8d36575  2015-01-01 00:06:38.313  d313ab1e     1  1760.0  1760.0   \n",
       "1       d8d36575  2015-01-01 00:06:38.313  d313ab1e     1  9072.0  9072.0   \n",
       "2       d8d36575  2015-01-01 00:06:38.313  50a2c4f5     1  1507.0  1507.0   \n",
       "3       d8d36575  2015-01-01 00:06:38.313  50a2c4f5     1   899.0   899.0   \n",
       "4       d8d36575  2015-01-01 00:06:38.313  d313ab1e     1  1960.0  1960.0   \n",
       "...          ...                      ...       ...   ...     ...     ...   \n",
       "393001  5f0f5718  2018-01-02 21:09:31.703  12b9a5b7     1   330.0   330.0   \n",
       "393002  88b2d3dd  2018-01-02 21:10:36.703  3993f69b     1  1080.0    80.0   \n",
       "393003  14bc144b  2018-01-02 21:19:51.703  6c453411     1   161.0   161.0   \n",
       "393004  cb750c7d  2018-01-02 21:24:44.783  38b3338a     1   310.0   310.0   \n",
       "393005  9fd324d2  2018-01-02 21:49:53.983  84c0c98a     1  1679.0  1679.0   \n",
       "\n",
       "                    商品名称  此次消费的会员积分   单据号   性别                     登记时间    年份  \\\n",
       "0             MARYLINGC件    1678.82  5858  0.0  2007-08-12 00:00:00.000  2015   \n",
       "1             MARYLINGC件    8653.56  5858  0.0  2007-08-12 00:00:00.000  2015   \n",
       "2            汤普葛罗女鞋活动促销双    1437.49  5858  0.0  2007-08-12 00:00:00.000  2015   \n",
       "3            汤普葛罗女鞋活动促销双     857.54  5858  0.0  2007-08-12 00:00:00.000  2015   \n",
       "4             MARYLINGC件    1869.59  5858  0.0  2007-08-12 00:00:00.000  2015   \n",
       "...                  ...        ...   ...  ...                      ...   ...   \n",
       "393001         圣罗兰气垫粉底芯.     330.00  8c57  1.0  2016-07-17 00:00:00.000  2018   \n",
       "393002  兰蔻菁眼/大黑/美丽人生15ml      80.00  4bc8  0.0  2017-03-31 00:00:00.000  2018   \n",
       "393003            伊维斯正价件     161.00  fcd0  0.0  2015-03-04 00:00:00.000  2018   \n",
       "393004       阿玛尼丝绒/漆光唇釉.     310.00  4bc8  0.0  2017-12-14 00:00:00.000  2018   \n",
       "393005   MO&CO.EDIFIONC件    1679.00  fcd0  0.0  2017-11-26 00:00:00.000  2018   \n",
       "\n",
       "        季度  月份  天  时间 消费时间偏好  \n",
       "0        1   1  1   0     凌晨  \n",
       "1        1   1  1   0     凌晨  \n",
       "2        1   1  1   0     凌晨  \n",
       "3        1   1  1   0     凌晨  \n",
       "4        1   1  1   0     凌晨  \n",
       "...     ..  .. ..  ..    ...  \n",
       "393001   1   1  2  21     晚上  \n",
       "393002   1   1  2  21     晚上  \n",
       "393003   1   1  2  21     晚上  \n",
       "393004   1   1  2  21     晚上  \n",
       "393005   1   1  2  21     晚上  \n",
       "\n",
       "[393006 rows x 17 columns]"
      ]
     },
     "execution_count": 39,
     "metadata": {},
     "output_type": "execute_result"
    }
   ],
   "source": [
    "df_vip['消费时间偏好']=df_vip['时间'].apply(lambda x: '晚上' if x>=18 else '下午' if x>=14 else '中午' if x>=11 else '上午' if x>=6 else '凌晨')\n",
    "df_vip\n"
   ]
  },
  {
   "cell_type": "code",
   "execution_count": 43,
   "id": "2f0b2e24",
   "metadata": {},
   "outputs": [],
   "source": [
    "#会员消费的时间偏好，取众数\n",
    "S=df_vip.groupby('会员卡号')['消费时间偏好'].agg(lambda x:x.mode().values[0]).reset_index(drop=True)\n"
   ]
  },
  {
   "cell_type": "code",
   "execution_count": 44,
   "id": "701477c5",
   "metadata": {},
   "outputs": [],
   "source": [
    "#会员性别\n",
    "X=df_vip.groupby('会员卡号')['性别'].agg(lambda x: '女' if x.unique()[0]==0 else '男').reset_index(drop=True)"
   ]
  },
  {
   "cell_type": "code",
   "execution_count": 46,
   "id": "254a7aaf",
   "metadata": {},
   "outputs": [
    {
     "data": {
      "text/html": [
       "<div>\n",
       "<style scoped>\n",
       "    .dataframe tbody tr th:only-of-type {\n",
       "        vertical-align: middle;\n",
       "    }\n",
       "\n",
       "    .dataframe tbody tr th {\n",
       "        vertical-align: top;\n",
       "    }\n",
       "\n",
       "    .dataframe thead th {\n",
       "        text-align: right;\n",
       "    }\n",
       "</style>\n",
       "<table border=\"1\" class=\"dataframe\">\n",
       "  <thead>\n",
       "    <tr style=\"text-align: right;\">\n",
       "      <th></th>\n",
       "      <th>id</th>\n",
       "      <th>L</th>\n",
       "      <th>R</th>\n",
       "      <th>F</th>\n",
       "      <th>M</th>\n",
       "      <th>P</th>\n",
       "      <th>S</th>\n",
       "      <th>X</th>\n",
       "    </tr>\n",
       "  </thead>\n",
       "  <tbody>\n",
       "    <tr>\n",
       "      <th>0</th>\n",
       "      <td>d8d36575</td>\n",
       "      <td>23.933333</td>\n",
       "      <td>13.433333</td>\n",
       "      <td>2</td>\n",
       "      <td>5266.5</td>\n",
       "      <td>5267.0</td>\n",
       "      <td>中午</td>\n",
       "      <td>女</td>\n",
       "    </tr>\n",
       "    <tr>\n",
       "      <th>1</th>\n",
       "      <td>8527d4d0</td>\n",
       "      <td>107.066667</td>\n",
       "      <td>2.066667</td>\n",
       "      <td>7</td>\n",
       "      <td>12850.0</td>\n",
       "      <td>11850.0</td>\n",
       "      <td>下午</td>\n",
       "      <td>女</td>\n",
       "    </tr>\n",
       "    <tr>\n",
       "      <th>2</th>\n",
       "      <td>586a3339</td>\n",
       "      <td>52.300000</td>\n",
       "      <td>0.566667</td>\n",
       "      <td>10</td>\n",
       "      <td>6340.8</td>\n",
       "      <td>6141.0</td>\n",
       "      <td>上午</td>\n",
       "      <td>女</td>\n",
       "    </tr>\n",
       "    <tr>\n",
       "      <th>3</th>\n",
       "      <td>c2477497</td>\n",
       "      <td>56.066667</td>\n",
       "      <td>2.266667</td>\n",
       "      <td>1</td>\n",
       "      <td>8964.0</td>\n",
       "      <td>8964.0</td>\n",
       "      <td>中午</td>\n",
       "      <td>女</td>\n",
       "    </tr>\n",
       "    <tr>\n",
       "      <th>4</th>\n",
       "      <td>0706d57c</td>\n",
       "      <td>18.200000</td>\n",
       "      <td>2.066667</td>\n",
       "      <td>1</td>\n",
       "      <td>236.0</td>\n",
       "      <td>236.0</td>\n",
       "      <td>上午</td>\n",
       "      <td>女</td>\n",
       "    </tr>\n",
       "  </tbody>\n",
       "</table>\n",
       "</div>"
      ],
      "text/plain": [
       "         id           L          R   F        M        P   S  X\n",
       "0  d8d36575   23.933333  13.433333   2   5266.5   5267.0  中午  女\n",
       "1  8527d4d0  107.066667   2.066667   7  12850.0  11850.0  下午  女\n",
       "2  586a3339   52.300000   0.566667  10   6340.8   6141.0  上午  女\n",
       "3  c2477497   56.066667   2.266667   1   8964.0   8964.0  中午  女\n",
       "4  0706d57c   18.200000   2.066667   1    236.0    236.0  上午  女"
      ]
     },
     "execution_count": 46,
     "metadata": {},
     "output_type": "execute_result"
    }
   ],
   "source": [
    "#开始构建对应的特征标签\n",
    "df_i=pd.Series(df_vip['会员卡号'].unique())\n",
    "df_LRFMPSX=pd.concat([df_i,L,R,F,M,P,S,X],axis=1)\n",
    "df_LRFMPSX.columns=['id','L','R','F','M','P','S','X']\n",
    "df_LRFMPSX.head()"
   ]
  },
  {
   "cell_type": "code",
   "execution_count": 47,
   "id": "51b75e7d",
   "metadata": {},
   "outputs": [],
   "source": [
    "#保存数据\n",
    "df_LRFMPSX.to_csv('./data/LRFMPSX.csv',index=None)"
   ]
  },
  {
   "cell_type": "markdown",
   "id": "25818109",
   "metadata": {},
   "source": [
    "#### 构建会员用户业务特征标签\n"
   ]
  },
  {
   "cell_type": "code",
   "execution_count": 51,
   "id": "d7254a15",
   "metadata": {},
   "outputs": [
    {
     "ename": "ModuleNotFoundError",
     "evalue": "No module named 'wordcloud'",
     "output_type": "error",
     "traceback": [
      "\u001b[1;31m---------------------------------------------------------------------------\u001b[0m",
      "\u001b[1;31mModuleNotFoundError\u001b[0m                       Traceback (most recent call last)",
      "\u001b[1;32m~\\AppData\\Local\\Temp/ipykernel_54716/3266101202.py\u001b[0m in \u001b[0;36m<module>\u001b[1;34m\u001b[0m\n\u001b[1;32m----> 1\u001b[1;33m \u001b[1;32mfrom\u001b[0m \u001b[0mwordcloud\u001b[0m \u001b[1;32mimport\u001b[0m \u001b[0mWordCloud\u001b[0m\u001b[1;33m\u001b[0m\u001b[1;33m\u001b[0m\u001b[0m\n\u001b[0m",
      "\u001b[1;31mModuleNotFoundError\u001b[0m: No module named 'wordcloud'"
     ]
    }
   ],
   "source": [
    "from wordcloud import WordCloud"
   ]
  },
  {
   "cell_type": "code",
   "execution_count": 52,
   "id": "4f7bd1a1",
   "metadata": {},
   "outputs": [
    {
     "data": {
      "text/html": [
       "<div>\n",
       "<style scoped>\n",
       "    .dataframe tbody tr th:only-of-type {\n",
       "        vertical-align: middle;\n",
       "    }\n",
       "\n",
       "    .dataframe tbody tr th {\n",
       "        vertical-align: top;\n",
       "    }\n",
       "\n",
       "    .dataframe thead th {\n",
       "        text-align: right;\n",
       "    }\n",
       "</style>\n",
       "<table border=\"1\" class=\"dataframe\">\n",
       "  <thead>\n",
       "    <tr style=\"text-align: right;\">\n",
       "      <th></th>\n",
       "      <th>id</th>\n",
       "      <th>L</th>\n",
       "      <th>R</th>\n",
       "      <th>F</th>\n",
       "      <th>M</th>\n",
       "      <th>P</th>\n",
       "      <th>S</th>\n",
       "      <th>X</th>\n",
       "    </tr>\n",
       "  </thead>\n",
       "  <tbody>\n",
       "    <tr>\n",
       "      <th>0</th>\n",
       "      <td>d8d36575</td>\n",
       "      <td>23.933333</td>\n",
       "      <td>13.433333</td>\n",
       "      <td>2</td>\n",
       "      <td>5266.5</td>\n",
       "      <td>5267.0</td>\n",
       "      <td>中午</td>\n",
       "      <td>女</td>\n",
       "    </tr>\n",
       "    <tr>\n",
       "      <th>1</th>\n",
       "      <td>8527d4d0</td>\n",
       "      <td>107.066667</td>\n",
       "      <td>2.066667</td>\n",
       "      <td>7</td>\n",
       "      <td>12850.0</td>\n",
       "      <td>11850.0</td>\n",
       "      <td>下午</td>\n",
       "      <td>女</td>\n",
       "    </tr>\n",
       "    <tr>\n",
       "      <th>2</th>\n",
       "      <td>586a3339</td>\n",
       "      <td>52.300000</td>\n",
       "      <td>0.566667</td>\n",
       "      <td>10</td>\n",
       "      <td>6340.8</td>\n",
       "      <td>6141.0</td>\n",
       "      <td>上午</td>\n",
       "      <td>女</td>\n",
       "    </tr>\n",
       "    <tr>\n",
       "      <th>3</th>\n",
       "      <td>c2477497</td>\n",
       "      <td>56.066667</td>\n",
       "      <td>2.266667</td>\n",
       "      <td>1</td>\n",
       "      <td>8964.0</td>\n",
       "      <td>8964.0</td>\n",
       "      <td>中午</td>\n",
       "      <td>女</td>\n",
       "    </tr>\n",
       "    <tr>\n",
       "      <th>4</th>\n",
       "      <td>0706d57c</td>\n",
       "      <td>18.200000</td>\n",
       "      <td>2.066667</td>\n",
       "      <td>1</td>\n",
       "      <td>236.0</td>\n",
       "      <td>236.0</td>\n",
       "      <td>上午</td>\n",
       "      <td>女</td>\n",
       "    </tr>\n",
       "  </tbody>\n",
       "</table>\n",
       "</div>"
      ],
      "text/plain": [
       "         id           L          R   F        M        P   S  X\n",
       "0  d8d36575   23.933333  13.433333   2   5266.5   5267.0  中午  女\n",
       "1  8527d4d0  107.066667   2.066667   7  12850.0  11850.0  下午  女\n",
       "2  586a3339   52.300000   0.566667  10   6340.8   6141.0  上午  女\n",
       "3  c2477497   56.066667   2.266667   1   8964.0   8964.0  中午  女\n",
       "4  0706d57c   18.200000   2.066667   1    236.0    236.0  上午  女"
      ]
     },
     "execution_count": 52,
     "metadata": {},
     "output_type": "execute_result"
    }
   ],
   "source": [
    "df=pd.read_csv('./data/LRFMPSX.csv')\n",
    "df.head()"
   ]
  },
  {
   "cell_type": "code",
   "execution_count": 53,
   "id": "6b73a559",
   "metadata": {},
   "outputs": [
    {
     "data": {
      "text/plain": [
       "(42548, 8)"
      ]
     },
     "execution_count": 53,
     "metadata": {},
     "output_type": "execute_result"
    }
   ],
   "source": [
    "df.shape"
   ]
  },
  {
   "cell_type": "code",
   "execution_count": 55,
   "id": "94bd66d1",
   "metadata": {},
   "outputs": [
    {
     "data": {
      "text/plain": [
       "id    0\n",
       "L     0\n",
       "R     0\n",
       "F     0\n",
       "M     0\n",
       "P     0\n",
       "S     0\n",
       "X     0\n",
       "dtype: int64"
      ]
     },
     "execution_count": 55,
     "metadata": {},
     "output_type": "execute_result"
    }
   ],
   "source": [
    "df.isnull().sum()"
   ]
  },
  {
   "cell_type": "code",
   "execution_count": 56,
   "id": "8193d9b6",
   "metadata": {},
   "outputs": [
    {
     "data": {
      "text/html": [
       "<div>\n",
       "<style scoped>\n",
       "    .dataframe tbody tr th:only-of-type {\n",
       "        vertical-align: middle;\n",
       "    }\n",
       "\n",
       "    .dataframe tbody tr th {\n",
       "        vertical-align: top;\n",
       "    }\n",
       "\n",
       "    .dataframe thead th {\n",
       "        text-align: right;\n",
       "    }\n",
       "</style>\n",
       "<table border=\"1\" class=\"dataframe\">\n",
       "  <thead>\n",
       "    <tr style=\"text-align: right;\">\n",
       "      <th></th>\n",
       "      <th>L</th>\n",
       "      <th>R</th>\n",
       "      <th>F</th>\n",
       "      <th>M</th>\n",
       "      <th>P</th>\n",
       "    </tr>\n",
       "  </thead>\n",
       "  <tbody>\n",
       "    <tr>\n",
       "      <th>count</th>\n",
       "      <td>42548.000000</td>\n",
       "      <td>42548.000000</td>\n",
       "      <td>42548.000000</td>\n",
       "      <td>4.254800e+04</td>\n",
       "      <td>4.254800e+04</td>\n",
       "    </tr>\n",
       "    <tr>\n",
       "      <th>mean</th>\n",
       "      <td>43.272356</td>\n",
       "      <td>12.748108</td>\n",
       "      <td>5.000917</td>\n",
       "      <td>1.314873e+04</td>\n",
       "      <td>1.166768e+04</td>\n",
       "    </tr>\n",
       "    <tr>\n",
       "      <th>std</th>\n",
       "      <td>38.427058</td>\n",
       "      <td>11.415613</td>\n",
       "      <td>9.963993</td>\n",
       "      <td>3.650895e+04</td>\n",
       "      <td>3.293682e+04</td>\n",
       "    </tr>\n",
       "    <tr>\n",
       "      <th>min</th>\n",
       "      <td>0.000000</td>\n",
       "      <td>0.000000</td>\n",
       "      <td>1.000000</td>\n",
       "      <td>7.300000e-01</td>\n",
       "      <td>8.100000e-01</td>\n",
       "    </tr>\n",
       "    <tr>\n",
       "      <th>25%</th>\n",
       "      <td>11.966667</td>\n",
       "      <td>2.900000</td>\n",
       "      <td>1.000000</td>\n",
       "      <td>1.424820e+03</td>\n",
       "      <td>1.250000e+03</td>\n",
       "    </tr>\n",
       "    <tr>\n",
       "      <th>50%</th>\n",
       "      <td>32.133333</td>\n",
       "      <td>9.433333</td>\n",
       "      <td>2.000000</td>\n",
       "      <td>3.885000e+03</td>\n",
       "      <td>3.410000e+03</td>\n",
       "    </tr>\n",
       "    <tr>\n",
       "      <th>75%</th>\n",
       "      <td>67.200000</td>\n",
       "      <td>19.433333</td>\n",
       "      <td>5.000000</td>\n",
       "      <td>1.106000e+04</td>\n",
       "      <td>9.345000e+03</td>\n",
       "    </tr>\n",
       "    <tr>\n",
       "      <th>max</th>\n",
       "      <td>185.000000</td>\n",
       "      <td>36.566667</td>\n",
       "      <td>287.000000</td>\n",
       "      <td>1.511900e+06</td>\n",
       "      <td>1.413370e+06</td>\n",
       "    </tr>\n",
       "  </tbody>\n",
       "</table>\n",
       "</div>"
      ],
      "text/plain": [
       "                  L             R             F             M             P\n",
       "count  42548.000000  42548.000000  42548.000000  4.254800e+04  4.254800e+04\n",
       "mean      43.272356     12.748108      5.000917  1.314873e+04  1.166768e+04\n",
       "std       38.427058     11.415613      9.963993  3.650895e+04  3.293682e+04\n",
       "min        0.000000      0.000000      1.000000  7.300000e-01  8.100000e-01\n",
       "25%       11.966667      2.900000      1.000000  1.424820e+03  1.250000e+03\n",
       "50%       32.133333      9.433333      2.000000  3.885000e+03  3.410000e+03\n",
       "75%       67.200000     19.433333      5.000000  1.106000e+04  9.345000e+03\n",
       "max      185.000000     36.566667    287.000000  1.511900e+06  1.413370e+06"
      ]
     },
     "execution_count": 56,
     "metadata": {},
     "output_type": "execute_result"
    }
   ],
   "source": [
    "df.describe()"
   ]
  },
  {
   "cell_type": "markdown",
   "id": "b2ea7806",
   "metadata": {},
   "source": [
    "- 开始对数据进行分组\n",
    "  - L 入会成都：3一下为新用户，4-12为中等用户，13月以上为老用户\n",
    "  - R 最近购买的时间\n",
    "  - F 消费频次 ：次数20次以上为高频消费，6-19次为中频消费，5次以下为低频消费\n",
    "  - M 消费金额 ： 10w以上为高消费，1-10w为中消费,1w下为低消费\n",
    "  - P 消费积分 :  10w以上位高积分用户。。。。。。"
   ]
  },
  {
   "cell_type": "code",
   "execution_count": 57,
   "id": "23d72ac0",
   "metadata": {},
   "outputs": [
    {
     "data": {
      "text/html": [
       "<div>\n",
       "<style scoped>\n",
       "    .dataframe tbody tr th:only-of-type {\n",
       "        vertical-align: middle;\n",
       "    }\n",
       "\n",
       "    .dataframe tbody tr th {\n",
       "        vertical-align: top;\n",
       "    }\n",
       "\n",
       "    .dataframe thead th {\n",
       "        text-align: right;\n",
       "    }\n",
       "</style>\n",
       "<table border=\"1\" class=\"dataframe\">\n",
       "  <thead>\n",
       "    <tr style=\"text-align: right;\">\n",
       "      <th></th>\n",
       "      <th>会员卡号</th>\n",
       "      <th>性别</th>\n",
       "      <th>消费偏好</th>\n",
       "      <th>入会程度</th>\n",
       "      <th>最近购买的时间</th>\n",
       "      <th>消费频次</th>\n",
       "      <th>消费金额</th>\n",
       "      <th>消费积分</th>\n",
       "    </tr>\n",
       "  </thead>\n",
       "  <tbody>\n",
       "    <tr>\n",
       "      <th>0</th>\n",
       "      <td>d8d36575</td>\n",
       "      <td>女</td>\n",
       "      <td>您喜欢在中午进行消费</td>\n",
       "      <td>老用户</td>\n",
       "      <td>您最近390天前进行了购物</td>\n",
       "      <td>低频消费</td>\n",
       "      <td>低消费用户</td>\n",
       "      <td>低等积分用户</td>\n",
       "    </tr>\n",
       "    <tr>\n",
       "      <th>1</th>\n",
       "      <td>8527d4d0</td>\n",
       "      <td>女</td>\n",
       "      <td>您喜欢在下午进行消费</td>\n",
       "      <td>老用户</td>\n",
       "      <td>您最近60天前进行了购物</td>\n",
       "      <td>中频消费</td>\n",
       "      <td>中消费用户</td>\n",
       "      <td>中等积分用户</td>\n",
       "    </tr>\n",
       "    <tr>\n",
       "      <th>2</th>\n",
       "      <td>586a3339</td>\n",
       "      <td>女</td>\n",
       "      <td>您喜欢在上午进行消费</td>\n",
       "      <td>老用户</td>\n",
       "      <td>您最近0天前进行了购物</td>\n",
       "      <td>中频消费</td>\n",
       "      <td>低消费用户</td>\n",
       "      <td>低等积分用户</td>\n",
       "    </tr>\n",
       "    <tr>\n",
       "      <th>3</th>\n",
       "      <td>c2477497</td>\n",
       "      <td>女</td>\n",
       "      <td>您喜欢在中午进行消费</td>\n",
       "      <td>老用户</td>\n",
       "      <td>您最近60天前进行了购物</td>\n",
       "      <td>低频消费</td>\n",
       "      <td>低消费用户</td>\n",
       "      <td>低等积分用户</td>\n",
       "    </tr>\n",
       "    <tr>\n",
       "      <th>4</th>\n",
       "      <td>0706d57c</td>\n",
       "      <td>女</td>\n",
       "      <td>您喜欢在上午进行消费</td>\n",
       "      <td>老用户</td>\n",
       "      <td>您最近60天前进行了购物</td>\n",
       "      <td>低频消费</td>\n",
       "      <td>低消费用户</td>\n",
       "      <td>低等积分用户</td>\n",
       "    </tr>\n",
       "    <tr>\n",
       "      <th>...</th>\n",
       "      <td>...</td>\n",
       "      <td>...</td>\n",
       "      <td>...</td>\n",
       "      <td>...</td>\n",
       "      <td>...</td>\n",
       "      <td>...</td>\n",
       "      <td>...</td>\n",
       "      <td>...</td>\n",
       "    </tr>\n",
       "    <tr>\n",
       "      <th>42543</th>\n",
       "      <td>406380bf</td>\n",
       "      <td>女</td>\n",
       "      <td>您喜欢在晚上进行消费</td>\n",
       "      <td>中等用户</td>\n",
       "      <td>您最近270天前进行了购物</td>\n",
       "      <td>低频消费</td>\n",
       "      <td>低消费用户</td>\n",
       "      <td>低等积分用户</td>\n",
       "    </tr>\n",
       "    <tr>\n",
       "      <th>42544</th>\n",
       "      <td>4f7fa021</td>\n",
       "      <td>女</td>\n",
       "      <td>您喜欢在晚上进行消费</td>\n",
       "      <td>新用户</td>\n",
       "      <td>您最近30天前进行了购物</td>\n",
       "      <td>低频消费</td>\n",
       "      <td>低消费用户</td>\n",
       "      <td>低等积分用户</td>\n",
       "    </tr>\n",
       "    <tr>\n",
       "      <th>42545</th>\n",
       "      <td>14a60aea</td>\n",
       "      <td>男</td>\n",
       "      <td>您喜欢在晚上进行消费</td>\n",
       "      <td>老用户</td>\n",
       "      <td>您最近570天前进行了购物</td>\n",
       "      <td>低频消费</td>\n",
       "      <td>低消费用户</td>\n",
       "      <td>低等积分用户</td>\n",
       "    </tr>\n",
       "    <tr>\n",
       "      <th>42546</th>\n",
       "      <td>139ddf73</td>\n",
       "      <td>女</td>\n",
       "      <td>您喜欢在下午进行消费</td>\n",
       "      <td>老用户</td>\n",
       "      <td>您最近330天前进行了购物</td>\n",
       "      <td>中频消费</td>\n",
       "      <td>中消费用户</td>\n",
       "      <td>中等积分用户</td>\n",
       "    </tr>\n",
       "    <tr>\n",
       "      <th>42547</th>\n",
       "      <td>7cc713d7</td>\n",
       "      <td>女</td>\n",
       "      <td>您喜欢在中午进行消费</td>\n",
       "      <td>老用户</td>\n",
       "      <td>您最近390天前进行了购物</td>\n",
       "      <td>低频消费</td>\n",
       "      <td>低消费用户</td>\n",
       "      <td>低等积分用户</td>\n",
       "    </tr>\n",
       "  </tbody>\n",
       "</table>\n",
       "<p>42548 rows × 8 columns</p>\n",
       "</div>"
      ],
      "text/plain": [
       "           会员卡号 性别        消费偏好  入会程度        最近购买的时间  消费频次   消费金额    消费积分\n",
       "0      d8d36575  女  您喜欢在中午进行消费   老用户  您最近390天前进行了购物  低频消费  低消费用户  低等积分用户\n",
       "1      8527d4d0  女  您喜欢在下午进行消费   老用户   您最近60天前进行了购物  中频消费  中消费用户  中等积分用户\n",
       "2      586a3339  女  您喜欢在上午进行消费   老用户    您最近0天前进行了购物  中频消费  低消费用户  低等积分用户\n",
       "3      c2477497  女  您喜欢在中午进行消费   老用户   您最近60天前进行了购物  低频消费  低消费用户  低等积分用户\n",
       "4      0706d57c  女  您喜欢在上午进行消费   老用户   您最近60天前进行了购物  低频消费  低消费用户  低等积分用户\n",
       "...         ... ..         ...   ...            ...   ...    ...     ...\n",
       "42543  406380bf  女  您喜欢在晚上进行消费  中等用户  您最近270天前进行了购物  低频消费  低消费用户  低等积分用户\n",
       "42544  4f7fa021  女  您喜欢在晚上进行消费   新用户   您最近30天前进行了购物  低频消费  低消费用户  低等积分用户\n",
       "42545  14a60aea  男  您喜欢在晚上进行消费   老用户  您最近570天前进行了购物  低频消费  低消费用户  低等积分用户\n",
       "42546  139ddf73  女  您喜欢在下午进行消费   老用户  您最近330天前进行了购物  中频消费  中消费用户  中等积分用户\n",
       "42547  7cc713d7  女  您喜欢在中午进行消费   老用户  您最近390天前进行了购物  低频消费  低消费用户  低等积分用户\n",
       "\n",
       "[42548 rows x 8 columns]"
      ]
     },
     "execution_count": 57,
     "metadata": {},
     "output_type": "execute_result"
    }
   ],
   "source": [
    "df_profile=pd.DataFrame()\n",
    "df_profile['会员卡号']=df['id']\n",
    "df_profile['性别']=df['X']\n",
    "df_profile['消费偏好']=df['S'].apply(lambda x:'您喜欢在'+str(x)+'进行消费')\n",
    "df_profile['入会程度']=df['L'].apply(lambda x:'老用户' if int(x) >=13 else '中等用户' if int(x) >=4 else '新用户')\n",
    "df_profile['最近购买的时间']=df['R'].apply(lambda x: '您最近'+str(int(x)*30)+'天前进行了购物')\n",
    "df_profile['消费频次'] = df['F'].apply(lambda x: '高频消费' if x >= 20 else '中频消费' if x >= 6 else '低频消费')\n",
    "df_profile['消费金额']=df['M'].apply(lambda x:'高消费用户' if int(x)>=1e+05 else '中消费用户' if int(x)>=1e+04 else '低消费用户')\n",
    "df_profile['消费积分'] = df['P'].apply(lambda x: '高等积分用户' if int(x) >= 1e+05 else '中等积分用户' if int(x) >= 1e+04 else '低等积分用户')\n",
    "df_profile"
   ]
  },
  {
   "cell_type": "markdown",
   "id": "8a8d6616",
   "metadata": {},
   "source": [
    "### 任务5 会员用户细分和营销方案指定\n",
    "\n",
    "#### 5.1 会员用户的聚类分析及可视化"
   ]
  },
  {
   "cell_type": "code",
   "execution_count": 58,
   "id": "2bbfdc1a",
   "metadata": {},
   "outputs": [],
   "source": [
    "#先对数据进行标准化处理\n",
    "df0=df.iloc[:,1:6]\n",
    "res_std=StandardScaler().fit_transform(df0)"
   ]
  },
  {
   "cell_type": "code",
   "execution_count": 60,
   "id": "15be7b2a",
   "metadata": {},
   "outputs": [
    {
     "data": {
      "image/png": "[encoded data removed]",
      "text/plain": [
       "<Figure size 800x600 with 1 Axes>"
      ]
     },
     "metadata": {},
     "output_type": "display_data"
    }
   ],
   "source": [
    "#对数据进行聚类\n",
    "n_clusters=range(2,7)\n",
    "scores=[]\n",
    "for i in range(len(n_clusters)):\n",
    "    clf=KMeans(n_clusters=n_clusters[i],random_state=20).fit(res_std)\n",
    "    scores.append(silhouette_score(res_std,clf.labels_))\n",
    "maxindex=scores.index(max(scores))\n",
    "plt.figure(figsize=(8,6),dpi=100)\n",
    "plt.plot(n_clusters,scores,linestyle='-.',c='b',alpha=0.6,marker='o')\n",
    "plt.axvline(x=n_clusters[maxindex],linestyle='--',c='r',alpha=0.6)\n",
    "plt.title('LRFMP的聚类轮廓系数图')\n",
    "plt.ylabel('silhouette_score')\n",
    "plt.xlabel('n_clusters')\n",
    "plt.savefig('./百货商场LRFMP聚类轮廓系数图.png')"
   ]
  },
  {
   "cell_type": "markdown",
   "id": "94db2d48",
   "metadata": {},
   "source": [
    "- 可以从轮廓系数看出，聚类数最佳为2，因此，我们使用聚类数为2 的标准化数据进行聚类，得到两类用户的LRFMP的均值数据，以此来判断两者之间的差异"
   ]
  },
  {
   "cell_type": "markdown",
   "id": "9b3e9c63",
   "metadata": {},
   "source": [
    "#### 5.2对会员用户进行精细划分并分析不同的群体带来的价值差异"
   ]
  },
  {
   "cell_type": "code",
   "execution_count": 61,
   "id": "e1a70484",
   "metadata": {},
   "outputs": [
    {
     "data": {
      "text/html": [
       "<div>\n",
       "<style scoped>\n",
       "    .dataframe tbody tr th:only-of-type {\n",
       "        vertical-align: middle;\n",
       "    }\n",
       "\n",
       "    .dataframe tbody tr th {\n",
       "        vertical-align: top;\n",
       "    }\n",
       "\n",
       "    .dataframe thead th {\n",
       "        text-align: right;\n",
       "    }\n",
       "</style>\n",
       "<table border=\"1\" class=\"dataframe\">\n",
       "  <thead>\n",
       "    <tr style=\"text-align: right;\">\n",
       "      <th></th>\n",
       "      <th>L</th>\n",
       "      <th>R</th>\n",
       "      <th>F</th>\n",
       "      <th>M</th>\n",
       "      <th>P</th>\n",
       "      <th>labels</th>\n",
       "    </tr>\n",
       "  </thead>\n",
       "  <tbody>\n",
       "    <tr>\n",
       "      <th>0</th>\n",
       "      <td>23.933333</td>\n",
       "      <td>13.433333</td>\n",
       "      <td>2</td>\n",
       "      <td>5266.5</td>\n",
       "      <td>5267.0</td>\n",
       "      <td>1</td>\n",
       "    </tr>\n",
       "    <tr>\n",
       "      <th>1</th>\n",
       "      <td>107.066667</td>\n",
       "      <td>2.066667</td>\n",
       "      <td>7</td>\n",
       "      <td>12850.0</td>\n",
       "      <td>11850.0</td>\n",
       "      <td>1</td>\n",
       "    </tr>\n",
       "    <tr>\n",
       "      <th>2</th>\n",
       "      <td>52.300000</td>\n",
       "      <td>0.566667</td>\n",
       "      <td>10</td>\n",
       "      <td>6340.8</td>\n",
       "      <td>6141.0</td>\n",
       "      <td>1</td>\n",
       "    </tr>\n",
       "    <tr>\n",
       "      <th>3</th>\n",
       "      <td>56.066667</td>\n",
       "      <td>2.266667</td>\n",
       "      <td>1</td>\n",
       "      <td>8964.0</td>\n",
       "      <td>8964.0</td>\n",
       "      <td>1</td>\n",
       "    </tr>\n",
       "    <tr>\n",
       "      <th>4</th>\n",
       "      <td>18.200000</td>\n",
       "      <td>2.066667</td>\n",
       "      <td>1</td>\n",
       "      <td>236.0</td>\n",
       "      <td>236.0</td>\n",
       "      <td>1</td>\n",
       "    </tr>\n",
       "    <tr>\n",
       "      <th>...</th>\n",
       "      <td>...</td>\n",
       "      <td>...</td>\n",
       "      <td>...</td>\n",
       "      <td>...</td>\n",
       "      <td>...</td>\n",
       "      <td>...</td>\n",
       "    </tr>\n",
       "    <tr>\n",
       "      <th>42543</th>\n",
       "      <td>9.333333</td>\n",
       "      <td>9.333333</td>\n",
       "      <td>1</td>\n",
       "      <td>300.0</td>\n",
       "      <td>300.0</td>\n",
       "      <td>1</td>\n",
       "    </tr>\n",
       "    <tr>\n",
       "      <th>42544</th>\n",
       "      <td>1.166667</td>\n",
       "      <td>1.166667</td>\n",
       "      <td>1</td>\n",
       "      <td>5530.0</td>\n",
       "      <td>5530.0</td>\n",
       "      <td>1</td>\n",
       "    </tr>\n",
       "    <tr>\n",
       "      <th>42545</th>\n",
       "      <td>57.433333</td>\n",
       "      <td>19.700000</td>\n",
       "      <td>2</td>\n",
       "      <td>7139.0</td>\n",
       "      <td>7139.0</td>\n",
       "      <td>1</td>\n",
       "    </tr>\n",
       "    <tr>\n",
       "      <th>42546</th>\n",
       "      <td>80.966667</td>\n",
       "      <td>11.600000</td>\n",
       "      <td>12</td>\n",
       "      <td>11712.0</td>\n",
       "      <td>11712.0</td>\n",
       "      <td>1</td>\n",
       "    </tr>\n",
       "    <tr>\n",
       "      <th>42547</th>\n",
       "      <td>33.133333</td>\n",
       "      <td>13.100000</td>\n",
       "      <td>3</td>\n",
       "      <td>6487.0</td>\n",
       "      <td>6487.0</td>\n",
       "      <td>1</td>\n",
       "    </tr>\n",
       "  </tbody>\n",
       "</table>\n",
       "<p>42548 rows × 6 columns</p>\n",
       "</div>"
      ],
      "text/plain": [
       "                L          R   F        M        P  labels\n",
       "0       23.933333  13.433333   2   5266.5   5267.0       1\n",
       "1      107.066667   2.066667   7  12850.0  11850.0       1\n",
       "2       52.300000   0.566667  10   6340.8   6141.0       1\n",
       "3       56.066667   2.266667   1   8964.0   8964.0       1\n",
       "4       18.200000   2.066667   1    236.0    236.0       1\n",
       "...           ...        ...  ..      ...      ...     ...\n",
       "42543    9.333333   9.333333   1    300.0    300.0       1\n",
       "42544    1.166667   1.166667   1   5530.0   5530.0       1\n",
       "42545   57.433333  19.700000   2   7139.0   7139.0       1\n",
       "42546   80.966667  11.600000  12  11712.0  11712.0       1\n",
       "42547   33.133333  13.100000   3   6487.0   6487.0       1\n",
       "\n",
       "[42548 rows x 6 columns]"
      ]
     },
     "execution_count": 61,
     "metadata": {},
     "output_type": "execute_result"
    }
   ],
   "source": [
    "#以聚类为2贴上对应的标签\n",
    "clf=KMeans(n_clusters=2,random_state=20).fit(res_std)\n",
    "df0['labels']=clf.labels_\n",
    "df0"
   ]
  },
  {
   "cell_type": "code",
   "execution_count": 62,
   "id": "95e6a608",
   "metadata": {},
   "outputs": [
    {
     "data": {
      "text/plain": [
       "1    41554\n",
       "0      994\n",
       "Name: labels, dtype: int64"
      ]
     },
     "execution_count": 62,
     "metadata": {},
     "output_type": "execute_result"
    }
   ],
   "source": [
    "df0['labels'].value_counts()"
   ]
  },
  {
   "cell_type": "code",
   "execution_count": 66,
   "id": "c087286e",
   "metadata": {},
   "outputs": [
    {
     "data": {
      "text/html": [
       "<div>\n",
       "<style scoped>\n",
       "    .dataframe tbody tr th:only-of-type {\n",
       "        vertical-align: middle;\n",
       "    }\n",
       "\n",
       "    .dataframe tbody tr th {\n",
       "        vertical-align: top;\n",
       "    }\n",
       "\n",
       "    .dataframe thead th {\n",
       "        text-align: right;\n",
       "    }\n",
       "</style>\n",
       "<table border=\"1\" class=\"dataframe\">\n",
       "  <thead>\n",
       "    <tr style=\"text-align: right;\">\n",
       "      <th></th>\n",
       "      <th>labels</th>\n",
       "      <th>L</th>\n",
       "    </tr>\n",
       "  </thead>\n",
       "  <tbody>\n",
       "    <tr>\n",
       "      <th>0</th>\n",
       "      <td>0</td>\n",
       "      <td>40.725755</td>\n",
       "    </tr>\n",
       "    <tr>\n",
       "      <th>1</th>\n",
       "      <td>1</td>\n",
       "      <td>43.333272</td>\n",
       "    </tr>\n",
       "  </tbody>\n",
       "</table>\n",
       "</div>"
      ],
      "text/plain": [
       "   labels          L\n",
       "0       0  40.725755\n",
       "1       1  43.333272"
      ]
     },
     "execution_count": 66,
     "metadata": {},
     "output_type": "execute_result"
    }
   ],
   "source": [
    "#用均值来计算两样本之间的LRFMP\n",
    "L_avg=df0.groupby('labels').agg({'L':np.mean}).reset_index()\n",
    "L_avg"
   ]
  },
  {
   "cell_type": "code",
   "execution_count": 65,
   "id": "51be4a0d",
   "metadata": {},
   "outputs": [],
   "source": [
    "R_avg=df0.groupby('labels').agg({'R':np.mean}).reset_index()\n",
    "F_avg=df0.groupby('labels').agg({'F':np.mean}).reset_index()\n",
    "M_avg=df0.groupby('labels').agg({'M':np.mean}).reset_index()\n",
    "P_avg=df0.groupby('labels').agg({'P':np.mean}).reset_index()"
   ]
  },
  {
   "cell_type": "code",
   "execution_count": 71,
   "id": "57687a94",
   "metadata": {},
   "outputs": [],
   "source": [
    "#绘制相关的条形图\n",
    "def plot_bar(df_list,nrow,ncol):\n",
    "    fig,axs=plt.subplots(nrow,ncol,figsize=(2*(ncol+2),2.5),dpi=100)\n",
    "    for i in range(len(axs)):\n",
    "        ax=axs[i]\n",
    "        df=df_list[i]\n",
    "        ax.bar(df.iloc[:,0],df.iloc[:,1],color='b',alpha=0.4,width=0.5)\n",
    "        for x,y in enumerate(df.iloc[:,1].tolist()):\n",
    "            ax.text(x, y / 2, '%.0f' % y, va = 'bottom', ha = 'center', fontsize = 12)\n",
    "        ax.set_xticks([0,1])\n",
    "        ax.set_yticks(())\n",
    "        ax.set_title(f'{df.columns[1]}')\n",
    "    plt.suptitle('两类客户的LRFMP均值差异',y=1.1,fontsize=14)"
   ]
  },
  {
   "cell_type": "code",
   "execution_count": 72,
   "id": "72382a37",
   "metadata": {},
   "outputs": [
    {
     "data": {
      "image/png": "[encoded data removed]",
      "text/plain": [
       "<Figure size 1400x250 with 5 Axes>"
      ]
     },
     "metadata": {},
     "output_type": "display_data"
    }
   ],
   "source": [
    "df_list=[L_avg,R_avg,F_avg,M_avg,P_avg]\n",
    "plot_bar(df_list,1,5)"
   ]
  },
  {
   "cell_type": "markdown",
   "id": "ecc7e9b3",
   "metadata": {},
   "source": [
    "从上面可以看出来标签为0的客户消费频次，消费金额以及消费积分远远大于标签为1 的客户可以将这类用户定义为重要保持客户"
   ]
  },
  {
   "cell_type": "code",
   "execution_count": null,
   "id": "27b053d1",
   "metadata": {},
   "outputs": [],
   "source": []
  }
 ],
 "metadata": {
  "kernelspec": {
   "display_name": "Python 3 (ipykernel)",
   "language": "python",
   "name": "python3"
  },
  "language_info": {
   "codemirror_mode": {
    "name": "ipython",
    "version": 3
   },
   "file_extension": ".py",
   "mimetype": "text/x-python",
   "name": "python",
   "nbconvert_exporter": "python",
   "pygments_lexer": "ipython3",
   "version": "3.9.7"
  }
 },
 "nbformat": 4,
 "nbformat_minor": 5
}
