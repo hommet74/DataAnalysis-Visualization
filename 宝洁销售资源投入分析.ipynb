{
 "cells": [
  {
   "cell_type": "markdown",
   "id": "7312c329",
   "metadata": {},
   "source": [
    "### 数据说明\n",
    "    Revenue 门店销售额\n",
    "\n",
    "    Reach 微信推送次数\n",
    "\n",
    "    Loval_tv 本地电视广告投入\n",
    "    Online 线上广告投入\n",
    "    Instore 门店内海报陈列等投入\n",
    "    Person 门店销售人员投入\n",
    "    Event 门店促销事件（cobranding 品牌联合促销 holiday 节假日 special 门店特别促销 non-event 无促销活动）\n"
   ]
  },
  {
   "cell_type": "markdown",
   "id": "2f32dfc9",
   "metadata": {},
   "source": [
    "### 数据导出与数据清理"
   ]
  },
  {
   "cell_type": "code",
   "execution_count": 1,
   "id": "0610e913",
   "metadata": {},
   "outputs": [],
   "source": [
    "import pandas as pd \n",
    "import numpy as np\n",
    "from sklearn.datasets import load_boston\n",
    "from sklearn.model_selection import train_test_split"
   ]
  },
  {
   "cell_type": "code",
   "execution_count": 2,
   "id": "04051049",
   "metadata": {},
   "outputs": [],
   "source": [
    "df=pd.read_csv('./data/baojie.csv')\n",
    "df=df.dropna()"
   ]
  },
  {
   "cell_type": "code",
   "execution_count": 3,
   "id": "afb93bb2",
   "metadata": {},
   "outputs": [
    {
     "data": {
      "text/html": [
       "<div>\n",
       "<style scoped>\n",
       "    .dataframe tbody tr th:only-of-type {\n",
       "        vertical-align: middle;\n",
       "    }\n",
       "\n",
       "    .dataframe tbody tr th {\n",
       "        vertical-align: top;\n",
       "    }\n",
       "\n",
       "    .dataframe thead th {\n",
       "        text-align: right;\n",
       "    }\n",
       "</style>\n",
       "<table border=\"1\" class=\"dataframe\">\n",
       "  <thead>\n",
       "    <tr style=\"text-align: right;\">\n",
       "      <th></th>\n",
       "      <th>Unnamed: 0</th>\n",
       "      <th>revenue</th>\n",
       "      <th>reach</th>\n",
       "      <th>local_tv</th>\n",
       "      <th>online</th>\n",
       "      <th>instore</th>\n",
       "      <th>person</th>\n",
       "      <th>event</th>\n",
       "    </tr>\n",
       "  </thead>\n",
       "  <tbody>\n",
       "    <tr>\n",
       "      <th>0</th>\n",
       "      <td>845</td>\n",
       "      <td>45860.28</td>\n",
       "      <td>2</td>\n",
       "      <td>31694.91</td>\n",
       "      <td>2115</td>\n",
       "      <td>3296</td>\n",
       "      <td>8</td>\n",
       "      <td>non_event</td>\n",
       "    </tr>\n",
       "    <tr>\n",
       "      <th>1</th>\n",
       "      <td>483</td>\n",
       "      <td>63588.23</td>\n",
       "      <td>2</td>\n",
       "      <td>35040.17</td>\n",
       "      <td>1826</td>\n",
       "      <td>2501</td>\n",
       "      <td>14</td>\n",
       "      <td>special</td>\n",
       "    </tr>\n",
       "    <tr>\n",
       "      <th>2</th>\n",
       "      <td>513</td>\n",
       "      <td>23272.69</td>\n",
       "      <td>4</td>\n",
       "      <td>30992.82</td>\n",
       "      <td>1851</td>\n",
       "      <td>2524</td>\n",
       "      <td>6</td>\n",
       "      <td>special</td>\n",
       "    </tr>\n",
       "    <tr>\n",
       "      <th>3</th>\n",
       "      <td>599</td>\n",
       "      <td>45911.23</td>\n",
       "      <td>2</td>\n",
       "      <td>29417.78</td>\n",
       "      <td>2437</td>\n",
       "      <td>3049</td>\n",
       "      <td>12</td>\n",
       "      <td>special</td>\n",
       "    </tr>\n",
       "    <tr>\n",
       "      <th>4</th>\n",
       "      <td>120</td>\n",
       "      <td>36644.23</td>\n",
       "      <td>2</td>\n",
       "      <td>35611.11</td>\n",
       "      <td>1122</td>\n",
       "      <td>1142</td>\n",
       "      <td>13</td>\n",
       "      <td>cobranding</td>\n",
       "    </tr>\n",
       "  </tbody>\n",
       "</table>\n",
       "</div>"
      ],
      "text/plain": [
       "   Unnamed: 0   revenue  reach  local_tv  online  instore  person       event\n",
       "0         845  45860.28      2  31694.91    2115     3296       8   non_event\n",
       "1         483  63588.23      2  35040.17    1826     2501      14     special\n",
       "2         513  23272.69      4  30992.82    1851     2524       6     special\n",
       "3         599  45911.23      2  29417.78    2437     3049      12     special\n",
       "4         120  36644.23      2  35611.11    1122     1142      13  cobranding"
      ]
     },
     "execution_count": 3,
     "metadata": {},
     "output_type": "execute_result"
    }
   ],
   "source": [
    "df.head()"
   ]
  },
  {
   "cell_type": "code",
   "execution_count": 4,
   "id": "e27e0b60",
   "metadata": {},
   "outputs": [],
   "source": [
    "df=np.nan_to_num(df)"
   ]
  },
  {
   "cell_type": "code",
   "execution_count": 5,
   "id": "1a87559b",
   "metadata": {},
   "outputs": [
    {
     "data": {
      "text/plain": [
       "(929, 8)"
      ]
     },
     "execution_count": 5,
     "metadata": {},
     "output_type": "execute_result"
    }
   ],
   "source": [
    "df.shape"
   ]
  },
  {
   "cell_type": "code",
   "execution_count": 6,
   "id": "bde240da",
   "metadata": {},
   "outputs": [],
   "source": [
    "df=pd.DataFrame(data=df,columns=['0','revenue','reach','loacl_tv','online','instore','person','event'])"
   ]
  },
  {
   "cell_type": "code",
   "execution_count": 7,
   "id": "cc83d856",
   "metadata": {},
   "outputs": [
    {
     "data": {
      "text/html": [
       "<div>\n",
       "<style scoped>\n",
       "    .dataframe tbody tr th:only-of-type {\n",
       "        vertical-align: middle;\n",
       "    }\n",
       "\n",
       "    .dataframe tbody tr th {\n",
       "        vertical-align: top;\n",
       "    }\n",
       "\n",
       "    .dataframe thead th {\n",
       "        text-align: right;\n",
       "    }\n",
       "</style>\n",
       "<table border=\"1\" class=\"dataframe\">\n",
       "  <thead>\n",
       "    <tr style=\"text-align: right;\">\n",
       "      <th></th>\n",
       "      <th>0</th>\n",
       "      <th>revenue</th>\n",
       "      <th>reach</th>\n",
       "      <th>loacl_tv</th>\n",
       "      <th>online</th>\n",
       "      <th>instore</th>\n",
       "      <th>person</th>\n",
       "      <th>event</th>\n",
       "    </tr>\n",
       "  </thead>\n",
       "  <tbody>\n",
       "    <tr>\n",
       "      <th>0</th>\n",
       "      <td>845</td>\n",
       "      <td>45860.28</td>\n",
       "      <td>2</td>\n",
       "      <td>31694.91</td>\n",
       "      <td>2115</td>\n",
       "      <td>3296</td>\n",
       "      <td>8</td>\n",
       "      <td>non_event</td>\n",
       "    </tr>\n",
       "    <tr>\n",
       "      <th>1</th>\n",
       "      <td>483</td>\n",
       "      <td>63588.23</td>\n",
       "      <td>2</td>\n",
       "      <td>35040.17</td>\n",
       "      <td>1826</td>\n",
       "      <td>2501</td>\n",
       "      <td>14</td>\n",
       "      <td>special</td>\n",
       "    </tr>\n",
       "    <tr>\n",
       "      <th>2</th>\n",
       "      <td>513</td>\n",
       "      <td>23272.69</td>\n",
       "      <td>4</td>\n",
       "      <td>30992.82</td>\n",
       "      <td>1851</td>\n",
       "      <td>2524</td>\n",
       "      <td>6</td>\n",
       "      <td>special</td>\n",
       "    </tr>\n",
       "    <tr>\n",
       "      <th>3</th>\n",
       "      <td>599</td>\n",
       "      <td>45911.23</td>\n",
       "      <td>2</td>\n",
       "      <td>29417.78</td>\n",
       "      <td>2437</td>\n",
       "      <td>3049</td>\n",
       "      <td>12</td>\n",
       "      <td>special</td>\n",
       "    </tr>\n",
       "    <tr>\n",
       "      <th>4</th>\n",
       "      <td>120</td>\n",
       "      <td>36644.23</td>\n",
       "      <td>2</td>\n",
       "      <td>35611.11</td>\n",
       "      <td>1122</td>\n",
       "      <td>1142</td>\n",
       "      <td>13</td>\n",
       "      <td>cobranding</td>\n",
       "    </tr>\n",
       "  </tbody>\n",
       "</table>\n",
       "</div>"
      ],
      "text/plain": [
       "     0   revenue reach  loacl_tv online instore person       event\n",
       "0  845  45860.28     2  31694.91   2115    3296      8   non_event\n",
       "1  483  63588.23     2  35040.17   1826    2501     14     special\n",
       "2  513  23272.69     4  30992.82   1851    2524      6     special\n",
       "3  599  45911.23     2  29417.78   2437    3049     12     special\n",
       "4  120  36644.23     2  35611.11   1122    1142     13  cobranding"
      ]
     },
     "execution_count": 7,
     "metadata": {},
     "output_type": "execute_result"
    }
   ],
   "source": [
    "df.head()"
   ]
  },
  {
   "cell_type": "code",
   "execution_count": 8,
   "id": "211137ae",
   "metadata": {},
   "outputs": [],
   "source": [
    "del df['0']"
   ]
  },
  {
   "cell_type": "code",
   "execution_count": 9,
   "id": "793e0ef4",
   "metadata": {},
   "outputs": [
    {
     "data": {
      "text/html": [
       "<div>\n",
       "<style scoped>\n",
       "    .dataframe tbody tr th:only-of-type {\n",
       "        vertical-align: middle;\n",
       "    }\n",
       "\n",
       "    .dataframe tbody tr th {\n",
       "        vertical-align: top;\n",
       "    }\n",
       "\n",
       "    .dataframe thead th {\n",
       "        text-align: right;\n",
       "    }\n",
       "</style>\n",
       "<table border=\"1\" class=\"dataframe\">\n",
       "  <thead>\n",
       "    <tr style=\"text-align: right;\">\n",
       "      <th></th>\n",
       "      <th>revenue</th>\n",
       "      <th>reach</th>\n",
       "      <th>loacl_tv</th>\n",
       "      <th>online</th>\n",
       "      <th>instore</th>\n",
       "      <th>person</th>\n",
       "      <th>event</th>\n",
       "    </tr>\n",
       "  </thead>\n",
       "  <tbody>\n",
       "    <tr>\n",
       "      <th>0</th>\n",
       "      <td>45860.28</td>\n",
       "      <td>2</td>\n",
       "      <td>31694.91</td>\n",
       "      <td>2115</td>\n",
       "      <td>3296</td>\n",
       "      <td>8</td>\n",
       "      <td>non_event</td>\n",
       "    </tr>\n",
       "    <tr>\n",
       "      <th>1</th>\n",
       "      <td>63588.23</td>\n",
       "      <td>2</td>\n",
       "      <td>35040.17</td>\n",
       "      <td>1826</td>\n",
       "      <td>2501</td>\n",
       "      <td>14</td>\n",
       "      <td>special</td>\n",
       "    </tr>\n",
       "    <tr>\n",
       "      <th>2</th>\n",
       "      <td>23272.69</td>\n",
       "      <td>4</td>\n",
       "      <td>30992.82</td>\n",
       "      <td>1851</td>\n",
       "      <td>2524</td>\n",
       "      <td>6</td>\n",
       "      <td>special</td>\n",
       "    </tr>\n",
       "    <tr>\n",
       "      <th>3</th>\n",
       "      <td>45911.23</td>\n",
       "      <td>2</td>\n",
       "      <td>29417.78</td>\n",
       "      <td>2437</td>\n",
       "      <td>3049</td>\n",
       "      <td>12</td>\n",
       "      <td>special</td>\n",
       "    </tr>\n",
       "    <tr>\n",
       "      <th>4</th>\n",
       "      <td>36644.23</td>\n",
       "      <td>2</td>\n",
       "      <td>35611.11</td>\n",
       "      <td>1122</td>\n",
       "      <td>1142</td>\n",
       "      <td>13</td>\n",
       "      <td>cobranding</td>\n",
       "    </tr>\n",
       "  </tbody>\n",
       "</table>\n",
       "</div>"
      ],
      "text/plain": [
       "    revenue reach  loacl_tv online instore person       event\n",
       "0  45860.28     2  31694.91   2115    3296      8   non_event\n",
       "1  63588.23     2  35040.17   1826    2501     14     special\n",
       "2  23272.69     4  30992.82   1851    2524      6     special\n",
       "3  45911.23     2  29417.78   2437    3049     12     special\n",
       "4  36644.23     2  35611.11   1122    1142     13  cobranding"
      ]
     },
     "execution_count": 9,
     "metadata": {},
     "output_type": "execute_result"
    }
   ],
   "source": [
    "df.head()"
   ]
  },
  {
   "cell_type": "code",
   "execution_count": 10,
   "id": "434658fd",
   "metadata": {},
   "outputs": [],
   "source": [
    "y=df['revenue']\n",
    "del df['revenue']\n"
   ]
  },
  {
   "cell_type": "code",
   "execution_count": 11,
   "id": "05b4755d",
   "metadata": {},
   "outputs": [
    {
     "data": {
      "text/html": [
       "<div>\n",
       "<style scoped>\n",
       "    .dataframe tbody tr th:only-of-type {\n",
       "        vertical-align: middle;\n",
       "    }\n",
       "\n",
       "    .dataframe tbody tr th {\n",
       "        vertical-align: top;\n",
       "    }\n",
       "\n",
       "    .dataframe thead th {\n",
       "        text-align: right;\n",
       "    }\n",
       "</style>\n",
       "<table border=\"1\" class=\"dataframe\">\n",
       "  <thead>\n",
       "    <tr style=\"text-align: right;\">\n",
       "      <th></th>\n",
       "      <th>reach</th>\n",
       "      <th>loacl_tv</th>\n",
       "      <th>online</th>\n",
       "      <th>instore</th>\n",
       "      <th>person</th>\n",
       "      <th>event</th>\n",
       "    </tr>\n",
       "  </thead>\n",
       "  <tbody>\n",
       "    <tr>\n",
       "      <th>0</th>\n",
       "      <td>2</td>\n",
       "      <td>31694.91</td>\n",
       "      <td>2115</td>\n",
       "      <td>3296</td>\n",
       "      <td>8</td>\n",
       "      <td>non_event</td>\n",
       "    </tr>\n",
       "    <tr>\n",
       "      <th>1</th>\n",
       "      <td>2</td>\n",
       "      <td>35040.17</td>\n",
       "      <td>1826</td>\n",
       "      <td>2501</td>\n",
       "      <td>14</td>\n",
       "      <td>special</td>\n",
       "    </tr>\n",
       "    <tr>\n",
       "      <th>2</th>\n",
       "      <td>4</td>\n",
       "      <td>30992.82</td>\n",
       "      <td>1851</td>\n",
       "      <td>2524</td>\n",
       "      <td>6</td>\n",
       "      <td>special</td>\n",
       "    </tr>\n",
       "    <tr>\n",
       "      <th>3</th>\n",
       "      <td>2</td>\n",
       "      <td>29417.78</td>\n",
       "      <td>2437</td>\n",
       "      <td>3049</td>\n",
       "      <td>12</td>\n",
       "      <td>special</td>\n",
       "    </tr>\n",
       "    <tr>\n",
       "      <th>4</th>\n",
       "      <td>2</td>\n",
       "      <td>35611.11</td>\n",
       "      <td>1122</td>\n",
       "      <td>1142</td>\n",
       "      <td>13</td>\n",
       "      <td>cobranding</td>\n",
       "    </tr>\n",
       "  </tbody>\n",
       "</table>\n",
       "</div>"
      ],
      "text/plain": [
       "  reach  loacl_tv online instore person       event\n",
       "0     2  31694.91   2115    3296      8   non_event\n",
       "1     2  35040.17   1826    2501     14     special\n",
       "2     4  30992.82   1851    2524      6     special\n",
       "3     2  29417.78   2437    3049     12     special\n",
       "4     2  35611.11   1122    1142     13  cobranding"
      ]
     },
     "execution_count": 11,
     "metadata": {},
     "output_type": "execute_result"
    }
   ],
   "source": [
    "df.head()"
   ]
  },
  {
   "cell_type": "markdown",
   "id": "43673fa8",
   "metadata": {},
   "source": [
    "- 将事件这一栏的种类名称替换成对应的数字"
   ]
  },
  {
   "cell_type": "code",
   "execution_count": 12,
   "id": "7da4005a",
   "metadata": {},
   "outputs": [
    {
     "data": {
      "text/html": [
       "<div>\n",
       "<style scoped>\n",
       "    .dataframe tbody tr th:only-of-type {\n",
       "        vertical-align: middle;\n",
       "    }\n",
       "\n",
       "    .dataframe tbody tr th {\n",
       "        vertical-align: top;\n",
       "    }\n",
       "\n",
       "    .dataframe thead th {\n",
       "        text-align: right;\n",
       "    }\n",
       "</style>\n",
       "<table border=\"1\" class=\"dataframe\">\n",
       "  <thead>\n",
       "    <tr style=\"text-align: right;\">\n",
       "      <th></th>\n",
       "      <th>reach</th>\n",
       "      <th>loacl_tv</th>\n",
       "      <th>online</th>\n",
       "      <th>instore</th>\n",
       "      <th>person</th>\n",
       "      <th>event</th>\n",
       "    </tr>\n",
       "  </thead>\n",
       "  <tbody>\n",
       "    <tr>\n",
       "      <th>0</th>\n",
       "      <td>2</td>\n",
       "      <td>31694.91</td>\n",
       "      <td>2115</td>\n",
       "      <td>3296</td>\n",
       "      <td>8</td>\n",
       "      <td>2</td>\n",
       "    </tr>\n",
       "    <tr>\n",
       "      <th>1</th>\n",
       "      <td>2</td>\n",
       "      <td>35040.17</td>\n",
       "      <td>1826</td>\n",
       "      <td>2501</td>\n",
       "      <td>14</td>\n",
       "      <td>3</td>\n",
       "    </tr>\n",
       "    <tr>\n",
       "      <th>2</th>\n",
       "      <td>4</td>\n",
       "      <td>30992.82</td>\n",
       "      <td>1851</td>\n",
       "      <td>2524</td>\n",
       "      <td>6</td>\n",
       "      <td>3</td>\n",
       "    </tr>\n",
       "    <tr>\n",
       "      <th>3</th>\n",
       "      <td>2</td>\n",
       "      <td>29417.78</td>\n",
       "      <td>2437</td>\n",
       "      <td>3049</td>\n",
       "      <td>12</td>\n",
       "      <td>3</td>\n",
       "    </tr>\n",
       "    <tr>\n",
       "      <th>4</th>\n",
       "      <td>2</td>\n",
       "      <td>35611.11</td>\n",
       "      <td>1122</td>\n",
       "      <td>1142</td>\n",
       "      <td>13</td>\n",
       "      <td>0</td>\n",
       "    </tr>\n",
       "  </tbody>\n",
       "</table>\n",
       "</div>"
      ],
      "text/plain": [
       "  reach  loacl_tv online instore person  event\n",
       "0     2  31694.91   2115    3296      8      2\n",
       "1     2  35040.17   1826    2501     14      3\n",
       "2     4  30992.82   1851    2524      6      3\n",
       "3     2  29417.78   2437    3049     12      3\n",
       "4     2  35611.11   1122    1142     13      0"
      ]
     },
     "execution_count": 12,
     "metadata": {},
     "output_type": "execute_result"
    }
   ],
   "source": [
    "from sklearn import preprocessing\n",
    "le=preprocessing.LabelEncoder()\n",
    "species_encoded=le.fit_transform(df['event'])\n",
    "df['event']=species_encoded\n",
    "df.head()"
   ]
  },
  {
   "cell_type": "markdown",
   "id": "08ae47af",
   "metadata": {},
   "source": [
    "### 将数据集分为训练集和测试集"
   ]
  },
  {
   "cell_type": "code",
   "execution_count": 13,
   "id": "ea735572",
   "metadata": {},
   "outputs": [],
   "source": [
    "df['random']=np.random.random(size=len(df))\n",
    "X_train,X_test,y_train,y_test=train_test_split(df,y,test_size=0.8,random_state=10)"
   ]
  },
  {
   "cell_type": "code",
   "execution_count": 14,
   "id": "ac8272ab",
   "metadata": {},
   "outputs": [],
   "source": [
    "df=df[['reach','loacl_tv','online','instore','person']].apply(lambda x:x.astype(float))"
   ]
  },
  {
   "cell_type": "code",
   "execution_count": 15,
   "id": "0bb4e69d",
   "metadata": {},
   "outputs": [
    {
     "data": {
      "text/html": [
       "<div>\n",
       "<style scoped>\n",
       "    .dataframe tbody tr th:only-of-type {\n",
       "        vertical-align: middle;\n",
       "    }\n",
       "\n",
       "    .dataframe tbody tr th {\n",
       "        vertical-align: top;\n",
       "    }\n",
       "\n",
       "    .dataframe thead th {\n",
       "        text-align: right;\n",
       "    }\n",
       "</style>\n",
       "<table border=\"1\" class=\"dataframe\">\n",
       "  <thead>\n",
       "    <tr style=\"text-align: right;\">\n",
       "      <th></th>\n",
       "      <th>reach</th>\n",
       "      <th>loacl_tv</th>\n",
       "      <th>online</th>\n",
       "      <th>instore</th>\n",
       "      <th>person</th>\n",
       "    </tr>\n",
       "  </thead>\n",
       "  <tbody>\n",
       "    <tr>\n",
       "      <th>reach</th>\n",
       "      <td>1.000000</td>\n",
       "      <td>-0.034039</td>\n",
       "      <td>-0.033271</td>\n",
       "      <td>0.036588</td>\n",
       "      <td>0.057563</td>\n",
       "    </tr>\n",
       "    <tr>\n",
       "      <th>loacl_tv</th>\n",
       "      <td>-0.034039</td>\n",
       "      <td>1.000000</td>\n",
       "      <td>0.006775</td>\n",
       "      <td>-0.046825</td>\n",
       "      <td>0.048664</td>\n",
       "    </tr>\n",
       "    <tr>\n",
       "      <th>online</th>\n",
       "      <td>-0.033271</td>\n",
       "      <td>0.006775</td>\n",
       "      <td>1.000000</td>\n",
       "      <td>-0.020198</td>\n",
       "      <td>0.035069</td>\n",
       "    </tr>\n",
       "    <tr>\n",
       "      <th>instore</th>\n",
       "      <td>0.036588</td>\n",
       "      <td>-0.046825</td>\n",
       "      <td>-0.020198</td>\n",
       "      <td>1.000000</td>\n",
       "      <td>-0.008875</td>\n",
       "    </tr>\n",
       "    <tr>\n",
       "      <th>person</th>\n",
       "      <td>0.057563</td>\n",
       "      <td>0.048664</td>\n",
       "      <td>0.035069</td>\n",
       "      <td>-0.008875</td>\n",
       "      <td>1.000000</td>\n",
       "    </tr>\n",
       "  </tbody>\n",
       "</table>\n",
       "</div>"
      ],
      "text/plain": [
       "             reach  loacl_tv    online   instore    person\n",
       "reach     1.000000 -0.034039 -0.033271  0.036588  0.057563\n",
       "loacl_tv -0.034039  1.000000  0.006775 -0.046825  0.048664\n",
       "online   -0.033271  0.006775  1.000000 -0.020198  0.035069\n",
       "instore   0.036588 -0.046825 -0.020198  1.000000 -0.008875\n",
       "person    0.057563  0.048664  0.035069 -0.008875  1.000000"
      ]
     },
     "execution_count": 15,
     "metadata": {},
     "output_type": "execute_result"
    }
   ],
   "source": [
    "corrMatrix=df.corr()\n",
    "corrMatrix"
   ]
  },
  {
   "cell_type": "code",
   "execution_count": 16,
   "id": "394755c0",
   "metadata": {},
   "outputs": [
    {
     "data": {
      "image/png": "[encoded data removed]",
      "text/plain": [
       "<Figure size 1600x500 with 2 Axes>"
      ]
     },
     "metadata": {
      "needs_background": "light"
     },
     "output_type": "display_data"
    }
   ],
   "source": [
    "import seaborn as sns\n",
    "import matplotlib.pyplot as plt\n",
    "plt.figure(figsize=(16,5),dpi=100)\n",
    "sns.heatmap(corrMatrix,annot=True)\n",
    "plt.show()"
   ]
  },
  {
   "cell_type": "markdown",
   "id": "df219c4a",
   "metadata": {},
   "source": [
    "- 从上述图可以发现这个数据集没有很明显的关系"
   ]
  },
  {
   "cell_type": "markdown",
   "id": "7e317b75",
   "metadata": {},
   "source": [
    "- 使用随机森林进行建模"
   ]
  },
  {
   "cell_type": "code",
   "execution_count": 17,
   "id": "131293a2",
   "metadata": {},
   "outputs": [
    {
     "name": "stdout",
     "output_type": "stream",
     "text": [
      "R^2 Training score:0.96 \n",
      " 00B Score:0.71\n",
      " R^2 test score0.63\n"
     ]
    }
   ],
   "source": [
    "from sklearn.ensemble import RandomForestRegressor\n",
    "\n",
    "rf=RandomForestRegressor(n_estimators=100,n_jobs=-1,oob_score=True,bootstrap=True,random_state=10)\n",
    "rf.fit(X_train,y_train)\n",
    "print('R^2 Training score:{:.2f} \\n 00B Score:{:.2f}\\n R^2 test score{:.2f}'.format(rf.score(X_train,y_train),\n",
    "                                                                                   rf.oob_score_,\n",
    "                                                                                   rf.score(X_test,y_test)))"
   ]
  },
  {
   "cell_type": "markdown",
   "id": "2108a66a",
   "metadata": {},
   "source": [
    "- oob score指的是袋外数据得分，可以看出这里overfitting"
   ]
  },
  {
   "cell_type": "code",
   "execution_count": 18,
   "id": "e4aadccf",
   "metadata": {},
   "outputs": [],
   "source": [
    "from sklearn.metrics import r2_score\n",
    "from rfpimp import permutation_importances"
   ]
  },
  {
   "cell_type": "code",
   "execution_count": 19,
   "id": "a9e5afd2",
   "metadata": {},
   "outputs": [],
   "source": [
    "def r2(rf,X_train,y_train):\n",
    "    return r2_score(y_train,rf.predict(X_train))\n",
    "perm_imp_rfpimp=permutation_importances(rf,X_train,y_train,r2)"
   ]
  },
  {
   "cell_type": "code",
   "execution_count": 21,
   "id": "dadd0281",
   "metadata": {},
   "outputs": [
    {
     "data": {
      "text/plain": [
       "<AxesSubplot:xlabel='Feature'>"
      ]
     },
     "execution_count": 21,
     "metadata": {},
     "output_type": "execute_result"
    },
    {
     "data": {
      "image/png": "[encoded data removed]",
      "text/plain": [
       "<Figure size 432x288 with 1 Axes>"
      ]
     },
     "metadata": {
      "needs_background": "light"
     },
     "output_type": "display_data"
    }
   ],
   "source": [
    "perm_imp_rfpimp.iloc[:,[0]].plot()"
   ]
  },
  {
   "cell_type": "markdown",
   "id": "ddf5ad5e",
   "metadata": {},
   "source": [
    "- 从这张图可以看出local_tv，person,和instore为前三个最有影响力的变量\n"
   ]
  },
  {
   "cell_type": "markdown",
   "id": "9a9b6154",
   "metadata": {},
   "source": [
    "### 这里再使用一个更加准确的方法"
   ]
  },
  {
   "cell_type": "markdown",
   "id": "71d83727",
   "metadata": {},
   "source": [
    "- 不仅能够判断出哪个变量更重要，还能建议哪些变量可以被移除从而建立更加精准的模型"
   ]
  },
  {
   "cell_type": "code",
   "execution_count": 23,
   "id": "0105de2c",
   "metadata": {},
   "outputs": [],
   "source": [
    "from sklearn.base import clone\n",
    "\n",
    "def imp_df(column_names,importances):\n",
    "    data={\n",
    "        'Feature':column_names,\n",
    "        'Importance': importances,\n",
    "    }\n",
    "    df=pd.DataFrame(data).set_index('Feature').sort_values('Importance',ascending=False)\n",
    "    return df"
   ]
  },
  {
   "cell_type": "code",
   "execution_count": 25,
   "id": "6ebfc389",
   "metadata": {},
   "outputs": [],
   "source": [
    "def drop_col_feat_imp(model,X_train,y_train,random_state=10):\n",
    "    model_clone=clone(model)\n",
    "    model_clone.random_state=random_state\n",
    "    model_clone.fit(X_train,y_train)\n",
    "    benchmark_score=model_clone.score(X_train,y_train)\n",
    "    \n",
    "    importances = []\n",
    "    for col in X_train.columns:\n",
    "    model_clone=clone(model)\n",
    "    model_clone.random_state"
   ]
  },
  {
   "cell_type": "markdown",
   "id": "30a778bb",
   "metadata": {},
   "source": [
    "- 用clone备份一下模型，用于与之后建立的移除某个变量后的模型对比哪个模型的准确性更高"
   ]
  },
  {
   "cell_type": "code",
   "execution_count": null,
   "id": "45424f3a",
   "metadata": {},
   "outputs": [],
   "source": []
  }
 ],
 "metadata": {
  "kernelspec": {
   "display_name": "Python 3 (ipykernel)",
   "language": "python",
   "name": "python3"
  },
  "language_info": {
   "codemirror_mode": {
    "name": "ipython",
    "version": 3
   },
   "file_extension": ".py",
   "mimetype": "text/x-python",
   "name": "python",
   "nbconvert_exporter": "python",
   "pygments_lexer": "ipython3",
   "version": "3.9.7"
  }
 },
 "nbformat": 4,
 "nbformat_minor": 5
}
