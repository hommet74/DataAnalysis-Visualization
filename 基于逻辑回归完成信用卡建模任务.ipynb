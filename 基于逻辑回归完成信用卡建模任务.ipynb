{
 "cells": [
  {
   "cell_type": "markdown",
   "id": "aaf8e499",
   "metadata": {},
   "source": [
    "### 任务描述\n",
    "信用评分卡模型在信用风险评估及金融风控领域得到广泛的应用，是一种以分数的形式来对用户进行评估的方法，通常评分越高代表用户的信用越好，从而风险也就越小。常见的信用评分卡有：A卡（申请评分卡）、B卡（行为评分卡）、C卡（催收评分卡）等，三者分别侧重贷前、贷中、贷后三个阶段，具体含义如引用所示。本案例选用的数据集主要涉及借款人的行为评级，因此任务是建立行为评分卡模型，该评分卡可以根据借款人在借贷之后的行为表现，预测其未来违约的概率。"
   ]
  },
  {
   "cell_type": "code",
   "execution_count": 1,
   "id": "90ab3286",
   "metadata": {},
   "outputs": [
    {
     "data": {
      "text/html": [
       "<div>\n",
       "<style scoped>\n",
       "    .dataframe tbody tr th:only-of-type {\n",
       "        vertical-align: middle;\n",
       "    }\n",
       "\n",
       "    .dataframe tbody tr th {\n",
       "        vertical-align: top;\n",
       "    }\n",
       "\n",
       "    .dataframe thead th {\n",
       "        text-align: right;\n",
       "    }\n",
       "</style>\n",
       "<table border=\"1\" class=\"dataframe\">\n",
       "  <thead>\n",
       "    <tr style=\"text-align: right;\">\n",
       "      <th></th>\n",
       "      <th>Unnamed: 0</th>\n",
       "      <th>SeriousDlqin2yrs</th>\n",
       "      <th>RevolvingUtilizationOfUnsecuredLines</th>\n",
       "      <th>age</th>\n",
       "      <th>NumberOfTime30-59DaysPastDueNotWorse</th>\n",
       "      <th>DebtRatio</th>\n",
       "      <th>MonthlyIncome</th>\n",
       "      <th>NumberOfOpenCreditLinesAndLoans</th>\n",
       "      <th>NumberOfTimes90DaysLate</th>\n",
       "      <th>NumberRealEstateLoansOrLines</th>\n",
       "      <th>NumberOfTime60-89DaysPastDueNotWorse</th>\n",
       "      <th>NumberOfDependents</th>\n",
       "    </tr>\n",
       "  </thead>\n",
       "  <tbody>\n",
       "    <tr>\n",
       "      <th>0</th>\n",
       "      <td>1</td>\n",
       "      <td>1</td>\n",
       "      <td>0.766127</td>\n",
       "      <td>45</td>\n",
       "      <td>2</td>\n",
       "      <td>0.802982</td>\n",
       "      <td>9120.0</td>\n",
       "      <td>13</td>\n",
       "      <td>0</td>\n",
       "      <td>6</td>\n",
       "      <td>0</td>\n",
       "      <td>2.0</td>\n",
       "    </tr>\n",
       "    <tr>\n",
       "      <th>1</th>\n",
       "      <td>2</td>\n",
       "      <td>0</td>\n",
       "      <td>0.957151</td>\n",
       "      <td>40</td>\n",
       "      <td>0</td>\n",
       "      <td>0.121876</td>\n",
       "      <td>2600.0</td>\n",
       "      <td>4</td>\n",
       "      <td>0</td>\n",
       "      <td>0</td>\n",
       "      <td>0</td>\n",
       "      <td>1.0</td>\n",
       "    </tr>\n",
       "    <tr>\n",
       "      <th>2</th>\n",
       "      <td>3</td>\n",
       "      <td>0</td>\n",
       "      <td>0.658180</td>\n",
       "      <td>38</td>\n",
       "      <td>1</td>\n",
       "      <td>0.085113</td>\n",
       "      <td>3042.0</td>\n",
       "      <td>2</td>\n",
       "      <td>1</td>\n",
       "      <td>0</td>\n",
       "      <td>0</td>\n",
       "      <td>0.0</td>\n",
       "    </tr>\n",
       "    <tr>\n",
       "      <th>3</th>\n",
       "      <td>4</td>\n",
       "      <td>0</td>\n",
       "      <td>0.233810</td>\n",
       "      <td>30</td>\n",
       "      <td>0</td>\n",
       "      <td>0.036050</td>\n",
       "      <td>3300.0</td>\n",
       "      <td>5</td>\n",
       "      <td>0</td>\n",
       "      <td>0</td>\n",
       "      <td>0</td>\n",
       "      <td>0.0</td>\n",
       "    </tr>\n",
       "    <tr>\n",
       "      <th>4</th>\n",
       "      <td>5</td>\n",
       "      <td>0</td>\n",
       "      <td>0.907239</td>\n",
       "      <td>49</td>\n",
       "      <td>1</td>\n",
       "      <td>0.024926</td>\n",
       "      <td>63588.0</td>\n",
       "      <td>7</td>\n",
       "      <td>0</td>\n",
       "      <td>1</td>\n",
       "      <td>0</td>\n",
       "      <td>0.0</td>\n",
       "    </tr>\n",
       "    <tr>\n",
       "      <th>5</th>\n",
       "      <td>6</td>\n",
       "      <td>0</td>\n",
       "      <td>0.213179</td>\n",
       "      <td>74</td>\n",
       "      <td>0</td>\n",
       "      <td>0.375607</td>\n",
       "      <td>3500.0</td>\n",
       "      <td>3</td>\n",
       "      <td>0</td>\n",
       "      <td>1</td>\n",
       "      <td>0</td>\n",
       "      <td>1.0</td>\n",
       "    </tr>\n",
       "    <tr>\n",
       "      <th>6</th>\n",
       "      <td>7</td>\n",
       "      <td>0</td>\n",
       "      <td>0.305682</td>\n",
       "      <td>57</td>\n",
       "      <td>0</td>\n",
       "      <td>5710.000000</td>\n",
       "      <td>NaN</td>\n",
       "      <td>8</td>\n",
       "      <td>0</td>\n",
       "      <td>3</td>\n",
       "      <td>0</td>\n",
       "      <td>0.0</td>\n",
       "    </tr>\n",
       "    <tr>\n",
       "      <th>7</th>\n",
       "      <td>8</td>\n",
       "      <td>0</td>\n",
       "      <td>0.754464</td>\n",
       "      <td>39</td>\n",
       "      <td>0</td>\n",
       "      <td>0.209940</td>\n",
       "      <td>3500.0</td>\n",
       "      <td>8</td>\n",
       "      <td>0</td>\n",
       "      <td>0</td>\n",
       "      <td>0</td>\n",
       "      <td>0.0</td>\n",
       "    </tr>\n",
       "    <tr>\n",
       "      <th>8</th>\n",
       "      <td>9</td>\n",
       "      <td>0</td>\n",
       "      <td>0.116951</td>\n",
       "      <td>27</td>\n",
       "      <td>0</td>\n",
       "      <td>46.000000</td>\n",
       "      <td>NaN</td>\n",
       "      <td>2</td>\n",
       "      <td>0</td>\n",
       "      <td>0</td>\n",
       "      <td>0</td>\n",
       "      <td>NaN</td>\n",
       "    </tr>\n",
       "    <tr>\n",
       "      <th>9</th>\n",
       "      <td>10</td>\n",
       "      <td>0</td>\n",
       "      <td>0.189169</td>\n",
       "      <td>57</td>\n",
       "      <td>0</td>\n",
       "      <td>0.606291</td>\n",
       "      <td>23684.0</td>\n",
       "      <td>9</td>\n",
       "      <td>0</td>\n",
       "      <td>4</td>\n",
       "      <td>0</td>\n",
       "      <td>2.0</td>\n",
       "    </tr>\n",
       "  </tbody>\n",
       "</table>\n",
       "</div>"
      ],
      "text/plain": [
       "   Unnamed: 0  SeriousDlqin2yrs  RevolvingUtilizationOfUnsecuredLines  age  \\\n",
       "0           1                 1                              0.766127   45   \n",
       "1           2                 0                              0.957151   40   \n",
       "2           3                 0                              0.658180   38   \n",
       "3           4                 0                              0.233810   30   \n",
       "4           5                 0                              0.907239   49   \n",
       "5           6                 0                              0.213179   74   \n",
       "6           7                 0                              0.305682   57   \n",
       "7           8                 0                              0.754464   39   \n",
       "8           9                 0                              0.116951   27   \n",
       "9          10                 0                              0.189169   57   \n",
       "\n",
       "   NumberOfTime30-59DaysPastDueNotWorse    DebtRatio  MonthlyIncome  \\\n",
       "0                                     2     0.802982         9120.0   \n",
       "1                                     0     0.121876         2600.0   \n",
       "2                                     1     0.085113         3042.0   \n",
       "3                                     0     0.036050         3300.0   \n",
       "4                                     1     0.024926        63588.0   \n",
       "5                                     0     0.375607         3500.0   \n",
       "6                                     0  5710.000000            NaN   \n",
       "7                                     0     0.209940         3500.0   \n",
       "8                                     0    46.000000            NaN   \n",
       "9                                     0     0.606291        23684.0   \n",
       "\n",
       "   NumberOfOpenCreditLinesAndLoans  NumberOfTimes90DaysLate  \\\n",
       "0                               13                        0   \n",
       "1                                4                        0   \n",
       "2                                2                        1   \n",
       "3                                5                        0   \n",
       "4                                7                        0   \n",
       "5                                3                        0   \n",
       "6                                8                        0   \n",
       "7                                8                        0   \n",
       "8                                2                        0   \n",
       "9                                9                        0   \n",
       "\n",
       "   NumberRealEstateLoansOrLines  NumberOfTime60-89DaysPastDueNotWorse  \\\n",
       "0                             6                                     0   \n",
       "1                             0                                     0   \n",
       "2                             0                                     0   \n",
       "3                             0                                     0   \n",
       "4                             1                                     0   \n",
       "5                             1                                     0   \n",
       "6                             3                                     0   \n",
       "7                             0                                     0   \n",
       "8                             0                                     0   \n",
       "9                             4                                     0   \n",
       "\n",
       "   NumberOfDependents  \n",
       "0                 2.0  \n",
       "1                 1.0  \n",
       "2                 0.0  \n",
       "3                 0.0  \n",
       "4                 0.0  \n",
       "5                 1.0  \n",
       "6                 0.0  \n",
       "7                 0.0  \n",
       "8                 NaN  \n",
       "9                 2.0  "
      ]
     },
     "execution_count": 1,
     "metadata": {},
     "output_type": "execute_result"
    }
   ],
   "source": [
    "import numpy as np\n",
    "import pandas as pd\n",
    "import warnings\n",
    "warnings.filterwarnings('ignore')\n",
    "\n",
    "data=pd.read_csv('./data/datasets/cs-training.csv')\n",
    "data.head(10)"
   ]
  },
  {
   "cell_type": "markdown",
   "id": "2b332fa1",
   "metadata": {},
   "source": [
    "#### 由于变量名太多，简化名字，同时删除无用列unnamed"
   ]
  },
  {
   "cell_type": "code",
   "execution_count": 2,
   "id": "72cc5019",
   "metadata": {},
   "outputs": [
    {
     "data": {
      "text/html": [
       "<div>\n",
       "<style scoped>\n",
       "    .dataframe tbody tr th:only-of-type {\n",
       "        vertical-align: middle;\n",
       "    }\n",
       "\n",
       "    .dataframe tbody tr th {\n",
       "        vertical-align: top;\n",
       "    }\n",
       "\n",
       "    .dataframe thead th {\n",
       "        text-align: right;\n",
       "    }\n",
       "</style>\n",
       "<table border=\"1\" class=\"dataframe\">\n",
       "  <thead>\n",
       "    <tr style=\"text-align: right;\">\n",
       "      <th></th>\n",
       "      <th>Label</th>\n",
       "      <th>RevolvingRatio</th>\n",
       "      <th>Age</th>\n",
       "      <th>30-59D</th>\n",
       "      <th>DebtRatio</th>\n",
       "      <th>MonthlyIncome</th>\n",
       "      <th>OpenL</th>\n",
       "      <th>90D</th>\n",
       "      <th>RealEstate</th>\n",
       "      <th>60-89D</th>\n",
       "      <th>Dependents</th>\n",
       "    </tr>\n",
       "  </thead>\n",
       "  <tbody>\n",
       "    <tr>\n",
       "      <th>0</th>\n",
       "      <td>1</td>\n",
       "      <td>0.766127</td>\n",
       "      <td>45</td>\n",
       "      <td>2</td>\n",
       "      <td>0.802982</td>\n",
       "      <td>9120.0</td>\n",
       "      <td>13</td>\n",
       "      <td>0</td>\n",
       "      <td>6</td>\n",
       "      <td>0</td>\n",
       "      <td>2.0</td>\n",
       "    </tr>\n",
       "    <tr>\n",
       "      <th>1</th>\n",
       "      <td>0</td>\n",
       "      <td>0.957151</td>\n",
       "      <td>40</td>\n",
       "      <td>0</td>\n",
       "      <td>0.121876</td>\n",
       "      <td>2600.0</td>\n",
       "      <td>4</td>\n",
       "      <td>0</td>\n",
       "      <td>0</td>\n",
       "      <td>0</td>\n",
       "      <td>1.0</td>\n",
       "    </tr>\n",
       "    <tr>\n",
       "      <th>2</th>\n",
       "      <td>0</td>\n",
       "      <td>0.658180</td>\n",
       "      <td>38</td>\n",
       "      <td>1</td>\n",
       "      <td>0.085113</td>\n",
       "      <td>3042.0</td>\n",
       "      <td>2</td>\n",
       "      <td>1</td>\n",
       "      <td>0</td>\n",
       "      <td>0</td>\n",
       "      <td>0.0</td>\n",
       "    </tr>\n",
       "    <tr>\n",
       "      <th>3</th>\n",
       "      <td>0</td>\n",
       "      <td>0.233810</td>\n",
       "      <td>30</td>\n",
       "      <td>0</td>\n",
       "      <td>0.036050</td>\n",
       "      <td>3300.0</td>\n",
       "      <td>5</td>\n",
       "      <td>0</td>\n",
       "      <td>0</td>\n",
       "      <td>0</td>\n",
       "      <td>0.0</td>\n",
       "    </tr>\n",
       "    <tr>\n",
       "      <th>4</th>\n",
       "      <td>0</td>\n",
       "      <td>0.907239</td>\n",
       "      <td>49</td>\n",
       "      <td>1</td>\n",
       "      <td>0.024926</td>\n",
       "      <td>63588.0</td>\n",
       "      <td>7</td>\n",
       "      <td>0</td>\n",
       "      <td>1</td>\n",
       "      <td>0</td>\n",
       "      <td>0.0</td>\n",
       "    </tr>\n",
       "    <tr>\n",
       "      <th>5</th>\n",
       "      <td>0</td>\n",
       "      <td>0.213179</td>\n",
       "      <td>74</td>\n",
       "      <td>0</td>\n",
       "      <td>0.375607</td>\n",
       "      <td>3500.0</td>\n",
       "      <td>3</td>\n",
       "      <td>0</td>\n",
       "      <td>1</td>\n",
       "      <td>0</td>\n",
       "      <td>1.0</td>\n",
       "    </tr>\n",
       "    <tr>\n",
       "      <th>6</th>\n",
       "      <td>0</td>\n",
       "      <td>0.305682</td>\n",
       "      <td>57</td>\n",
       "      <td>0</td>\n",
       "      <td>5710.000000</td>\n",
       "      <td>NaN</td>\n",
       "      <td>8</td>\n",
       "      <td>0</td>\n",
       "      <td>3</td>\n",
       "      <td>0</td>\n",
       "      <td>0.0</td>\n",
       "    </tr>\n",
       "    <tr>\n",
       "      <th>7</th>\n",
       "      <td>0</td>\n",
       "      <td>0.754464</td>\n",
       "      <td>39</td>\n",
       "      <td>0</td>\n",
       "      <td>0.209940</td>\n",
       "      <td>3500.0</td>\n",
       "      <td>8</td>\n",
       "      <td>0</td>\n",
       "      <td>0</td>\n",
       "      <td>0</td>\n",
       "      <td>0.0</td>\n",
       "    </tr>\n",
       "    <tr>\n",
       "      <th>8</th>\n",
       "      <td>0</td>\n",
       "      <td>0.116951</td>\n",
       "      <td>27</td>\n",
       "      <td>0</td>\n",
       "      <td>46.000000</td>\n",
       "      <td>NaN</td>\n",
       "      <td>2</td>\n",
       "      <td>0</td>\n",
       "      <td>0</td>\n",
       "      <td>0</td>\n",
       "      <td>NaN</td>\n",
       "    </tr>\n",
       "    <tr>\n",
       "      <th>9</th>\n",
       "      <td>0</td>\n",
       "      <td>0.189169</td>\n",
       "      <td>57</td>\n",
       "      <td>0</td>\n",
       "      <td>0.606291</td>\n",
       "      <td>23684.0</td>\n",
       "      <td>9</td>\n",
       "      <td>0</td>\n",
       "      <td>4</td>\n",
       "      <td>0</td>\n",
       "      <td>2.0</td>\n",
       "    </tr>\n",
       "  </tbody>\n",
       "</table>\n",
       "</div>"
      ],
      "text/plain": [
       "   Label  RevolvingRatio  Age  30-59D    DebtRatio  MonthlyIncome  OpenL  90D  \\\n",
       "0      1        0.766127   45       2     0.802982         9120.0     13    0   \n",
       "1      0        0.957151   40       0     0.121876         2600.0      4    0   \n",
       "2      0        0.658180   38       1     0.085113         3042.0      2    1   \n",
       "3      0        0.233810   30       0     0.036050         3300.0      5    0   \n",
       "4      0        0.907239   49       1     0.024926        63588.0      7    0   \n",
       "5      0        0.213179   74       0     0.375607         3500.0      3    0   \n",
       "6      0        0.305682   57       0  5710.000000            NaN      8    0   \n",
       "7      0        0.754464   39       0     0.209940         3500.0      8    0   \n",
       "8      0        0.116951   27       0    46.000000            NaN      2    0   \n",
       "9      0        0.189169   57       0     0.606291        23684.0      9    0   \n",
       "\n",
       "   RealEstate  60-89D  Dependents  \n",
       "0           6       0         2.0  \n",
       "1           0       0         1.0  \n",
       "2           0       0         0.0  \n",
       "3           0       0         0.0  \n",
       "4           1       0         0.0  \n",
       "5           1       0         1.0  \n",
       "6           3       0         0.0  \n",
       "7           0       0         0.0  \n",
       "8           0       0         NaN  \n",
       "9           4       0         2.0  "
      ]
     },
     "execution_count": 2,
     "metadata": {},
     "output_type": "execute_result"
    }
   ],
   "source": [
    "data=data.iloc[:,1:]\n",
    "data.columns=['Label','RevolvingRatio','Age','30-59D','DebtRatio','MonthlyIncome','OpenL','90D','RealEstate','60-89D','Dependents']\n",
    "data.head(10)"
   ]
  },
  {
   "cell_type": "markdown",
   "id": "386b87e5",
   "metadata": {},
   "source": [
    "### 3.数据预处理"
   ]
  },
  {
   "cell_type": "markdown",
   "id": "b8bdd349",
   "metadata": {},
   "source": [
    "#### 3.1缺失值处理"
   ]
  },
  {
   "cell_type": "code",
   "execution_count": 3,
   "id": "9f451a10",
   "metadata": {},
   "outputs": [
    {
     "data": {
      "text/plain": [
       "Label                 0\n",
       "RevolvingRatio        0\n",
       "Age                   0\n",
       "30-59D                0\n",
       "DebtRatio             0\n",
       "MonthlyIncome     29731\n",
       "OpenL                 0\n",
       "90D                   0\n",
       "RealEstate            0\n",
       "60-89D                0\n",
       "Dependents         3924\n",
       "dtype: int64"
      ]
     },
     "execution_count": 3,
     "metadata": {},
     "output_type": "execute_result"
    }
   ],
   "source": [
    "data.isnull().sum()"
   ]
  },
  {
   "cell_type": "code",
   "execution_count": 4,
   "id": "24b299b2",
   "metadata": {},
   "outputs": [
    {
     "data": {
      "text/plain": [
       "Label             0.000000\n",
       "RevolvingRatio    0.000000\n",
       "Age               0.000000\n",
       "30-59D            0.000000\n",
       "DebtRatio         0.000000\n",
       "MonthlyIncome     0.198207\n",
       "OpenL             0.000000\n",
       "90D               0.000000\n",
       "RealEstate        0.000000\n",
       "60-89D            0.000000\n",
       "Dependents        0.026160\n",
       "dtype: float64"
      ]
     },
     "execution_count": 4,
     "metadata": {},
     "output_type": "execute_result"
    }
   ],
   "source": [
    "data.isnull().mean()"
   ]
  },
  {
   "cell_type": "markdown",
   "id": "bf6fe2fa",
   "metadata": {},
   "source": [
    "- 可以发现只有月收入和家属人数有缺失，月收入缺失较多不能直接删除，家属人数可以直接删除，采用随机森林进行建模填充月收入，选择用众数填充家属人数"
   ]
  },
  {
   "cell_type": "code",
   "execution_count": 8,
   "id": "eaffbd7b",
   "metadata": {},
   "outputs": [
    {
     "name": "stdout",
     "output_type": "stream",
     "text": [
      "count    1.202690e+05\n",
      "mean     6.670221e+03\n",
      "std      1.438467e+04\n",
      "min      0.000000e+00\n",
      "25%      3.400000e+03\n",
      "50%      5.400000e+03\n",
      "75%      8.249000e+03\n",
      "max      3.008750e+06\n",
      "Name: MonthlyIncome, dtype: float64\n"
     ]
    }
   ],
   "source": [
    "#MonthlyIncome特征处理\n",
    "from sklearn.ensemble import RandomForestRegressor\n",
    "rfDf=data.iloc[:,[5,1,2,3,4,6,7,8,9]]\n",
    "rfDf_train=rfDf.loc[rfDf['MonthlyIncome'].notnull()]\n",
    "rfDf_test=rfDf.loc[rfDf['MonthlyIncome'].isnull()]\n",
    "\n",
    "#划分训练数据和标签\n",
    "X=rfDf_train.iloc[:,1:]\n",
    "y=rfDf_train.iloc[:,0]\n",
    "\n",
    "#训练\n",
    "rf=RandomForestRegressor(random_state=0,n_estimators=200,max_depth=3,n_jobs=-1)\n",
    "rf.fit(X,y)\n",
    "pred=rf.predict(rfDf_test.iloc[:,1:]).round(0)\n",
    "data.loc[(data['MonthlyIncome'].isnull()),'MonthlyIncome']=pred\n",
    "print(rfDf['MonthlyIncome'].describe())"
   ]
  },
  {
   "cell_type": "code",
   "execution_count": 9,
   "id": "835dcdd2",
   "metadata": {},
   "outputs": [
    {
     "name": "stdout",
     "output_type": "stream",
     "text": [
      "count    150000.000000\n",
      "mean          0.737413\n",
      "std           1.107021\n",
      "min           0.000000\n",
      "25%           0.000000\n",
      "50%           0.000000\n",
      "75%           1.000000\n",
      "max          20.000000\n",
      "Name: Dependents, dtype: float64\n"
     ]
    }
   ],
   "source": [
    "#Dependents特征处理\n",
    "data['Dependents'].fillna(data['Dependents'].mode()[0],inplace=True)\n",
    "print(data['Dependents'].describe())"
   ]
  },
  {
   "cell_type": "markdown",
   "id": "467d19b2",
   "metadata": {},
   "source": [
    "#### 3.2异常值处理"
   ]
  },
  {
   "cell_type": "markdown",
   "id": "4feb6735",
   "metadata": {},
   "source": [
    "- 用箱型图直观的观察每一列特征，找到偏离正常范围较大的异常值"
   ]
  },
  {
   "cell_type": "code",
   "execution_count": 17,
   "id": "8a00e82e",
   "metadata": {},
   "outputs": [
    {
     "data": {
      "image/png": "[encoded data removed]",
      "text/plain": [
       "<Figure size 400x1500 with 2 Axes>"
      ]
     },
     "metadata": {
      "needs_background": "light"
     },
     "output_type": "display_data"
    }
   ],
   "source": [
    "import seaborn as sns\n",
    "import matplotlib.pyplot as plt\n",
    "%matplotlib inline\n",
    "#分析百分比特征\n",
    "fig,axis=plt.subplots(1,2,figsize=(4,15),dpi=100)\n",
    "\n",
    "axis[0].boxplot(list(data['RevolvingRatio']),showmeans=True,flierprops={'marker':'o','markerfacecolor':'steelblue'})\n",
    "axis[0].set_title('RevolvingRatio')\n",
    "\n",
    "axis[1].boxplot(list(data['DebtRatio']),showmeans=True, flierprops = {\"marker\":\"o\",\"markerfacecolor\":\"steelblue\"})\n",
    "axis[1].set_title('DebtRatio')\n",
    "plt.tight_layout(pad=1.5)\n",
    "plt.show()"
   ]
  },
  {
   "cell_type": "markdown",
   "id": "3ff067e7",
   "metadata": {},
   "source": [
    "- RevolvingRatio代表信贷额度除以总额度的百分比，DebtRatio表示每月的负债比率，从实际意义出发进行理解这两者的取值范围都应该在【0，1】之间将大于0，1的值用[0,1]之间的均值进行填充"
   ]
  },
  {
   "cell_type": "code",
   "execution_count": 18,
   "id": "63b8c294",
   "metadata": {},
   "outputs": [],
   "source": [
    "#RevolvingRatio\n",
    "ruulDf=data[data['RevolvingRatio']<=1]\n",
    "ruul_mean=ruulDf['RevolvingRatio'].mean()\n",
    "data.loc[data['RevolvingRatio']>1,'RevolvingRatio']=ruul_mean\n",
    "\n",
    "#debtRatio\n",
    "ruulDf=data[data['DebtRatio']<=1]\n",
    "ruul_mean=ruulDf['DebtRatio'].mean()\n",
    "data.loc[data['DebtRatio']>1,'DebtRatio']=ruul_mean"
   ]
  },
  {
   "cell_type": "markdown",
   "id": "09053f92",
   "metadata": {},
   "source": [
    "#### 3.2.2逾期特征"
   ]
  },
  {
   "cell_type": "code",
   "execution_count": 23,
   "id": "e0672ad2",
   "metadata": {},
   "outputs": [
    {
     "data": {
      "image/png": "[encoded data removed]",
      "text/plain": [
       "<Figure size 600x1500 with 3 Axes>"
      ]
     },
     "metadata": {
      "needs_background": "light"
     },
     "output_type": "display_data"
    }
   ],
   "source": [
    "fig,axis=plt.subplots(1,3,figsize=(6,15),dpi=100)\n",
    "\n",
    "axis[0].boxplot(list(data['30-59D']),showmeans=True,flierprops={\"marker\":\"o\",\"markerfacecolor\":\"steelblue\"})\n",
    "axis[0].set_title('30-59D')\n",
    "\n",
    "axis[1].boxplot(list(data['60-89D']),showmeans=True,flierprops={\"marker\":\"o\",\"markerfacecolor\":\"steelblue\"})\n",
    "axis[1].set_title('60-89D')\n",
    "\n",
    "axis[2].boxplot(list(data['90D']),showmeans=True,flierprops={\"marker\":\"o\",\"markerfacecolor\":\"steelblue\"})\n",
    "axis[2].set_title('90D')\n",
    "plt.tight_layout(pad=1.5)\n",
    "plt.show()"
   ]
  },
  {
   "cell_type": "markdown",
   "id": "73221ad8",
   "metadata": {},
   "source": [
    "- 可以发现逾期接近100次的可以视为异常值"
   ]
  },
  {
   "cell_type": "code",
   "execution_count": 25,
   "id": "64986e70",
   "metadata": {},
   "outputs": [
    {
     "name": "stdout",
     "output_type": "stream",
     "text": [
      "269 /n 269 269\n"
     ]
    }
   ],
   "source": [
    "row1=data[data['30-59D']>80].shape[0]\n",
    "row2=data[data['60-89D']>80].shape[0]\n",
    "row3=data[data['90D']>80].shape[0]\n",
    "print(row1,'/n',row2,row3)"
   ]
  },
  {
   "cell_type": "code",
   "execution_count": 27,
   "id": "fc11edf5",
   "metadata": {},
   "outputs": [
    {
     "data": {
      "text/plain": [
       "269"
      ]
     },
     "execution_count": 27,
     "metadata": {},
     "output_type": "execute_result"
    }
   ],
   "source": [
    "#查看是否属于同样的269样本\n",
    "sameDf=data[data['30-59D']>80]\n",
    "sameDf=sameDf[sameDf['60-89D']>80]\n",
    "sameDf=sameDf[sameDf['90D']>80]\n",
    "sameDf.shape[0]"
   ]
  },
  {
   "cell_type": "markdown",
   "id": "775c5a33",
   "metadata": {},
   "source": [
    "- 可以发现269条数据同时在三个列为异常值，只占很小一部分，直接删除"
   ]
  },
  {
   "cell_type": "code",
   "execution_count": 28,
   "id": "153c9a28",
   "metadata": {},
   "outputs": [
    {
     "data": {
      "text/plain": [
       "(149731, 11)"
      ]
     },
     "execution_count": 28,
     "metadata": {},
     "output_type": "execute_result"
    }
   ],
   "source": [
    "data.drop(data[data['30-59D']>80].index,inplace=True)\n",
    "data.shape"
   ]
  },
  {
   "cell_type": "code",
   "execution_count": 33,
   "id": "24cf9792",
   "metadata": {},
   "outputs": [
    {
     "data": {
      "text/plain": [
       "Text(0.5, 1.0, 'Age')"
      ]
     },
     "execution_count": 33,
     "metadata": {},
     "output_type": "execute_result"
    },
    {
     "data": {
      "image/png": "[encoded data removed]",
      "text/plain": [
       "<Figure size 1500x500 with 1 Axes>"
      ]
     },
     "metadata": {
      "needs_background": "light"
     },
     "output_type": "display_data"
    }
   ],
   "source": [
    "plt.figure(figsize=(15,5),dpi=100)\n",
    "plt.boxplot(list(data['Age']),vert=False,showmeans=True,flierprops = {\"marker\":\"o\",\"markerfacecolor\":\"steelblue\"})\n",
    "plt.title('Age')\n"
   ]
  },
  {
   "cell_type": "markdown",
   "id": "528091b0",
   "metadata": {},
   "source": [
    "- 从上图可以明显看出，0为异常值只有一个直接删除，100左右的也应该删除"
   ]
  },
  {
   "cell_type": "code",
   "execution_count": 34,
   "id": "99933aec",
   "metadata": {},
   "outputs": [
    {
     "name": "stdout",
     "output_type": "stream",
     "text": [
      "上线 96.0\n",
      "下线 8.0\n"
     ]
    }
   ],
   "source": [
    "#箱型图边界\n",
    "q1=data['Age'].describe()['25%']\n",
    "q3=data['Age'].describe()['75%']\n",
    "iqr=q3-q1\n",
    "print('上线',q3+iqr*1.5)\n",
    "print('下线',q1-iqr*1.5)"
   ]
  },
  {
   "cell_type": "code",
   "execution_count": 35,
   "id": "1fa65969",
   "metadata": {},
   "outputs": [
    {
     "data": {
      "text/plain": [
       "1"
      ]
     },
     "execution_count": 35,
     "metadata": {},
     "output_type": "execute_result"
    }
   ],
   "source": [
    "data[data['Age']<8].shape[0]"
   ]
  },
  {
   "cell_type": "code",
   "execution_count": 36,
   "id": "49c590d3",
   "metadata": {},
   "outputs": [
    {
     "data": {
      "text/plain": [
       "45"
      ]
     },
     "execution_count": 36,
     "metadata": {},
     "output_type": "execute_result"
    }
   ],
   "source": [
    "data[data['Age']>96].shape[0]"
   ]
  },
  {
   "cell_type": "code",
   "execution_count": 37,
   "id": "9d4bf806",
   "metadata": {},
   "outputs": [
    {
     "data": {
      "text/plain": [
       "149685"
      ]
     },
     "execution_count": 37,
     "metadata": {},
     "output_type": "execute_result"
    }
   ],
   "source": [
    "#删除年龄特征异常值\n",
    "data.drop(data[data['Age']==0].index,inplace=True)\n",
    "data.drop(data[data['Age']>96].index,inplace=True)\n",
    "data.shape[0]"
   ]
  },
  {
   "cell_type": "markdown",
   "id": "dade93b8",
   "metadata": {},
   "source": [
    "#### 3.2.4其余特征"
   ]
  },
  {
   "cell_type": "code",
   "execution_count": 38,
   "id": "7831036b",
   "metadata": {},
   "outputs": [
    {
     "data": {
      "image/png": "[encoded data removed]",
      "text/plain": [
       "<Figure size 800x1500 with 4 Axes>"
      ]
     },
     "metadata": {
      "needs_background": "light"
     },
     "output_type": "display_data"
    }
   ],
   "source": [
    "fig,axis=plt.subplots(1,4,figsize=(8,15),dpi=100)\n",
    "\n",
    "axis[0].boxplot(list(data['MonthlyIncome']),showmeans=True,flierprops={\"marker\":\"o\",\"markerfacecolor\":\"steelblue\"})\n",
    "axis[0].set_title('MonthlyIncome')\n",
    "\n",
    "axis[1].boxplot(list(data['OpenL']),showmeans=True,flierprops={\"marker\":\"o\",\"markerfacecolor\":\"steelblue\"})\n",
    "axis[1].set_title('OpenL')\n",
    "\n",
    "axis[2].boxplot(list(data['RealEstate']),showmeans=True,flierprops={\"marker\":\"o\",\"markerfacecolor\":\"steelblue\"})\n",
    "axis[2].set_title('RealEstate')\n",
    "\n",
    "axis[3].boxplot(list(data['Dependents']),showmeans=True,flierprops={\"marker\":\"o\",\"markerfacecolor\":\"steelblue\"})\n",
    "axis[3].set_title('Dependents')\n",
    "plt.tight_layout(pad=1.5)\n",
    "plt.show()"
   ]
  },
  {
   "cell_type": "markdown",
   "id": "2dc44237",
   "metadata": {},
   "source": [
    "- 从上图可以看出，4列均有一定数量的异常值，且异常值分布在箱型图的其中一侧，暂时先不做处理，后续还有特征分箱环节，分箱可以直接将这些异常值限制在最右侧箱体中进行编码，而不会用到原始特征值，这样也可以起到处理异常值的作用"
   ]
  },
  {
   "cell_type": "markdown",
   "id": "9518afae",
   "metadata": {},
   "source": [
    "## 4.特征工程\n",
    "在传统的信用卡评分中，在特征工程环节，对特征往往采用\"分箱-WOE编码-通过IV值选择'流程进行处理"
   ]
  },
  {
   "cell_type": "markdown",
   "id": "2c1857b5",
   "metadata": {},
   "source": [
    "### 4.1特征相关性分析"
   ]
  },
  {
   "cell_type": "code",
   "execution_count": 46,
   "id": "704b45ab",
   "metadata": {},
   "outputs": [
    {
     "data": {
      "image/png": "[encoded data removed]",
      "text/plain": [
       "<Figure size 864x864 with 2 Axes>"
      ]
     },
     "metadata": {
      "needs_background": "light"
     },
     "output_type": "display_data"
    }
   ],
   "source": [
    "nu_fea=list(data.columns[1:])\n",
    "pearson_mat=data[nu_fea].corr(method='pearson')\n",
    "\n",
    "plt.figure(figsize=(12,12))\n",
    "sns.heatmap(pearson_mat,annot=True,square=True,cmap='Blues')\n",
    "plt.show()"
   ]
  },
  {
   "cell_type": "markdown",
   "id": "1c505694",
   "metadata": {},
   "source": [
    "- 可以观察到各个特征之间的相关性较小，可以初步判定特征之间不存在明显的多重共线性问题(相关性绝对值小于0.6），暂时不需要删除多余特征"
   ]
  },
  {
   "cell_type": "markdown",
   "id": "79c66605",
   "metadata": {},
   "source": [
    "### 4.2 新特征构建\n",
    "\n",
    "原始数据集中有10列特征，可以再构建一些新的连续值特征作为备选"
   ]
  },
  {
   "cell_type": "code",
   "execution_count": 49,
   "id": "31947bfe",
   "metadata": {},
   "outputs": [
    {
     "data": {
      "text/html": [
       "<div>\n",
       "<style scoped>\n",
       "    .dataframe tbody tr th:only-of-type {\n",
       "        vertical-align: middle;\n",
       "    }\n",
       "\n",
       "    .dataframe tbody tr th {\n",
       "        vertical-align: top;\n",
       "    }\n",
       "\n",
       "    .dataframe thead th {\n",
       "        text-align: right;\n",
       "    }\n",
       "</style>\n",
       "<table border=\"1\" class=\"dataframe\">\n",
       "  <thead>\n",
       "    <tr style=\"text-align: right;\">\n",
       "      <th></th>\n",
       "      <th>Label</th>\n",
       "      <th>RevolvingRatio</th>\n",
       "      <th>Age</th>\n",
       "      <th>30-59D</th>\n",
       "      <th>DebtRatio</th>\n",
       "      <th>MonthlyIncome</th>\n",
       "      <th>OpenL</th>\n",
       "      <th>90D</th>\n",
       "      <th>RealEstate</th>\n",
       "      <th>60-89D</th>\n",
       "      <th>Dependents</th>\n",
       "      <th>IncAvg</th>\n",
       "      <th>MonthlyDept</th>\n",
       "      <th>DeptAvg</th>\n",
       "    </tr>\n",
       "  </thead>\n",
       "  <tbody>\n",
       "    <tr>\n",
       "      <th>0</th>\n",
       "      <td>1</td>\n",
       "      <td>0.766127</td>\n",
       "      <td>45</td>\n",
       "      <td>2</td>\n",
       "      <td>0.802982</td>\n",
       "      <td>9120.0</td>\n",
       "      <td>13</td>\n",
       "      <td>0</td>\n",
       "      <td>6</td>\n",
       "      <td>0</td>\n",
       "      <td>2.0</td>\n",
       "      <td>3040.0</td>\n",
       "      <td>7323.197016</td>\n",
       "      <td>2441.065672</td>\n",
       "    </tr>\n",
       "    <tr>\n",
       "      <th>1</th>\n",
       "      <td>0</td>\n",
       "      <td>0.957151</td>\n",
       "      <td>40</td>\n",
       "      <td>0</td>\n",
       "      <td>0.121876</td>\n",
       "      <td>2600.0</td>\n",
       "      <td>4</td>\n",
       "      <td>0</td>\n",
       "      <td>0</td>\n",
       "      <td>0</td>\n",
       "      <td>1.0</td>\n",
       "      <td>1300.0</td>\n",
       "      <td>316.878123</td>\n",
       "      <td>158.439061</td>\n",
       "    </tr>\n",
       "    <tr>\n",
       "      <th>2</th>\n",
       "      <td>0</td>\n",
       "      <td>0.658180</td>\n",
       "      <td>38</td>\n",
       "      <td>1</td>\n",
       "      <td>0.085113</td>\n",
       "      <td>3042.0</td>\n",
       "      <td>2</td>\n",
       "      <td>1</td>\n",
       "      <td>0</td>\n",
       "      <td>0</td>\n",
       "      <td>0.0</td>\n",
       "      <td>3042.0</td>\n",
       "      <td>258.914887</td>\n",
       "      <td>258.914887</td>\n",
       "    </tr>\n",
       "    <tr>\n",
       "      <th>3</th>\n",
       "      <td>0</td>\n",
       "      <td>0.233810</td>\n",
       "      <td>30</td>\n",
       "      <td>0</td>\n",
       "      <td>0.036050</td>\n",
       "      <td>3300.0</td>\n",
       "      <td>5</td>\n",
       "      <td>0</td>\n",
       "      <td>0</td>\n",
       "      <td>0</td>\n",
       "      <td>0.0</td>\n",
       "      <td>3300.0</td>\n",
       "      <td>118.963951</td>\n",
       "      <td>118.963951</td>\n",
       "    </tr>\n",
       "    <tr>\n",
       "      <th>4</th>\n",
       "      <td>0</td>\n",
       "      <td>0.907239</td>\n",
       "      <td>49</td>\n",
       "      <td>1</td>\n",
       "      <td>0.024926</td>\n",
       "      <td>63588.0</td>\n",
       "      <td>7</td>\n",
       "      <td>0</td>\n",
       "      <td>1</td>\n",
       "      <td>0</td>\n",
       "      <td>0.0</td>\n",
       "      <td>63588.0</td>\n",
       "      <td>1584.975094</td>\n",
       "      <td>1584.975094</td>\n",
       "    </tr>\n",
       "  </tbody>\n",
       "</table>\n",
       "</div>"
      ],
      "text/plain": [
       "   Label  RevolvingRatio  Age  30-59D  DebtRatio  MonthlyIncome  OpenL  90D  \\\n",
       "0      1        0.766127   45       2   0.802982         9120.0     13    0   \n",
       "1      0        0.957151   40       0   0.121876         2600.0      4    0   \n",
       "2      0        0.658180   38       1   0.085113         3042.0      2    1   \n",
       "3      0        0.233810   30       0   0.036050         3300.0      5    0   \n",
       "4      0        0.907239   49       1   0.024926        63588.0      7    0   \n",
       "\n",
       "   RealEstate  60-89D  Dependents   IncAvg  MonthlyDept      DeptAvg  \n",
       "0           6       0         2.0   3040.0  7323.197016  2441.065672  \n",
       "1           0       0         1.0   1300.0   316.878123   158.439061  \n",
       "2           0       0         0.0   3042.0   258.914887   258.914887  \n",
       "3           0       0         0.0   3300.0   118.963951   118.963951  \n",
       "4           1       0         0.0  63588.0  1584.975094  1584.975094  "
      ]
     },
     "execution_count": 49,
     "metadata": {},
     "output_type": "execute_result"
    }
   ],
   "source": [
    "#IncAvg:家庭人均月收入\n",
    "data['IncAvg']=data['MonthlyIncome']/(data['Dependents']+1)\n",
    "#MonthlyDept:每月债务\n",
    "data['MonthlyDept']=data['MonthlyIncome']*data['DebtRatio']\n",
    "#DeptAvg:人均应偿还债务\n",
    "data['DeptAvg']=data['MonthlyDept']/(data['Dependents']+1)\n",
    "data.head()"
   ]
  },
  {
   "cell_type": "code",
   "execution_count": 50,
   "id": "d887f597",
   "metadata": {},
   "outputs": [
    {
     "name": "stdout",
     "output_type": "stream",
     "text": [
      "<class 'pandas.core.frame.DataFrame'>\n",
      "Int64Index: 149685 entries, 0 to 149999\n",
      "Data columns (total 14 columns):\n",
      " #   Column          Non-Null Count   Dtype  \n",
      "---  ------          --------------   -----  \n",
      " 0   Label           149685 non-null  int64  \n",
      " 1   RevolvingRatio  149685 non-null  float64\n",
      " 2   Age             149685 non-null  int64  \n",
      " 3   30-59D          149685 non-null  int64  \n",
      " 4   DebtRatio       149685 non-null  float64\n",
      " 5   MonthlyIncome   149685 non-null  float64\n",
      " 6   OpenL           149685 non-null  int64  \n",
      " 7   90D             149685 non-null  int64  \n",
      " 8   RealEstate      149685 non-null  int64  \n",
      " 9   60-89D          149685 non-null  int64  \n",
      " 10  Dependents      149685 non-null  float64\n",
      " 11  IncAvg          149685 non-null  float64\n",
      " 12  MonthlyDept     149685 non-null  float64\n",
      " 13  DeptAvg         149685 non-null  float64\n",
      "dtypes: float64(7), int64(7)\n",
      "memory usage: 17.1 MB\n"
     ]
    }
   ],
   "source": [
    "data.info()"
   ]
  },
  {
   "cell_type": "markdown",
   "id": "d42bcd5f",
   "metadata": {},
   "source": [
    "### 4.3分箱"
   ]
  },
  {
   "cell_type": "markdown",
   "id": "e3e88668",
   "metadata": {},
   "source": [
    "- 由于全是连续型特征，所以这里可以采用特征分箱进行处理"
   ]
  },
  {
   "cell_type": "markdown",
   "id": "020c1afa",
   "metadata": {},
   "source": [
    "- 这里采用最优分箱结合自定义分箱的方法进行处理"
   ]
  },
  {
   "cell_type": "markdown",
   "id": "c2e1e83f",
   "metadata": {},
   "source": [
    "#### 4.6.1 最优分箱"
   ]
  },
  {
   "cell_type": "code",
   "execution_count": 53,
   "id": "6105e8cb",
   "metadata": {},
   "outputs": [],
   "source": [
    "from scipy.stats import stats\n",
    "def optimal_bins(Y,X,n):\n",
    "    \"\"\"\n",
    "    param Y:目标变量\n",
    "    param X:待分箱特征\n",
    "    param n分箱数初始值\n",
    "    return 统计值，分享边界值列表，woe值，iv值\n",
    "    \n",
    "    \"\"\"\n",
    "    r=0\n",
    "    total_bad=Y.sum()\n",
    "    total_good=Y.count()-total_bad\n",
    "    #分箱过程\n",
    "    while np.abs(r)<1:\n",
    "        df1=pd.DataFrame({'X':X,'Y':Y,'bin':pd.qcut(X,n,duplicates='drop')})\n",
    "        df2=df1.groupby('bin')\n",
    "        r,p=stats.spearmanr(df2.mean().X,df2.mean().Y)\n",
    "        n=n-1\n",
    "    #计算woe值和iv值\n",
    "    df3=pd.DataFrame()\n",
    "    df3['min_'+X.name]=df2.min().X\n",
    "    df3['max_'+X.name]=df2.max().X\n",
    "    df3['sum']=df2.sum().Y\n",
    "    df3['total']=df2.count().Y\n",
    "    df3['rage']=df2.mean().Y\n",
    "    df3['badattr']=df3['sum']/total_bad\n",
    "    df3['goodattr']=(df3['total']-df3['sum'])/total_good\n",
    "    df3['woe']=np.log(df3['badattr']/df3['goodattr'])\n",
    "    iv=((df3['badattr']-df3['goodattr'])*df3['woe']).sum()\n",
    "    df3=df3.sort_values(by='min_'+X.name).reset_index(drop=True)\n",
    "    #分箱边界值列表\n",
    "    cut=[]\n",
    "    cut.append(float('-inf'))\n",
    "    for i in range(1,n+1):\n",
    "        qua=X.quantile(i/(n+1))\n",
    "        cut.append(round(qua,6))\n",
    "    cut.append(float('inf'))\n",
    "    woe=list(df3['woe'])\n",
    "    return df3,cut,woe,iv"
   ]
  },
  {
   "cell_type": "code",
   "execution_count": 55,
   "id": "a848d33e",
   "metadata": {},
   "outputs": [
    {
     "data": {
      "text/html": [
       "<div>\n",
       "<style scoped>\n",
       "    .dataframe tbody tr th:only-of-type {\n",
       "        vertical-align: middle;\n",
       "    }\n",
       "\n",
       "    .dataframe tbody tr th {\n",
       "        vertical-align: top;\n",
       "    }\n",
       "\n",
       "    .dataframe thead th {\n",
       "        text-align: right;\n",
       "    }\n",
       "</style>\n",
       "<table border=\"1\" class=\"dataframe\">\n",
       "  <thead>\n",
       "    <tr style=\"text-align: right;\">\n",
       "      <th></th>\n",
       "      <th>min_RevolvingRatio</th>\n",
       "      <th>max_RevolvingRatio</th>\n",
       "      <th>sum</th>\n",
       "      <th>total</th>\n",
       "      <th>rage</th>\n",
       "      <th>badattr</th>\n",
       "      <th>goodattr</th>\n",
       "      <th>woe</th>\n",
       "    </tr>\n",
       "  </thead>\n",
       "  <tbody>\n",
       "    <tr>\n",
       "      <th>0</th>\n",
       "      <td>0.000000</td>\n",
       "      <td>0.029805</td>\n",
       "      <td>687</td>\n",
       "      <td>37422</td>\n",
       "      <td>0.018358</td>\n",
       "      <td>0.069563</td>\n",
       "      <td>0.262751</td>\n",
       "      <td>-1.328981</td>\n",
       "    </tr>\n",
       "    <tr>\n",
       "      <th>1</th>\n",
       "      <td>0.029808</td>\n",
       "      <td>0.153559</td>\n",
       "      <td>744</td>\n",
       "      <td>37421</td>\n",
       "      <td>0.019882</td>\n",
       "      <td>0.075334</td>\n",
       "      <td>0.262336</td>\n",
       "      <td>-1.247694</td>\n",
       "    </tr>\n",
       "    <tr>\n",
       "      <th>2</th>\n",
       "      <td>0.153560</td>\n",
       "      <td>0.504270</td>\n",
       "      <td>2818</td>\n",
       "      <td>37421</td>\n",
       "      <td>0.075305</td>\n",
       "      <td>0.285338</td>\n",
       "      <td>0.247502</td>\n",
       "      <td>0.142257</td>\n",
       "    </tr>\n",
       "    <tr>\n",
       "      <th>3</th>\n",
       "      <td>0.504272</td>\n",
       "      <td>1.000000</td>\n",
       "      <td>5627</td>\n",
       "      <td>37421</td>\n",
       "      <td>0.150370</td>\n",
       "      <td>0.569765</td>\n",
       "      <td>0.227410</td>\n",
       "      <td>0.918468</td>\n",
       "    </tr>\n",
       "  </tbody>\n",
       "</table>\n",
       "</div>"
      ],
      "text/plain": [
       "   min_RevolvingRatio  max_RevolvingRatio   sum  total      rage   badattr  \\\n",
       "0            0.000000            0.029805   687  37422  0.018358  0.069563   \n",
       "1            0.029808            0.153559   744  37421  0.019882  0.075334   \n",
       "2            0.153560            0.504270  2818  37421  0.075305  0.285338   \n",
       "3            0.504272            1.000000  5627  37421  0.150370  0.569765   \n",
       "\n",
       "   goodattr       woe  \n",
       "0  0.262751 -1.328981  \n",
       "1  0.262336 -1.247694  \n",
       "2  0.247502  0.142257  \n",
       "3  0.227410  0.918468  "
      ]
     },
     "execution_count": 55,
     "metadata": {},
     "output_type": "execute_result"
    }
   ],
   "source": [
    "#观察RevolvingRatio特征分箱情况\n",
    "rrDf,cut_rr,woe_rr,iv_rr=optimal_bins(data.Label,data.RevolvingRatio,n=10)\n",
    "rrDf"
   ]
  },
  {
   "cell_type": "code",
   "execution_count": 56,
   "id": "69e9441b",
   "metadata": {},
   "outputs": [
    {
     "data": {
      "text/plain": [
       "[-inf, 0.029805, 0.153559, 0.50427, inf]"
      ]
     },
     "execution_count": 56,
     "metadata": {},
     "output_type": "execute_result"
    }
   ],
   "source": [
    "cut_rr"
   ]
  },
  {
   "cell_type": "code",
   "execution_count": 57,
   "id": "733b8706",
   "metadata": {},
   "outputs": [
    {
     "name": "stdout",
     "output_type": "stream",
     "text": [
      "MonthlyIncome特征分箱情况： [-inf, 3300.0, 6750.0, inf]\n",
      "Age特征分箱情况： [-inf, 33.0, 40.0, 45.0, 50.0, 54.0, 59.0, 64.0, 71.0, inf]\n",
      "DebtRatio特征分箱情况： [-inf, 0.238944, 0.312212, inf]\n"
     ]
    }
   ],
   "source": [
    "# MonthlyIncome特征\n",
    "miDf,cut_mi,woe_mi,iv_mi = optimal_bins(data.Label,data.MonthlyIncome,n=10)\n",
    "print(\"MonthlyIncome特征分箱情况：\", cut_mi)\n",
    "# Age特征\n",
    "ageDf,cut_age,woe_age,iv_age = optimal_bins(data.Label,data.Age,n=10)\n",
    "print(\"Age特征分箱情况：\", cut_age)\n",
    "# DebtRatio特征\n",
    "drDf,cut_dr,woe_dr,iv_dr = optimal_bins(data.Label,data.DebtRatio,10)\n",
    "print(\"DebtRatio特征分箱情况：\", cut_dr)"
   ]
  },
  {
   "cell_type": "code",
   "execution_count": 58,
   "id": "a5bef7f6",
   "metadata": {},
   "outputs": [
    {
     "name": "stdout",
     "output_type": "stream",
     "text": [
      "IncAvg特征特征分箱情况： [-inf, 1700.0, 2959.0, 5400.0, inf]\n",
      "MonthlyDept特征分箱情况： [-inf, inf]\n",
      "DeptAvg特征分箱情况： [-inf, 351.20217, 773.917466, 1591.840815, inf]\n"
     ]
    }
   ],
   "source": [
    "### 新特征\n",
    "# IncAvg特征\n",
    "newDf1,cut_new1,woe_new1,iv_new1 = optimal_bins(data.Label, data.IncAvg, 10)\n",
    "# MonthlyDept特征\n",
    "newDf2,cut_new2,woe_new2,iv_new2 = optimal_bins(data.Label, data.MonthlyDept, 10)\n",
    "# DeptAvg特征\n",
    "newDf3,cut_new3,woe_new3,iv_new3 = optimal_bins(data.Label, data.DeptAvg, 10)\n",
    "\n",
    "print(\"IncAvg特征特征分箱情况：\", cut_new1)\n",
    "print(\"MonthlyDept特征分箱情况：\", cut_new2)\n",
    "print(\"DeptAvg特征分箱情况：\", cut_new3)"
   ]
  },
  {
   "cell_type": "markdown",
   "id": "e18e8f00",
   "metadata": {},
   "source": [
    "- 可见三列中MonthlyDept不适合使用最优分箱方法，需要寻找新的分箱方法进行处理"
   ]
  },
  {
   "cell_type": "code",
   "execution_count": 59,
   "id": "76993f12",
   "metadata": {},
   "outputs": [
    {
     "name": "stdout",
     "output_type": "stream",
     "text": [
      "[-inf, 0.0, 0.0, 0.0, 0.0, 0.0, inf]\n",
      "[-inf, inf]\n",
      "[-inf, 0.0, 0.0, 0.0, 0.0, 0.0, 0.0, 0.0, 0.0, 0.0, inf]\n",
      "[-inf, 0.0, 0.0, 0.0, 0.0, 0.0, 0.0, 0.0, 0.0, 0.0, inf]\n",
      "[-inf, inf]\n",
      "[-inf, 0.0, 0.0, 0.0, 0.0, 0.0, 0.0, 1.0, 2.0, 2.0, inf]\n"
     ]
    }
   ],
   "source": [
    "df1,cut1,woe1,iv1 = optimal_bins(data.Label,data['30-59D'],n=10)\n",
    "print(cut1)\n",
    "df2,cut2,woe2,iv2 = optimal_bins(data.Label,data.OpenL,n=10)\n",
    "print(cut2)\n",
    "df3,cut3,woe3,iv3 = optimal_bins(data.Label,data['90D'],n=10)\n",
    "print(cut3)\n",
    "df4,cut4,woe4,iv4 = optimal_bins(data.Label,data['60-89D'],n=10)\n",
    "print(cut4)\n",
    "df5,cut5,woe5,iv5 = optimal_bins(data.Label,data.RealEstate,n=10)\n",
    "print(cut5)\n",
    "df6,cut6,woe6,iv6 = optimal_bins(data.Label,data.Dependents,n=10)\n",
    "print(cut6)"
   ]
  },
  {
   "cell_type": "markdown",
   "id": "26ba8b26",
   "metadata": {},
   "source": [
    "- 对于其他六列原始特征，用最优分箱计算效果同样较差"
   ]
  },
  {
   "cell_type": "markdown",
   "id": "65897b90",
   "metadata": {},
   "source": [
    "#### 4.6.2自定义分箱"
   ]
  },
  {
   "cell_type": "markdown",
   "id": "39858f33",
   "metadata": {},
   "source": [
    "- 原因可能是某些特征值占比过高，阈值设置不合适等等，因此不能满足最优分段的要求"
   ]
  },
  {
   "cell_type": "code",
   "execution_count": 65,
   "id": "89fdf912",
   "metadata": {},
   "outputs": [],
   "source": [
    "##自定义分享函数\n",
    "def custom_bins(Y,X,binList):\n",
    "    r=0\n",
    "    total_bad=Y.sum()\n",
    "    total_good=Y.count()-total_bad\n",
    "    #等距分箱\n",
    "    df1=pd.DataFrame({'X':X,'Y':Y,'bin':pd.cut(X,binList)})\n",
    "    df2=df1.groupby('bin',as_index=True)\n",
    "    r,p=stats.spearmanr(df2.mean().X,df2.mean().Y)\n",
    "    #计算woe值和iv值\n",
    "    df3=pd.DataFrame()\n",
    "    df3['min_'+X.name]=df2.min().X\n",
    "    df3['max_'+X.name]=df2.max().X\n",
    "    df3['sum']=df2.sum().Y\n",
    "    df3['total']=df2.count().Y\n",
    "    df3['rate']=df2.mean().Y\n",
    "    df3['badattr']=df3['sum']/total_bad\n",
    "    df3['goodattr']=(df3['total']-df3['sum'])/total_good\n",
    "    df3['woe']=np.log(df3['badattr']/df3['goodattr'])\n",
    "    iv=((df3['badattr']-df3['goodattr'])*df3['woe']).sum()\n",
    "    df3=df3.sort_values(by='min_'+X.name).reset_index(drop=True)\n",
    "    woe=list(df3['woe'])\n",
    "    return df3,woe,iv"
   ]
  },
  {
   "cell_type": "code",
   "execution_count": 61,
   "id": "0bcc6957",
   "metadata": {},
   "outputs": [],
   "source": [
    "ninf=float('-inf')\n",
    "pinf=float('inf')\n",
    "cut_thirty = [ninf, 0, 1, 3, 5, pinf]    # 30-59D特征\n",
    "cut_open = [ninf,1, 2, 3, 5, pinf]    # OpenL特征\n",
    "cut_ninety = [ninf, 0, 1, 3, 5, pinf]    # 90D特征\n",
    "cut_re = [ninf, 0, 1, 2, 3, pinf]    # RealEstate特征\n",
    "cut_sixty = [ninf, 0, 1, 3, pinf]    # 60-89D特征\n",
    "cut_dpt = [ninf, 0, 1, 2, 3, 5, pinf]    # Dependents特征"
   ]
  },
  {
   "cell_type": "code",
   "execution_count": 62,
   "id": "6cbb9273",
   "metadata": {},
   "outputs": [
    {
     "data": {
      "text/plain": [
       "count    149685.000000\n",
       "mean       1706.803818\n",
       "std        1739.175493\n",
       "min           0.000000\n",
       "25%         413.852301\n",
       "50%        1208.640180\n",
       "75%        2518.413491\n",
       "max       57086.823924\n",
       "Name: MonthlyDept, dtype: float64"
      ]
     },
     "execution_count": 62,
     "metadata": {},
     "output_type": "execute_result"
    }
   ],
   "source": [
    "#查看新特征统计\n",
    "data['MonthlyDept'].describe()"
   ]
  },
  {
   "cell_type": "code",
   "execution_count": 63,
   "id": "f68da265",
   "metadata": {},
   "outputs": [],
   "source": [
    "cut_new2=[ninf,414,1209,2519,pinf]"
   ]
  },
  {
   "cell_type": "code",
   "execution_count": 66,
   "id": "26ce8e74",
   "metadata": {},
   "outputs": [],
   "source": [
    "### 计算统计值、woe和iv\n",
    "thirtyDf, woe_thirty, iv_thirty = custom_bins(data.Label, data['30-59D'], cut_thirty)    # 30-59D特征\n",
    "openDf, woe_open, iv_open = custom_bins(data.Label, data.OpenL, cut_open)    # OpenL特征\n",
    "ninetyDf, woe_ninety, iv_ninety = custom_bins(data.Label, data['90D'], cut_ninety)    # 90D特征\n",
    "reDf, woe_re, iv_re = custom_bins(data.Label, data.RealEstate, cut_re)    # RealEstate特征\n",
    "sixtyDf, woe_sixty, iv_sixty = custom_bins(data.Label, data['60-89D'], cut_sixty)    # 60-89D特征\n",
    "dptDf, woe_dpt, iv_dpt = custom_bins(data.Label, data.Dependents, cut_dpt)    # Dependents特征\n",
    "newDf2, woe_new2, iv_new2 = custom_bins(data.Label, data.MonthlyDept, cut_new2)    # 新特征MonthlyDept"
   ]
  },
  {
   "cell_type": "markdown",
   "id": "c66b1e43",
   "metadata": {},
   "source": [
    "#### 4.6.3 IV值筛选特征"
   ]
  },
  {
   "cell_type": "code",
   "execution_count": 67,
   "id": "17c5c0d2",
   "metadata": {},
   "outputs": [
    {
     "data": {
      "text/html": [
       "<div>\n",
       "<style scoped>\n",
       "    .dataframe tbody tr th:only-of-type {\n",
       "        vertical-align: middle;\n",
       "    }\n",
       "\n",
       "    .dataframe tbody tr th {\n",
       "        vertical-align: top;\n",
       "    }\n",
       "\n",
       "    .dataframe thead th {\n",
       "        text-align: right;\n",
       "    }\n",
       "</style>\n",
       "<table border=\"1\" class=\"dataframe\">\n",
       "  <thead>\n",
       "    <tr style=\"text-align: right;\">\n",
       "      <th></th>\n",
       "      <th>feature</th>\n",
       "      <th>iv</th>\n",
       "    </tr>\n",
       "  </thead>\n",
       "  <tbody>\n",
       "    <tr>\n",
       "      <th>0</th>\n",
       "      <td>90D</td>\n",
       "      <td>0.847691</td>\n",
       "    </tr>\n",
       "    <tr>\n",
       "      <th>1</th>\n",
       "      <td>RevolvingRatio</td>\n",
       "      <td>0.809891</td>\n",
       "    </tr>\n",
       "    <tr>\n",
       "      <th>2</th>\n",
       "      <td>30-59D</td>\n",
       "      <td>0.723697</td>\n",
       "    </tr>\n",
       "    <tr>\n",
       "      <th>3</th>\n",
       "      <td>60-89D</td>\n",
       "      <td>0.566693</td>\n",
       "    </tr>\n",
       "    <tr>\n",
       "      <th>4</th>\n",
       "      <td>Age</td>\n",
       "      <td>0.251094</td>\n",
       "    </tr>\n",
       "    <tr>\n",
       "      <th>5</th>\n",
       "      <td>IncAvg</td>\n",
       "      <td>0.075329</td>\n",
       "    </tr>\n",
       "    <tr>\n",
       "      <th>6</th>\n",
       "      <td>OpenL</td>\n",
       "      <td>0.070119</td>\n",
       "    </tr>\n",
       "    <tr>\n",
       "      <th>7</th>\n",
       "      <td>RealEstate</td>\n",
       "      <td>0.05617</td>\n",
       "    </tr>\n",
       "    <tr>\n",
       "      <th>8</th>\n",
       "      <td>MonthlyIncome</td>\n",
       "      <td>0.042346</td>\n",
       "    </tr>\n",
       "    <tr>\n",
       "      <th>9</th>\n",
       "      <td>Dependents</td>\n",
       "      <td>0.03729</td>\n",
       "    </tr>\n",
       "    <tr>\n",
       "      <th>10</th>\n",
       "      <td>DebtRatio</td>\n",
       "      <td>0.021906</td>\n",
       "    </tr>\n",
       "    <tr>\n",
       "      <th>11</th>\n",
       "      <td>DeptAvg</td>\n",
       "      <td>0.004912</td>\n",
       "    </tr>\n",
       "    <tr>\n",
       "      <th>12</th>\n",
       "      <td>MonthlyDept</td>\n",
       "      <td>0.002632</td>\n",
       "    </tr>\n",
       "  </tbody>\n",
       "</table>\n",
       "</div>"
      ],
      "text/plain": [
       "           feature        iv\n",
       "0              90D  0.847691\n",
       "1   RevolvingRatio  0.809891\n",
       "2           30-59D  0.723697\n",
       "3           60-89D  0.566693\n",
       "4              Age  0.251094\n",
       "5           IncAvg  0.075329\n",
       "6            OpenL  0.070119\n",
       "7       RealEstate   0.05617\n",
       "8    MonthlyIncome  0.042346\n",
       "9       Dependents   0.03729\n",
       "10       DebtRatio  0.021906\n",
       "11         DeptAvg  0.004912\n",
       "12     MonthlyDept  0.002632"
      ]
     },
     "execution_count": 67,
     "metadata": {},
     "output_type": "execute_result"
    }
   ],
   "source": [
    "#查看Iv值\n",
    "ivDf=pd.DataFrame(columns=['feature','iv'])\n",
    "fealist=list(data.columns[1:])\n",
    "ivList=[iv_rr, iv_age, iv_thirty, iv_dr, iv_mi, iv_open, iv_ninety, iv_re, iv_sixty, iv_dpt, iv_new1, iv_new2, iv_new3]\n",
    "for i,x in enumerate(fealist):\n",
    "    ivDf.loc[i,'feature']=x\n",
    "    ivDf.loc[i,'iv']=ivList[i]\n",
    "ivDf=ivDf.sort_values(by='iv',ascending=False).reset_index(drop=True)\n",
    "ivDf"
   ]
  },
  {
   "cell_type": "markdown",
   "id": "15b3a3d4",
   "metadata": {},
   "source": [
    "- 根据iv值表格，小于0.1的特征可视为弱特征，由于评分卡需要的特征可以较少，所以这里舍去iv值小于0.1的特征"
   ]
  },
  {
   "cell_type": "code",
   "execution_count": 71,
   "id": "7596a3d7",
   "metadata": {},
   "outputs": [
    {
     "data": {
      "text/html": [
       "<div>\n",
       "<style scoped>\n",
       "    .dataframe tbody tr th:only-of-type {\n",
       "        vertical-align: middle;\n",
       "    }\n",
       "\n",
       "    .dataframe tbody tr th {\n",
       "        vertical-align: top;\n",
       "    }\n",
       "\n",
       "    .dataframe thead th {\n",
       "        text-align: right;\n",
       "    }\n",
       "</style>\n",
       "<table border=\"1\" class=\"dataframe\">\n",
       "  <thead>\n",
       "    <tr style=\"text-align: right;\">\n",
       "      <th></th>\n",
       "      <th>Label</th>\n",
       "      <th>90D</th>\n",
       "      <th>RevolvingRatio</th>\n",
       "      <th>30-59D</th>\n",
       "      <th>60-89D</th>\n",
       "      <th>Age</th>\n",
       "    </tr>\n",
       "  </thead>\n",
       "  <tbody>\n",
       "    <tr>\n",
       "      <th>0</th>\n",
       "      <td>1</td>\n",
       "      <td>-0.375976</td>\n",
       "      <td>0.918468</td>\n",
       "      <td>1.750354</td>\n",
       "      <td>-0.274423</td>\n",
       "      <td>0.559978</td>\n",
       "    </tr>\n",
       "    <tr>\n",
       "      <th>1</th>\n",
       "      <td>0</td>\n",
       "      <td>-0.375976</td>\n",
       "      <td>0.918468</td>\n",
       "      <td>-0.527686</td>\n",
       "      <td>-0.274423</td>\n",
       "      <td>0.559978</td>\n",
       "    </tr>\n",
       "    <tr>\n",
       "      <th>2</th>\n",
       "      <td>0</td>\n",
       "      <td>2.740239</td>\n",
       "      <td>0.918468</td>\n",
       "      <td>0.917280</td>\n",
       "      <td>-0.274423</td>\n",
       "      <td>0.559978</td>\n",
       "    </tr>\n",
       "    <tr>\n",
       "      <th>3</th>\n",
       "      <td>0</td>\n",
       "      <td>-0.375976</td>\n",
       "      <td>-1.247694</td>\n",
       "      <td>-0.527686</td>\n",
       "      <td>-0.274423</td>\n",
       "      <td>0.559978</td>\n",
       "    </tr>\n",
       "    <tr>\n",
       "      <th>4</th>\n",
       "      <td>0</td>\n",
       "      <td>-0.375976</td>\n",
       "      <td>0.918468</td>\n",
       "      <td>0.917280</td>\n",
       "      <td>-0.274423</td>\n",
       "      <td>0.559978</td>\n",
       "    </tr>\n",
       "    <tr>\n",
       "      <th>5</th>\n",
       "      <td>0</td>\n",
       "      <td>-0.375976</td>\n",
       "      <td>-1.247694</td>\n",
       "      <td>-0.527686</td>\n",
       "      <td>-0.274423</td>\n",
       "      <td>0.559978</td>\n",
       "    </tr>\n",
       "    <tr>\n",
       "      <th>6</th>\n",
       "      <td>0</td>\n",
       "      <td>-0.375976</td>\n",
       "      <td>-1.247694</td>\n",
       "      <td>-0.527686</td>\n",
       "      <td>-0.274423</td>\n",
       "      <td>0.559978</td>\n",
       "    </tr>\n",
       "    <tr>\n",
       "      <th>7</th>\n",
       "      <td>0</td>\n",
       "      <td>-0.375976</td>\n",
       "      <td>0.918468</td>\n",
       "      <td>-0.527686</td>\n",
       "      <td>-0.274423</td>\n",
       "      <td>0.559978</td>\n",
       "    </tr>\n",
       "    <tr>\n",
       "      <th>8</th>\n",
       "      <td>0</td>\n",
       "      <td>-0.375976</td>\n",
       "      <td>-1.328981</td>\n",
       "      <td>-0.527686</td>\n",
       "      <td>-0.274423</td>\n",
       "      <td>0.559978</td>\n",
       "    </tr>\n",
       "    <tr>\n",
       "      <th>9</th>\n",
       "      <td>0</td>\n",
       "      <td>-0.375976</td>\n",
       "      <td>-1.247694</td>\n",
       "      <td>-0.527686</td>\n",
       "      <td>-0.274423</td>\n",
       "      <td>0.559978</td>\n",
       "    </tr>\n",
       "  </tbody>\n",
       "</table>\n",
       "</div>"
      ],
      "text/plain": [
       "   Label       90D RevolvingRatio    30-59D    60-89D       Age\n",
       "0      1 -0.375976       0.918468  1.750354 -0.274423  0.559978\n",
       "1      0 -0.375976       0.918468 -0.527686 -0.274423  0.559978\n",
       "2      0  2.740239       0.918468  0.917280 -0.274423  0.559978\n",
       "3      0 -0.375976      -1.247694 -0.527686 -0.274423  0.559978\n",
       "4      0 -0.375976       0.918468  0.917280 -0.274423  0.559978\n",
       "5      0 -0.375976      -1.247694 -0.527686 -0.274423  0.559978\n",
       "6      0 -0.375976      -1.247694 -0.527686 -0.274423  0.559978\n",
       "7      0 -0.375976       0.918468 -0.527686 -0.274423  0.559978\n",
       "8      0 -0.375976      -1.328981 -0.527686 -0.274423  0.559978\n",
       "9      0 -0.375976      -1.247694 -0.527686 -0.274423  0.559978"
      ]
     },
     "execution_count": 71,
     "metadata": {},
     "output_type": "execute_result"
    }
   ],
   "source": [
    "### WOE编码\n",
    "data['90D'] = pd.cut(data['90D'], bins=cut_ninety, labels=woe_ninety)    # 90D特征\n",
    "data['RevolvingRatio'] = pd.cut(data['RevolvingRatio'], bins=cut_rr, labels=woe_rr)    # RevolvingRatio特征\n",
    "data['30-59D'] = pd.cut(data['30-59D'], bins=cut_thirty, labels=woe_thirty)    # 30-59D特征\n",
    "data['60-89D'] = pd.cut(data['60-89D'], bins=cut_sixty, labels=woe_sixty)    # 60-89D特征\n",
    "data['Age'] = pd.cut(data['Age'], bins=cut_age, labels=woe_age)    # Age特征\n",
    "\n",
    "# 特征选择\n",
    "data = data[['Label', '90D', 'RevolvingRatio', '30-59D', '60-89D', 'Age']]    \n",
    "data.head(10)    # 此时的数据集"
   ]
  },
  {
   "cell_type": "markdown",
   "id": "525c1180",
   "metadata": {},
   "source": [
    "## 5. 算法模型构建"
   ]
  },
  {
   "cell_type": "markdown",
   "id": "9f8eddc4",
   "metadata": {},
   "source": [
    "### 5.1划分数据集\n"
   ]
  },
  {
   "cell_type": "code",
   "execution_count": 74,
   "id": "8672e280",
   "metadata": {},
   "outputs": [],
   "source": [
    "from sklearn.model_selection import train_test_split\n",
    "X=data.iloc[:,1:]\n",
    "y=data.iloc[:,0]\n",
    "X_train,X_test,y_train,y_test=train_test_split(X,y,test_size=0.2,random_state=0)"
   ]
  },
  {
   "cell_type": "markdown",
   "id": "3017fc00",
   "metadata": {},
   "source": [
    "### 5.2逻辑回归"
   ]
  },
  {
   "cell_type": "code",
   "execution_count": 76,
   "id": "a77ff656",
   "metadata": {},
   "outputs": [],
   "source": [
    "from sklearn.linear_model import LogisticRegression\n",
    "\n",
    "model1=LogisticRegression()\n",
    "clf1=model1.fit(X_train,y_train)\n",
    "y_pred1=clf1.predict(X_test)\n",
    "y_score1=model1.decision_function(X_test)"
   ]
  },
  {
   "cell_type": "markdown",
   "id": "4ffc2698",
   "metadata": {},
   "source": [
    "## 6.模型评估"
   ]
  },
  {
   "cell_type": "code",
   "execution_count": 78,
   "id": "95d51305",
   "metadata": {},
   "outputs": [
    {
     "data": {
      "image/png": "[encoded data removed]",
      "text/plain": [
       "<Figure size 432x288 with 1 Axes>"
      ]
     },
     "metadata": {
      "needs_background": "light"
     },
     "output_type": "display_data"
    }
   ],
   "source": [
    "from sklearn.metrics import roc_curve,auc\n",
    "\n",
    "fpr1,tpr1,threshold1=roc_curve(y_test,y_score1)\n",
    "auc_values1=auc(fpr1,tpr1)\n",
    "\n",
    "plt.figure()\n",
    "plt.plot(fpr1,tpr1,label='AUC=% 0.2f'%auc_values1)\n",
    "plt.legend()\n",
    "plt.plot([0,1],[0,1],'r--')\n",
    "plt.xlim([0,1])\n",
    "plt.ylim([0,1])\n",
    "plt.xlabel('FPR')\n",
    "plt.ylabel('TPR')\n",
    "plt.show()"
   ]
  },
  {
   "cell_type": "markdown",
   "id": "06ec5079",
   "metadata": {},
   "source": [
    "- 由此可见，模型预测的效果很好"
   ]
  },
  {
   "cell_type": "code",
   "execution_count": null,
   "id": "9e992984",
   "metadata": {},
   "outputs": [],
   "source": []
  }
 ],
 "metadata": {
  "kernelspec": {
   "display_name": "Python 3 (ipykernel)",
   "language": "python",
   "name": "python3"
  },
  "language_info": {
   "codemirror_mode": {
    "name": "ipython",
    "version": 3
   },
   "file_extension": ".py",
   "mimetype": "text/x-python",
   "name": "python",
   "nbconvert_exporter": "python",
   "pygments_lexer": "ipython3",
   "version": "3.9.7"
  }
 },
 "nbformat": 4,
 "nbformat_minor": 5
}
